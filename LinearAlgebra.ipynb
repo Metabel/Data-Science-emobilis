{
  "nbformat": 4,
  "nbformat_minor": 0,
  "metadata": {
    "colab": {
      "provenance": []
    },
    "kernelspec": {
      "name": "python3",
      "display_name": "Python 3"
    },
    "language_info": {
      "name": "python"
    }
  },
  "cells": [
    {
      "cell_type": "markdown",
      "source": [
        "#Vectors and Matrrices\n",
        "Linear algebra is a branch of mathematics that deals with vectors,matrices and linear transformations. It plays a crucial role in datascience, particularly in machine learning where ir is used to perform various operations on data."
      ],
      "metadata": {
        "id": "shMtMKZ6GHXX"
      }
    },
    {
      "cell_type": "markdown",
      "source": [
        "#Vectors\n",
        "-A vector is an ordered collection of numbers, which can represent a point in space or a set of values.\n",
        "-A vector is often denoted by a  bold letter(printed text) OR a lowercase letter with an arrow on top.(written text)."
      ],
      "metadata": {
        "id": "XUB2BaUWHcTY"
      }
    },
    {
      "cell_type": "code",
      "source": [
        "import numpy as np\n",
        "\n",
        "vector_2d = np.array([2,3])\n",
        "print(vector_2d)"
      ],
      "metadata": {
        "colab": {
          "base_uri": "https://localhost:8080/"
        },
        "id": "WOVojKBSILfT",
        "outputId": "c6bdb761-68de-4f15-8eb6-0caf3f8ba0a4"
      },
      "execution_count": null,
      "outputs": [
        {
          "output_type": "stream",
          "name": "stdout",
          "text": [
            "[2 3]\n"
          ]
        }
      ]
    },
    {
      "cell_type": "markdown",
      "source": [
        "Vector Addition\n",
        "\n",
        ". vectors of the same dmension can be added element-wise."
      ],
      "metadata": {
        "id": "IPwl1j6-JHrr"
      }
    },
    {
      "cell_type": "code",
      "source": [
        "vector_1 = np.array([1,2,3])\n",
        "vector_2 = np.array([4,5,6])\n",
        "\n",
        "vector_sum = vector_1 + vector_2\n",
        "print(vector_sum)"
      ],
      "metadata": {
        "colab": {
          "base_uri": "https://localhost:8080/"
        },
        "id": "Y0X6nFfVLAGc",
        "outputId": "be2f478b-576f-4cbb-e826-8911a1dca7b3"
      },
      "execution_count": null,
      "outputs": [
        {
          "output_type": "stream",
          "name": "stdout",
          "text": [
            "[5 7 9]\n"
          ]
        }
      ]
    },
    {
      "cell_type": "markdown",
      "source": [
        "Scalar multiplication"
      ],
      "metadata": {
        "id": "O-AmyYMVLMUo"
      }
    },
    {
      "cell_type": "code",
      "source": [
        "vector_1 =np.array([1,2,3])\n",
        "scalar_digit = 3\n",
        "\n",
        "print(vector_1* scalar_digit)"
      ],
      "metadata": {
        "colab": {
          "base_uri": "https://localhost:8080/"
        },
        "id": "miUsPY-2Lcop",
        "outputId": "7fc1e88a-a827-4724-c297-e997a21b8657"
      },
      "execution_count": null,
      "outputs": [
        {
          "output_type": "stream",
          "name": "stdout",
          "text": [
            "[3 6 9]\n"
          ]
        }
      ]
    },
    {
      "cell_type": "markdown",
      "source": [
        "Dot product(multiplication)"
      ],
      "metadata": {
        "id": "Bm4EE-JULxlv"
      }
    },
    {
      "cell_type": "markdown",
      "source": [
        "#Matrices\n",
        "-A matrix is a rectangular array of numbers that are arranged in rows and columns. It can represent linear transformations, data and etc.\n",
        "\n",
        "-A matrix is denoted by a capital letter such as A, B or C. The elments within a matrix are enclosed in a square bracket or parentheses. The dimensions of a matrix are specified by the number of rows and columns."
      ],
      "metadata": {
        "id": "ZIdbQUsYMZEe"
      }
    },
    {
      "cell_type": "code",
      "source": [
        "matrix_3_by_3 = np.array([\n",
        "    [1,2,3],\n",
        "    [4,5,6],\n",
        "    [7,8,9],\n",
        "])\n",
        "print(matrix_3_by_3)\n",
        "print(matrix_3_by_3[0][1][0])"
      ],
      "metadata": {
        "id": "obgLIOceOiBf"
      },
      "execution_count": null,
      "outputs": []
    },
    {
      "cell_type": "markdown",
      "source": [
        "Matrix addition\n",
        "\n",
        "-Matrices of the same dimension can be added element wise.\n"
      ],
      "metadata": {
        "id": "FG4nBMMBPhp5"
      }
    },
    {
      "cell_type": "code",
      "source": [
        "matrix_A = np.array([\n",
        "    [1,2],\n",
        "    [3,4]\n",
        "])\n",
        "matrix_B = np.array([\n",
        "    [5,6],\n",
        "    [7,8]\n",
        "])\n",
        "\n",
        "print(matrix_A + matrix_B)"
      ],
      "metadata": {
        "colab": {
          "base_uri": "https://localhost:8080/"
        },
        "id": "2KVkuQgdP1Q6",
        "outputId": "820139f8-ad80-4d5c-9219-837db1ce1278"
      },
      "execution_count": null,
      "outputs": [
        {
          "output_type": "stream",
          "name": "stdout",
          "text": [
            "[[ 6  8]\n",
            " [10 12]]\n"
          ]
        }
      ]
    },
    {
      "cell_type": "code",
      "source": [
        "#indices start from 0\n",
        "#rows before columns\n",
        "print(matrix_A[1][1])"
      ],
      "metadata": {
        "colab": {
          "base_uri": "https://localhost:8080/"
        },
        "id": "dWglqQ5ORK7A",
        "outputId": "d54df4b6-5161-431e-ca71-e7a1b1d48b0c"
      },
      "execution_count": null,
      "outputs": [
        {
          "output_type": "stream",
          "name": "stdout",
          "text": [
            "4\n"
          ]
        }
      ]
    },
    {
      "cell_type": "markdown",
      "source": [
        "Matrix Multiplication\n",
        ".Multiplication - element wise multiplication\n",
        "\n",
        ".Dot product"
      ],
      "metadata": {
        "id": "cMLF1xmoQxYG"
      }
    },
    {
      "cell_type": "code",
      "source": [
        "matrix_A = np.array([\n",
        "    [1,2],\n",
        "    [3,4]\n",
        "])\n",
        "matrix_B = np.array([\n",
        "    [5,6],\n",
        "    [7,8]\n",
        "])\n",
        "\n",
        "print(matrix_A * matrix_B)\n"
      ],
      "metadata": {
        "colab": {
          "base_uri": "https://localhost:8080/"
        },
        "id": "xT3arHW9RnZM",
        "outputId": "9e24b7cc-df92-45f5-8bb5-e43e06bac01b"
      },
      "execution_count": null,
      "outputs": [
        {
          "output_type": "stream",
          "name": "stdout",
          "text": [
            "[[ 5 12]\n",
            " [21 32]]\n"
          ]
        }
      ]
    },
    {
      "cell_type": "markdown",
      "source": [
        "Create a pythin function that takes in two 2*2 matrices and computes their dot product. Do not use the .dot()"
      ],
      "metadata": {
        "id": "_lxAMUs1WVd6"
      }
    },
    {
      "cell_type": "code",
      "source": [
        "\n",
        "\n",
        "def calculate_dot_product(matrix_1, matrix_2):\n",
        "  a = (matrix_1[0][0])\n",
        "  b = (matrix_1[0][1])\n",
        "  c = (matrix_1[1][0])\n",
        "  d = (matrix_1[1][1])\n",
        "\n",
        "  e = (matrix_2[0][0])\n",
        "  f = (matrix_2[0][1])\n",
        "  g = (matrix_2[1][0])\n",
        "  h = (matrix_2[1][1])\n",
        "\n",
        "  one = a*e + b*g\n",
        "  two = a*f + b*h\n",
        "  three = c*e + d*g\n",
        "  four = c*f + d*h\n",
        "\n",
        "\n",
        "  result = ([a*e + b*g, a*f + b*h],\n",
        "            [c*e + d*g, c*f + d*h])\n",
        "  return np.array(result)\n",
        "\n",
        "matrix_A = ([\n",
        "    [1,2],\n",
        "    [3,4]\n",
        "])\n",
        "\n",
        "matrix_B = ([\n",
        "    [5,6],\n",
        "    [7,8]\n",
        "])\n",
        "\n",
        "result= calculate_dot_product(matrix_A, matrix_B)\n",
        "print(result)\n"
      ],
      "metadata": {
        "colab": {
          "base_uri": "https://localhost:8080/"
        },
        "id": "vFKgK7s-VGbX",
        "outputId": "b9dac0b7-27ff-46e8-b760-de32efce8e69"
      },
      "execution_count": null,
      "outputs": [
        {
          "output_type": "stream",
          "name": "stdout",
          "text": [
            "[[19 22]\n",
            " [43 50]]\n"
          ]
        }
      ]
    },
    {
      "cell_type": "markdown",
      "source": [
        "3*3 matrix"
      ],
      "metadata": {
        "id": "spUbjyQv6P3i"
      }
    },
    {
      "cell_type": "code",
      "source": [
        "import numpy as np\n",
        "\n",
        "def calculate_dot_product(matrix_1, matrix_2):\n",
        "\n",
        "    a = matrix_1[0][0]\n",
        "    b = matrix_1[0][1]\n",
        "    c = matrix_1[0][2]\n",
        "    d = matrix_1[1][0]\n",
        "    e = matrix_1[1][1]\n",
        "    f = matrix_1[1][2]\n",
        "    g = matrix_1[2][0]\n",
        "    h = matrix_1[2][1]\n",
        "    i = matrix_1[2][2]\n",
        "\n",
        "\n",
        "    j = matrix_2[0][0]\n",
        "    k = matrix_2[0][1]\n",
        "    l = matrix_2[0][2]\n",
        "    m = matrix_2[1][0]\n",
        "    n = matrix_2[1][1]\n",
        "    o = matrix_2[1][2]\n",
        "    p = matrix_2[2][0]\n",
        "    q = matrix_2[2][1]\n",
        "    r = matrix_2[2][2]\n",
        "\n",
        "\n",
        "    one   = a*j + b*m + c*p\n",
        "    two   = a*k + b*n + c*q\n",
        "    three = a*l + b*o + c*r\n",
        "\n",
        "    four  = d*j + e*m + f*p\n",
        "    five  = d*k + e*n + f*q\n",
        "    six   = d*l + e*o + f*r\n",
        "\n",
        "    seven = g*j + h*m + i*p\n",
        "    eight = g*k + h*n + i*q\n",
        "    nine  = g*l + h*o + i*r\n",
        "\n",
        "\n",
        "    result = ([one, two, three],\n",
        "              [four, five, six],\n",
        "              [seven, eight, nine])\n",
        "\n",
        "    return np.array(result)\n",
        "\n",
        "\n",
        "\n",
        "matrix_A = [\n",
        "    [1, 2, 3],\n",
        "    [4, 5, 6],\n",
        "    [7, 8, 9]\n",
        "]\n",
        "\n",
        "matrix_B = [\n",
        "    [9, 8, 7],\n",
        "    [6, 5, 4],\n",
        "    [3, 2, 1]\n",
        "]\n",
        "\n",
        "result = calculate_dot_product(matrix_A, matrix_B)\n",
        "print(result)\n"
      ],
      "metadata": {
        "colab": {
          "base_uri": "https://localhost:8080/"
        },
        "id": "PsTqRdAtM4fR",
        "outputId": "c45f298b-746b-45d1-faa0-b2fce7ffea3e"
      },
      "execution_count": null,
      "outputs": [
        {
          "output_type": "stream",
          "name": "stdout",
          "text": [
            "[[ 30  24  18]\n",
            " [ 84  69  54]\n",
            " [138 114  90]]\n"
          ]
        }
      ]
    },
    {
      "cell_type": "markdown",
      "source": [
        "Identity Matrix - square matrix(has same no of rows and columns)where all values in main diagonal are 1 and all other values are 0.\n"
      ],
      "metadata": {
        "id": "C7kjl81WW-97"
      }
    },
    {
      "cell_type": "code",
      "source": [
        "print(np.eye(3))"
      ],
      "metadata": {
        "colab": {
          "base_uri": "https://localhost:8080/"
        },
        "id": "4mQ7fdPSXbCT",
        "outputId": "62818917-df51-4719-f307-bcf1fd6f0c66"
      },
      "execution_count": null,
      "outputs": [
        {
          "output_type": "stream",
          "name": "stdout",
          "text": [
            "[[1. 0. 0.]\n",
            " [0. 1. 0.]\n",
            " [0. 0. 1.]]\n"
          ]
        }
      ]
    },
    {
      "cell_type": "markdown",
      "source": [
        "\n",
        "\n",
        "\n"
      ],
      "metadata": {
        "id": "CX0npbWWYFb_"
      }
    },
    {
      "cell_type": "markdown",
      "source": [
        "Inverse of a matrix\n",
        "\n",
        ". For a matrix A , the inverse A*-1 is such that  AA*-1 = identity matrix"
      ],
      "metadata": {
        "id": "xQA224L1YgB4"
      }
    },
    {
      "cell_type": "code",
      "source": [
        "matrix_A= np.array([\n",
        "    [7,2],\n",
        "    [17,5]\n",
        "])\n",
        "inverse_matrix_A = np.linalg.inv(matrix_A)\n",
        "print(inverse_matrix_A)\n",
        "#print(matrix_A.shape[1])"
      ],
      "metadata": {
        "colab": {
          "base_uri": "https://localhost:8080/"
        },
        "id": "_lEPlZZIZGxe",
        "outputId": "3b27fa5b-4e94-4de5-a7d0-4ea5118c0aac"
      },
      "execution_count": null,
      "outputs": [
        {
          "output_type": "stream",
          "name": "stdout",
          "text": [
            "[[  5.  -2.]\n",
            " [-17.   7.]]\n",
            "2\n"
          ]
        }
      ]
    },
    {
      "cell_type": "markdown",
      "source": [
        "inverse = 1/determinant*(main diagonal swapped ,other diagonals negated).\n",
        "\n",
        "Determinant = difference of the product of the main diagonal and other diagonal\n",
        "\n",
        "\n"
      ],
      "metadata": {
        "id": "xKUKigSnaK8_"
      }
    },
    {
      "cell_type": "code",
      "source": [
        "import numpy as np\n",
        "\n",
        "def calculate_inverse_2x2(matrix):\n",
        "\n",
        "  a, b = matrix[0]\n",
        "  c, d = matrix[1]\n",
        "\n",
        "  determinant = a * d - b * c\n",
        "\n",
        "  if determinant == 0:\n",
        "    return \"The matrix is not invertible.\"\n",
        "\n",
        "  inverse_determinant = 1 / determinant\n",
        "\n",
        "\n",
        "  inverse_matrix = np.array([\n",
        "      [d, -b],\n",
        "      [-c, a]\n",
        "  ]) * inverse_determinant\n",
        "\n",
        "  return inverse_matrix\n",
        "\n",
        "matrix_A = np.array([\n",
        "    [7, 2],\n",
        "    [17, 5]\n",
        "])\n",
        "\n",
        "inverse_A = calculate_inverse_2x2(matrix_A)\n",
        "print(inverse_A)\n",
        "\n",
        "matrix_B = np.array([\n",
        "    [1, 2],\n",
        "    [3, 4]\n",
        "])\n",
        "\n",
        "inverse_B = calculate_inverse_2x2(matrix_B)\n",
        "print(inverse_B)"
      ],
      "metadata": {
        "colab": {
          "base_uri": "https://localhost:8080/"
        },
        "id": "cUn4o8tSdAQr",
        "outputId": "4033813c-6f60-45ae-adbb-8275f23e4951"
      },
      "execution_count": null,
      "outputs": [
        {
          "output_type": "stream",
          "name": "stdout",
          "text": [
            "[[  5.  -2.]\n",
            " [-17.   7.]]\n",
            "[[-2.   1. ]\n",
            " [ 1.5 -0.5]]\n"
          ]
        }
      ]
    },
    {
      "cell_type": "markdown",
      "source": [
        "1. Create a python function that takes in a single matrix parameter and checks whether it is an identity matrix or not.\n",
        "\n",
        "For matrices, to check whether 2 matrices are equal to each other we do not use ==, rather use np.array_equal(matrix_A,matrix_B)\n",
        "\n",
        "2. Define a python function that calculates the inverse of a 2*2 matrix."
      ],
      "metadata": {
        "id": "_IrHsbXYbLDB"
      }
    },
    {
      "cell_type": "code",
      "source": [
        "import numpy as np\n",
        "\n",
        "def is_identity(matrix_A):\n",
        "  rows = matrix_A.shape[0]\n",
        "  columns = matrix_A.shape[1]\n",
        "  if rows == columns:\n",
        "    id_matrix = np.eye(rows)\n",
        "    if np.array_equal(matrix_A, id_matrix):\n",
        "      return True\n",
        "    else:\n",
        "      return False\n",
        "  else:\n",
        "    return False\n",
        "\n",
        "matrix_A = np.array([\n",
        "    [1,0],\n",
        "    [0,1]\n",
        "])\n",
        "\n",
        "if is_identity(matrix_A):\n",
        "  print(f\"{matrix_A} is an identity matrix\")\n",
        "else:\n",
        "  print(f\"{matrix_A} is not an identity matrix\")\n",
        "\n",
        "\n",
        "\n",
        "\n"
      ],
      "metadata": {
        "colab": {
          "base_uri": "https://localhost:8080/"
        },
        "id": "ioCHm-HDbO9x",
        "outputId": "e196acce-b62d-4f94-efee-9097b1fc3f5b"
      },
      "execution_count": null,
      "outputs": [
        {
          "output_type": "stream",
          "name": "stdout",
          "text": [
            "[[1 0]\n",
            " [0 1]] is an identity matrix\n"
          ]
        }
      ]
    },
    {
      "cell_type": "code",
      "source": [
        "def inv_2_2(matrix_1):\n",
        "  a = (matrix_1[0][0])\n",
        "  b = (matrix_1[0][1])\n",
        "  c = (matrix_1[1][0])\n",
        "  d = (matrix_1[1][1])\n",
        "  determinant = a*d - b*c\n",
        "  main_swapped_negated = np.array([\n",
        "      [d,-b],\n",
        "      [-c,a]\n",
        "  ])\n",
        "\n",
        "  inverse_matrix = 1/determinant * main_swapped_negated\n",
        "  return inverse_matrix\n",
        "\n",
        "matrix_1 = np.array([\n",
        "    [7,2],\n",
        "    [17,5]\n",
        "])\n",
        "calculated_inverse= inv_2_2(matrix_1)\n",
        "print(np.dot(matrix_1,calculated_inverse))"
      ],
      "metadata": {
        "colab": {
          "base_uri": "https://localhost:8080/"
        },
        "id": "CNVltJ1wm2jo",
        "outputId": "785380b5-410f-4ba3-fd5f-a852af3d2db6"
      },
      "execution_count": null,
      "outputs": [
        {
          "output_type": "stream",
          "name": "stdout",
          "text": [
            "[[1. 0.]\n",
            " [0. 1.]]\n"
          ]
        }
      ]
    },
    {
      "cell_type": "markdown",
      "source": [
        "Transpose of a matrix\n",
        "\n",
        ".It is obtained by swapping the rows and the columns."
      ],
      "metadata": {
        "id": "9Imo8UFwocSP"
      }
    },
    {
      "cell_type": "code",
      "source": [
        "matrix_A = np.array([\n",
        "    [7,2,1],\n",
        "    [17,5,4]\n",
        "])\n",
        "print(matrix_A.T)"
      ],
      "metadata": {
        "colab": {
          "base_uri": "https://localhost:8080/"
        },
        "id": "MrjDAD9Xo2cy",
        "outputId": "e66ad679-14b7-4d9e-ef1d-4fca3faaad1e"
      },
      "execution_count": null,
      "outputs": [
        {
          "output_type": "stream",
          "name": "stdout",
          "text": [
            "[[ 7 17]\n",
            " [ 2  5]\n",
            " [ 1  4]]\n"
          ]
        }
      ]
    },
    {
      "cell_type": "markdown",
      "source": [
        "Write a python script that takes inputs from a user for the elements within a 2*2 square matrix, save the resultant matrix as a variable.\n",
        "\n",
        "Use your defined functions to get the following:\n",
        ". Check whether it is an identity matrix\n",
        "\n",
        ". Calculate the inverse of the 2*2 matrix.\n",
        "\n",
        ".Assertain that for a matrix A, the inverse  A**-1 is such that AA*-1 = identity matrix.\n",
        "\n",
        "Print the transpose of the matrix."
      ],
      "metadata": {
        "id": "J5C7DCNmpHnE"
      }
    },
    {
      "cell_type": "code",
      "source": [
        "a = int(input(\"Enter the value of a at position [0][0]: \"))\n",
        "b = int(input(\"Enter the value of b at position [0][1]: \"))\n",
        "c = int(input(\"Enter the value of c at position [1][0]: \"))\n",
        "d = int(input(\"Enter the value of d at position [1][1]: \"))\n",
        "\n",
        "matrix =np.array ([\n",
        "    [a, b],\n",
        "    [c ,d]\n",
        "])\n",
        "\n",
        "print(f\"\"\" Matrix A :\n",
        " {matrix}\n",
        "      \"\"\")\n",
        "\n",
        "if is_identity(matrix):\n",
        "  print(f\"{matrix} is an identity matrix\")\n",
        "else:\n",
        "  print(f\"{matrix} is not an identity matrix\")\n",
        "\n",
        "  calc_inverse = inv_2_2(matrix)\n",
        "  print(f\"\"\"The inverse of matrix is :\n",
        "  {calc_inverse}\"\"\")\n",
        "\n",
        "print(f\"\"\"Te transposition of matrix is :\n",
        "{matrix.T}\"\"\")"
      ],
      "metadata": {
        "id": "auwh-6fedUYK"
      },
      "execution_count": null,
      "outputs": []
    },
    {
      "cell_type": "markdown",
      "source": [
        "Solving simultaneous linear equations\n",
        "1. Substitution\n",
        "2. Elimination\n",
        "3. Matrix method"
      ],
      "metadata": {
        "id": "yPlPsZ6-eOiG"
      }
    },
    {
      "cell_type": "markdown",
      "source": [
        "# Substitution\n",
        "\n",
        "Equation 1: 2x +3y = 9\n",
        "\n",
        "Equation 2: x - y = 3\n",
        "\n",
        "x = 3 + y\n",
        "\n",
        "2( 3 + y) + 3y = 9\n",
        "\n",
        "6+ 2y + 3y = 9\n",
        "\n",
        "5y = 3\n",
        "\n",
        "y = 0.6\n",
        "\n",
        "recall: x = 3+ y ; x = 3 0.6\n",
        "x = 3.6"
      ],
      "metadata": {
        "id": "mAvQ8nDseave"
      }
    },
    {
      "cell_type": "markdown",
      "source": [
        "#Elimination\n",
        "(2x + 3y = 9) *1\n",
        "\n",
        "(x - y = 3)*2\n",
        "\n",
        "2x + 3y = 9\n",
        "\n",
        "2x - 2y = 6\n",
        "\n",
        "x + 5y = 3\n",
        " y = 0.6\n",
        "\n",
        " x - 0.6 = 3"
      ],
      "metadata": {
        "id": "MGHd0ScPgTCs"
      }
    },
    {
      "cell_type": "code",
      "source": [
        "matrix_A = np.array([\n",
        "    [2,3],\n",
        "    [1,-1]\n",
        "])\n",
        "\n",
        "results = np.array([9,3])\n",
        "\n",
        "solution = np.linalg.solve(matrix_A, results)\n",
        "x = solution[0]\n",
        "y = solution [1]\n",
        "print(f\"(x,y) = ({x}, {y})\")\n",
        "\n"
      ],
      "metadata": {
        "colab": {
          "base_uri": "https://localhost:8080/"
        },
        "id": "7ppdScCfeY2n",
        "outputId": "77a9de8e-cce8-4e75-871e-f6108f751627"
      },
      "execution_count": null,
      "outputs": [
        {
          "output_type": "stream",
          "name": "stdout",
          "text": [
            "(x,y) = (3.6, 0.6)\n"
          ]
        }
      ]
    },
    {
      "cell_type": "markdown",
      "source": [
        "Create a python function that calculates the solutions to x and y for simultaneous linear equations whose values are obtained from user inputs."
      ],
      "metadata": {
        "id": "A0RLWuRpjfJB"
      }
    },
    {
      "cell_type": "code",
      "source": [
        "def solve_linear_equations(matrix_A, results):\n",
        " solution = np.linalg.solve(matrix, results)\n",
        " x = solution[0]\n",
        " y = solution [1]\n",
        " return x, y\n",
        "\n",
        "\n",
        "a = int(input(\"Enter the value of x at position [0][0]: \"))\n",
        "b = int(input(\"Enter the value of y at position [0][1]: \"))\n",
        "result_first = int(input(\"Enter the result of the first equation: \"))\n",
        "c = int(input(\"Enter the value of x at position [1][0]: \"))\n",
        "d = int(input(\"Enter the value of y at position [1][1]: \"))\n",
        "result_second = int(input(\"Enter the result of the second equation: \"))\n",
        "\n",
        "matrix =np.array ([\n",
        "  [a, b],\n",
        "  [c ,d]\n",
        "])\n",
        "results = np.array([result_first , result_second])\n",
        "x,y = solve_linear_equations(matrix_A, results)\n",
        "print(f\"(x,y) = ({x}, {y})\")\n",
        "\n"
      ],
      "metadata": {
        "colab": {
          "base_uri": "https://localhost:8080/"
        },
        "id": "GETF1l4wj1S3",
        "outputId": "9a3291e9-ee2f-4f31-81a0-0a7a4932f244"
      },
      "execution_count": null,
      "outputs": [
        {
          "output_type": "stream",
          "name": "stdout",
          "text": [
            "Enter the value of x at position [0][0]: 2\n",
            "Enter the value of y at position [0][1]: 3\n",
            "Enter the result of the first equation: 9\n",
            "Enter the value of x at position [1][0]: 1\n",
            "Enter the value of y at position [1][1]: -1\n",
            "Enter the result of the second equation: 3\n",
            "(x,y) = (3.6, 0.6)\n"
          ]
        }
      ]
    },
    {
      "cell_type": "markdown",
      "source": [
        "Areas of Application of Linear Algebra in Data Science\n",
        "\n",
        "1. PCA- Principal Component Analysis\n",
        "-this is a dimensionality reduction technique, which is used to reduce the number of dimensions in a given dataset, while preserving variance.\n",
        "2. Linear Regression uses linear algebra to get the coefficients of a line of bets fit. y = mx+c\n",
        "m is gradient of the line and c is the y intercept.\n",
        "3. Feature scaling/ normalization/ standardization shrinking or stretching\n",
        "data to fixed range of values for better processing.\n",
        "Age - 20,25,40,60,80\n",
        "networth-\n",
        "4. Gradient Descent  is an optimization algorithm that is used to reduce the cost/loss function by tuning coefficients m and c so as to get optimal performance of the model.\n",
        "5. Computer Vision\n",
        "coloured images - 3 colour schemes/ channels -RGB\n",
        "Grayscale images - 1 colour channel - white (0 - 255)"
      ],
      "metadata": {
        "id": "n-GkksJpuaww"
      }
    },
    {
      "cell_type": "markdown",
      "source": [
        "Machine Learning\n",
        "\n",
        "-Supervised Machine Learning - train a machine learning model on labelled data\n",
        "1. Regression - target is continuous numerical data.\n",
        "2. Classification - target is a set of non-changing categories.\n",
        "\n",
        " eg Country, company, model ,year, CC, Torque, Transmission, Price\n",
        "\n",
        "-Unsupervised machine learning - train a machine learning model on unllabeled data.\n",
        "1. Clustering - grouping together similar datapoints.\n",
        "2. Dimensionality Reduction - Reducing the number of dimensions in a dataset while maintaining variables"
      ],
      "metadata": {
        "id": "My1S6hjbvloV"
      }
    }
  ]
}