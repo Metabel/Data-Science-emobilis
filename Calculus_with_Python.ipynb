{
  "nbformat": 4,
  "nbformat_minor": 0,
  "metadata": {
    "colab": {
      "provenance": []
    },
    "kernelspec": {
      "name": "python3",
      "display_name": "Python 3"
    },
    "language_info": {
      "name": "python"
    }
  },
  "cells": [
    {
      "cell_type": "markdown",
      "source": [
        "Calculus- a branch of math that deals with continuous change, involving derivatives and integrals. It is crucial in understanding how functions change over time and for optimization of machine learning algorithms."
      ],
      "metadata": {
        "id": "YhVUXdQRhZSj"
      }
    },
    {
      "cell_type": "markdown",
      "source": [
        "#Differentiation/ derivatives\n",
        ".The derivatives if a function represents the rate of change or the slope of the function at a point.\n",
        "\n",
        ".To work with derivatives abd integrals with python, we use the sympy library."
      ],
      "metadata": {
        "id": "S55uRYgEiS73"
      }
    },
    {
      "cell_type": "code",
      "execution_count": 1,
      "metadata": {
        "colab": {
          "base_uri": "https://localhost:8080/"
        },
        "id": "Tiy_THqohRuJ",
        "outputId": "62aa55db-1e4b-45f5-a180-589eb2fe0b6d"
      },
      "outputs": [
        {
          "output_type": "stream",
          "name": "stdout",
          "text": [
            "2*x + 3\n"
          ]
        }
      ],
      "source": [
        "import sympy as sp\n",
        "#defining the variable\n",
        "x = sp.symbols(\"x\")\n",
        "#defining the function\n",
        "f = x ** 2 + 3 * x + 2\n",
        "#calculating the derivative\n",
        "derivative = sp.diff(f,x)\n",
        "\n",
        "print(derivative)"
      ]
    },
    {
      "cell_type": "code",
      "source": [
        "import sympy as sp\n",
        "#defining the variable\n",
        "x = sp.symbols(\"x\")\n",
        "#defining the function\n",
        "\n",
        "f = x ** 4 + 3 * x ** 2 +  2* x\n",
        "\n",
        "#calculating the derivative\n",
        "derivative = sp.diff(f,x)\n",
        "\n",
        "print(f\"\"\"The derivative of the function {f} is  {derivative} \"\"\")"
      ],
      "metadata": {
        "colab": {
          "base_uri": "https://localhost:8080/"
        },
        "id": "DHC7wn1ekM2g",
        "outputId": "bff6b5b3-fa01-417b-93cc-c8eb1865c3ba"
      },
      "execution_count": 3,
      "outputs": [
        {
          "output_type": "stream",
          "name": "stdout",
          "text": [
            "The derivative of the function x**4 + 3*x**2 + 2*x is  4*x**3 + 6*x + 2 \n"
          ]
        }
      ]
    },
    {
      "cell_type": "markdown",
      "source": [
        "## Integrals /Intergration\n",
        "\n",
        ". The integral of a function represents the area under a curve ,summing up all infinite small areas.\n",
        "\n",
        ".By default symby ignores the constant of intergration; we need to always add it at the end of the intergration result."
      ],
      "metadata": {
        "id": "7BWkcnw5lgcU"
      }
    },
    {
      "cell_type": "code",
      "source": [
        "x = sp.symbols(\"x\")\n",
        "f = x ** 2 + 3 * x + 2\n",
        "integral = sp.integrate(f,x)\n",
        "print(f\"\"\"The integral of the function is {integral} + c\"\"\")"
      ],
      "metadata": {
        "colab": {
          "base_uri": "https://localhost:8080/"
        },
        "id": "SBNvPeeul0vV",
        "outputId": "7d0d7020-42d0-4968-f262-40733c46ac1d"
      },
      "execution_count": 5,
      "outputs": [
        {
          "output_type": "stream",
          "name": "stdout",
          "text": [
            "The integral of the function is x**3/3 + 3*x**2/2 + 2*x + c\n"
          ]
        }
      ]
    },
    {
      "cell_type": "code",
      "source": [
        "f = 6 * x** 2 - 5\n",
        "integral = sp.integrate(f,x)\n",
        "print(f\"\"\"The integral of the function is {integral} + c\"\"\")"
      ],
      "metadata": {
        "colab": {
          "base_uri": "https://localhost:8080/"
        },
        "id": "ZwVRBcEznjQ6",
        "outputId": "b651247a-9c73-4e0b-f558-2c421b012caf"
      },
      "execution_count": 6,
      "outputs": [
        {
          "output_type": "stream",
          "name": "stdout",
          "text": [
            "The integral of the function is 2*x**3 - 5*x + c\n"
          ]
        }
      ]
    },
    {
      "cell_type": "markdown",
      "source": [
        "1. Back propagation in Nueral Networks - is an optimization technique that reduces the loss function and increases the accuracy in a nural network machine model.\n",
        "2. Gradient Descent Algorithm/ Adam Optimization Algorithm  -are optimization techniques that change the parameters to better suit the model being trained.\n",
        "3. Support Vector Machines -\n",
        "4."
      ],
      "metadata": {
        "id": "pyxUDfi_pL4I"
      }
    }
  ]
}