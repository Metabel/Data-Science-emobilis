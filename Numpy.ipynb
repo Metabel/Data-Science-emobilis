{
  "nbformat": 4,
  "nbformat_minor": 0,
  "metadata": {
    "colab": {
      "provenance": []
    },
    "kernelspec": {
      "name": "python3",
      "display_name": "Python 3"
    },
    "language_info": {
      "name": "python"
    }
  },
  "cells": [
    {
      "cell_type": "markdown",
      "source": [
        "#Numpy\n",
        "Numerical python. It is foundational for numerical computation using the python programming language.\n",
        "- Is designed for scientific computation and is ised extensively for data analysis to handle large ,multidimensional arrays and matrices efficiently.\n",
        "- Serves as a basis for many python data science libraries; including pandas, due to its speed and efficiency in numerical operations.\n",
        "- A few special cases for Numpy especially in data analysis include:\n",
        "1. Array operations\n",
        "2. Linear algebra\n",
        "3. Statistical functions\n",
        "4. Random number Generation\n"
      ],
      "metadata": {
        "id": "Q88n6e54VCYJ"
      }
    },
    {
      "cell_type": "markdown",
      "source": [
        "#Array Operations\n",
        ". ,+,-,*,/,//,etc"
      ],
      "metadata": {
        "id": "XsBc2tvtVQAl"
      }
    },
    {
      "cell_type": "code",
      "execution_count": null,
      "metadata": {
        "colab": {
          "base_uri": "https://localhost:8080/"
        },
        "id": "8JT8yWwnRS8_",
        "outputId": "ef777845-81e6-45eb-9d73-b5ed4a49ace7"
      },
      "outputs": [
        {
          "output_type": "stream",
          "name": "stdout",
          "text": [
            "Requirement already satisfied: numpy in /usr/local/lib/python3.12/dist-packages (2.0.2)\n"
          ]
        }
      ],
      "source": [
        "!pip install numpy\n"
      ]
    },
    {
      "cell_type": "code",
      "source": [
        "import numpy as np\n",
        "\n",
        "years_of_experience = np.array([1,2,3,4,5])\n",
        "years_of_experience_plus_1 = years_of_experience + 1\n",
        "\n",
        "print(years_of_experience_plus_1)\n"
      ],
      "metadata": {
        "colab": {
          "base_uri": "https://localhost:8080/"
        },
        "id": "MFU0m8DyVobU",
        "outputId": "7b29236e-907d-4abb-f88d-c9c870c47782"
      },
      "execution_count": null,
      "outputs": [
        {
          "output_type": "stream",
          "name": "stdout",
          "text": [
            "[2 3 4 5 6]\n"
          ]
        }
      ]
    },
    {
      "cell_type": "markdown",
      "source": [
        "Converting a column from USD to  KSH"
      ],
      "metadata": {
        "id": "VHnBnY7_WPMq"
      }
    },
    {
      "cell_type": "code",
      "source": [
        "usd_values = np.array([3.99,5.99,9.99,14.99,19.99])\n",
        "ksh_values = usd_values*129.30\n",
        "print(ksh_values)"
      ],
      "metadata": {
        "colab": {
          "base_uri": "https://localhost:8080/"
        },
        "id": "s8SQIPL3WUbi",
        "outputId": "832abb64-e3b0-4f50-fe36-692220d830ea"
      },
      "execution_count": null,
      "outputs": [
        {
          "output_type": "stream",
          "name": "stdout",
          "text": [
            "[ 515.907  774.507 1291.707 1938.207 2584.707]\n"
          ]
        }
      ]
    },
    {
      "cell_type": "code",
      "source": [
        "print(usd_values)"
      ],
      "metadata": {
        "colab": {
          "base_uri": "https://localhost:8080/"
        },
        "id": "-RwhgrAkXjca",
        "outputId": "db1ce427-a70f-4e83-90b9-c46f8a718a3f"
      },
      "execution_count": null,
      "outputs": [
        {
          "output_type": "stream",
          "name": "stdout",
          "text": [
            "[ 3.99  5.99  9.99 14.99 19.99]\n"
          ]
        }
      ]
    },
    {
      "cell_type": "code",
      "source": [
        "print(type(usd_values[1:4]))"
      ],
      "metadata": {
        "colab": {
          "base_uri": "https://localhost:8080/"
        },
        "id": "fLyO3uNmXqdB",
        "outputId": "cba414a1-08c6-4b9d-912b-4130ca947372"
      },
      "execution_count": null,
      "outputs": [
        {
          "output_type": "stream",
          "name": "stdout",
          "text": [
            "<class 'numpy.ndarray'>\n"
          ]
        }
      ]
    },
    {
      "cell_type": "markdown",
      "source": [
        "Boolean indexing(Conditional Filtering)\n",
        ".Get the subset of values that satisfy a particular condition\n",
        "\n",
        "Syntax:\n",
        "\n",
        "data[condition]"
      ],
      "metadata": {
        "id": "TS4orMPTYZoa"
      }
    },
    {
      "cell_type": "code",
      "source": [
        "years_of_experience = np.array([1,2,3,4,5])\n",
        "more_than_3 = years_of_experience[years_of_experience > 3]\n",
        "print(more_than_3)"
      ],
      "metadata": {
        "colab": {
          "base_uri": "https://localhost:8080/"
        },
        "id": "-J44n8eeYrO1",
        "outputId": "eb36de48-a311-44f5-b866-0b8e397efcd3"
      },
      "execution_count": null,
      "outputs": [
        {
          "output_type": "stream",
          "name": "stdout",
          "text": [
            "[4 5]\n"
          ]
        }
      ]
    },
    {
      "cell_type": "code",
      "source": [
        "random_numbers = np.array([20, 40,55,89,51,28])\n",
        "\n",
        "even_numbers = random_numbers[random_numbers % 2 == 0]\n",
        "odd_numbers = random_numbers[random_numbers % 2 != 0]\n",
        "\n",
        "print(f\"odd_numbers:{odd_numbers}\")\n",
        "print(f\"even_numbers;{even_numbers}\")\n"
      ],
      "metadata": {
        "colab": {
          "base_uri": "https://localhost:8080/"
        },
        "id": "I3-J20PxaG3Q",
        "outputId": "2cba272e-1bb9-4d79-fdd5-3a900d9a7a22"
      },
      "execution_count": null,
      "outputs": [
        {
          "output_type": "stream",
          "name": "stdout",
          "text": [
            "odd_numbers:[55 89 51]\n",
            "even_numbers;[20 40 28]\n"
          ]
        }
      ]
    },
    {
      "cell_type": "markdown",
      "source": [
        "1. Create a python script that takes 6 number inputs from the user on heights of different people in cm. It then returns a numpy.ndarray of the heights in feet.\n",
        "2. Create a python script that takes 6 inputs from the user on ages of different people and returns the age they were on the onset of covid 19 in\n",
        "the country.\n",
        "3. Filter out the heigts on question 1 that are less than 5.5 feet.\n",
        "4. Filter out the heights on question 1 that are more than 6 feet.\n",
        "5. Hard code a np.array of 10 values and filter out the positive numbers and negative numbers."
      ],
      "metadata": {
        "id": "NRNqGr8ZauY1"
      }
    },
    {
      "cell_type": "code",
      "source": [
        "import numpy as np\n",
        "\n",
        "h1 =int(input(\"Enter your height in cm:\"))\n",
        "h2 =int(input(\"Enter your heigh in cmt:\"))\n",
        "h3 =int(input(\"Enter your height in cm:\"))\n",
        "h4 =int(input(\"Enter your height in cm:\"))\n",
        "h5 =int(input(\"Enter your height in cm:\"))\n",
        "h6 =int(input(\"Enter your height in cm:\"))\n",
        "\n",
        "height_in_cm =np.array ([h1,h2,h3,h4,h5,h6])\n",
        "height_in_feet = height_in_cm / 30.48\n",
        "\n",
        "print(f\"{height_in_feet} and is of the datatype {type(height_in_feet)}\")\n",
        "\n",
        "less_5_5 = height_in_feet[height_in_feet<5.5]\n",
        "more_6_feet = height_in_feet[height_in_feet>6]\n",
        "print(f\"{less_5_5}\")\n",
        "print(f\"{more_6_feet}\")\n",
        "\n"
      ],
      "metadata": {
        "colab": {
          "base_uri": "https://localhost:8080/"
        },
        "id": "p9gTCTA-cFCM",
        "outputId": "ae75f6bc-0f21-40d6-93ae-3fac05de67b3"
      },
      "execution_count": null,
      "outputs": [
        {
          "output_type": "stream",
          "name": "stdout",
          "text": [
            "Enter your height in cm:170\n",
            "Enter your heigh in cmt:155\n",
            "Enter your height in cm:157\n",
            "Enter your height in cm:165\n",
            "Enter your height in cm:162\n",
            "Enter your height in cm:177\n",
            "[5.57742782 5.08530184 5.15091864 5.41338583 5.31496063 5.80708661] and is of the datatype <class 'numpy.ndarray'>\n",
            "[5.08530184 5.15091864 5.41338583 5.31496063]\n",
            "[]\n"
          ]
        }
      ]
    },
    {
      "cell_type": "code",
      "source": [
        "age1=float(input(\"Enter your age:\"))\n",
        "age2=float(input(\"Enter your age:\"))\n",
        "age3=float(input(\"Enter your age:\"))\n",
        "age4=float(input(\"Enter your age:\"))\n",
        "age5=float(input(\"Enter your age:\"))\n",
        "age6=float(input(\"Enter your age:\"))\n",
        "\n",
        "ages = np.array([age1,age2,age3,age4,age5,age6])\n",
        "current_year = 2025\n",
        "onset_covid= 2020\n",
        "years_elapsed = current_year-onset_covid\n",
        "covid_ages = ages - years_elapsed\n",
        "print(f\"{covid_ages} and is of datatype {type(covid_ages)}\")\n"
      ],
      "metadata": {
        "colab": {
          "base_uri": "https://localhost:8080/"
        },
        "id": "WgkVpKgogeGe",
        "outputId": "9899bd1d-7de5-4d41-9145-f2fc41bfd792"
      },
      "execution_count": null,
      "outputs": [
        {
          "output_type": "stream",
          "name": "stdout",
          "text": [
            "Enter your age:45\n",
            "Enter your age:22\n",
            "Enter your age:30\n",
            "Enter your age:29\n",
            "Enter your age:37\n",
            "Enter your age:65\n",
            "[40. 17. 25. 24. 32. 60.] and is of datatype <class 'numpy.ndarray'>\n"
          ]
        }
      ]
    },
    {
      "cell_type": "code",
      "source": [
        "numbers = (np.array[10,-15,46,-77,89,-90,48,38,65,-22])\n",
        "\n",
        "positive_numbers= numbers[numbers>=0]\n",
        "negative_numbers= numbers[numbers<0]\n",
        "\n",
        "print(f\"positive_numbers:{positive_numbers}\")\n",
        "print(f\"negative_numbers:{negative_numbers}\")\n"
      ],
      "metadata": {
        "colab": {
          "base_uri": "https://localhost:8080/",
          "height": 219
        },
        "id": "TzYV8cL4il9p",
        "outputId": "7fddb6bc-b2b2-4b2f-9fd2-5c7cf93a3db4"
      },
      "execution_count": null,
      "outputs": [
        {
          "output_type": "error",
          "ename": "TypeError",
          "evalue": "'builtin_function_or_method' object is not subscriptable",
          "traceback": [
            "\u001b[0;31m---------------------------------------------------------------------------\u001b[0m",
            "\u001b[0;31mTypeError\u001b[0m                                 Traceback (most recent call last)",
            "\u001b[0;32m/tmp/ipython-input-3929005912.py\u001b[0m in \u001b[0;36m<cell line: 0>\u001b[0;34m()\u001b[0m\n\u001b[0;32m----> 1\u001b[0;31m \u001b[0mnumbers\u001b[0m \u001b[0;34m=\u001b[0m \u001b[0;34m(\u001b[0m\u001b[0mnp\u001b[0m\u001b[0;34m.\u001b[0m\u001b[0marray\u001b[0m\u001b[0;34m[\u001b[0m\u001b[0;36m10\u001b[0m\u001b[0;34m,\u001b[0m\u001b[0;34m-\u001b[0m\u001b[0;36m15\u001b[0m\u001b[0;34m,\u001b[0m\u001b[0;36m46\u001b[0m\u001b[0;34m,\u001b[0m\u001b[0;34m-\u001b[0m\u001b[0;36m77\u001b[0m\u001b[0;34m,\u001b[0m\u001b[0;36m89\u001b[0m\u001b[0;34m,\u001b[0m\u001b[0;34m-\u001b[0m\u001b[0;36m90\u001b[0m\u001b[0;34m,\u001b[0m\u001b[0;36m48\u001b[0m\u001b[0;34m,\u001b[0m\u001b[0;36m38\u001b[0m\u001b[0;34m,\u001b[0m\u001b[0;36m65\u001b[0m\u001b[0;34m,\u001b[0m\u001b[0;34m-\u001b[0m\u001b[0;36m22\u001b[0m\u001b[0;34m]\u001b[0m\u001b[0;34m)\u001b[0m\u001b[0;34m\u001b[0m\u001b[0;34m\u001b[0m\u001b[0m\n\u001b[0m\u001b[1;32m      2\u001b[0m \u001b[0;34m\u001b[0m\u001b[0m\n\u001b[1;32m      3\u001b[0m \u001b[0mpositive_numbers\u001b[0m\u001b[0;34m=\u001b[0m \u001b[0mnumbers\u001b[0m\u001b[0;34m[\u001b[0m\u001b[0mnumbers\u001b[0m\u001b[0;34m>=\u001b[0m\u001b[0;36m0\u001b[0m\u001b[0;34m]\u001b[0m\u001b[0;34m\u001b[0m\u001b[0;34m\u001b[0m\u001b[0m\n\u001b[1;32m      4\u001b[0m \u001b[0mnegative_numbers\u001b[0m\u001b[0;34m=\u001b[0m \u001b[0mnumbers\u001b[0m\u001b[0;34m[\u001b[0m\u001b[0mnumbers\u001b[0m\u001b[0;34m<\u001b[0m\u001b[0;36m0\u001b[0m\u001b[0;34m]\u001b[0m\u001b[0;34m\u001b[0m\u001b[0;34m\u001b[0m\u001b[0m\n\u001b[1;32m      5\u001b[0m \u001b[0mprint\u001b[0m\u001b[0;34m(\u001b[0m\u001b[0;34mf\"positive_numbers:{positive_numbers}\"\u001b[0m\u001b[0;34m)\u001b[0m\u001b[0;34m\u001b[0m\u001b[0;34m\u001b[0m\u001b[0m\n",
            "\u001b[0;31mTypeError\u001b[0m: 'builtin_function_or_method' object is not subscriptable"
          ]
        }
      ]
    },
    {
      "cell_type": "markdown",
      "source": [
        "Math operations\n",
        "- sum\n",
        "- product\n",
        "- cumsum\n",
        "- cumprod\n"
      ],
      "metadata": {
        "id": "9iN1CNK0pDWJ"
      }
    },
    {
      "cell_type": "code",
      "source": [
        "salaries = np.array([30000,50000, 90000,150000,200000,350000,500000])\n",
        "sum_of_salaries = np.sum(salaries)\n",
        "print(sum_of_salaries)"
      ],
      "metadata": {
        "colab": {
          "base_uri": "https://localhost:8080/"
        },
        "id": "PC762GLapz8V",
        "outputId": "d50aa4fa-98ab-47f1-8974-620026c57588"
      },
      "execution_count": null,
      "outputs": [
        {
          "output_type": "stream",
          "name": "stdout",
          "text": [
            "1370000\n"
          ]
        }
      ]
    },
    {
      "cell_type": "code",
      "source": [
        "cum_salaries = np.cumsum(salaries)\n",
        "print(cum_salaries)"
      ],
      "metadata": {
        "colab": {
          "base_uri": "https://localhost:8080/"
        },
        "id": "Q-t3F5PBsPzW",
        "outputId": "fc22bd3b-4455-41a3-c5b3-298375785d86"
      },
      "execution_count": null,
      "outputs": [
        {
          "output_type": "stream",
          "name": "stdout",
          "text": [
            "[  30000   80000  170000  320000  520000  870000 1370000]\n"
          ]
        }
      ]
    },
    {
      "cell_type": "code",
      "source": [
        "prod_cumulatives = np.cumprod(salaries)\n",
        "print(salaries)\n",
        "print(prod_cumulatives)"
      ],
      "metadata": {
        "colab": {
          "base_uri": "https://localhost:8080/"
        },
        "id": "dbwBKoKKqS68",
        "outputId": "bc7ee2d0-5dae-4839-e674-0235c2d70b42"
      },
      "execution_count": null,
      "outputs": [
        {
          "output_type": "stream",
          "name": "stdout",
          "text": [
            "[ 30000  50000  90000 150000 200000 350000 500000]\n",
            "[               30000           1500000000      135000000000000\n",
            "  1803255926290448384 -1108127005766844416 -1657868652222873600\n",
            "  7012328849320968192]\n"
          ]
        }
      ]
    },
    {
      "cell_type": "markdown",
      "source": [
        "Due to large numbers, the cumulative product values quickly escalate to the point where they exceed numerical limit of datatypes on the python programming language, leading to integral overflow. This is why some numbers appear as negative values."
      ],
      "metadata": {
        "id": "cU4J3MBNq-Py"
      }
    },
    {
      "cell_type": "markdown",
      "source": [
        "NaN - Not a Number(Null values)\n",
        "-We can generate a NaN value using np.nan\n",
        "\n",
        "-NaN values are used to do the following:\n",
        "\n",
        "1.   Handle missing values\n",
        "2.   Helps with computations since it wont return errors but instead ,returns np.\n",
        "3. Helps filter out or fill in missing values in pandas.\n",
        "\n"
      ],
      "metadata": {
        "id": "ARvDbnnCr2FO"
      }
    },
    {
      "cell_type": "code",
      "source": [
        "numbers_with_nans = np.array([10,np.nan, 20,30,np.nan,50,60])\n",
        "print(numbers_with_nans)"
      ],
      "metadata": {
        "colab": {
          "base_uri": "https://localhost:8080/"
        },
        "id": "480CY57FtYSm",
        "outputId": "70ebad31-25b7-4aec-f80d-f86cfa86c8e2"
      },
      "execution_count": null,
      "outputs": [
        {
          "output_type": "stream",
          "name": "stdout",
          "text": [
            "[10. nan 20. 30. nan 50. 60.]\n"
          ]
        }
      ]
    }
  ]
}