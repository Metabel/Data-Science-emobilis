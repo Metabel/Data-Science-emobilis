{
  "cells": [
    {
      "cell_type": "code",
      "execution_count": null,
      "metadata": {
        "colab": {
          "base_uri": "https://localhost:8080/"
        },
        "id": "2KreoyZ4K7iu",
        "outputId": "c46621a8-261c-49d4-d155-a177664e4127"
      },
      "outputs": [
        {
          "name": "stdout",
          "output_type": "stream",
          "text": [
            "Hello, World!\n"
          ]
        }
      ],
      "source": [
        "print(\"Hello, World!\")"
      ]
    },
    {
      "cell_type": "code",
      "execution_count": null,
      "metadata": {
        "colab": {
          "base_uri": "https://localhost:8080/"
        },
        "id": "Ecvi_qjRShjN",
        "outputId": "e9148ef8-7fc3-4e89-e505-57bb9bbab4e2"
      },
      "outputs": [
        {
          "name": "stdout",
          "output_type": "stream",
          "text": [
            "My name is Peter Gachuki.\n"
          ]
        }
      ],
      "source": [
        "print(\"My name is Peter Gachuki.\")"
      ]
    },
    {
      "cell_type": "markdown",
      "metadata": {
        "id": "zgIJOke5TuK6"
      },
      "source": [
        "This is just sample text\n",
        "\n",
        "# Data Sourcing\n",
        "## Sub heading 1"
      ]
    },
    {
      "cell_type": "code",
      "execution_count": null,
      "metadata": {
        "colab": {
          "base_uri": "https://localhost:8080/"
        },
        "id": "vh_gaOY9SyfV",
        "outputId": "198538bc-83f5-4c7a-f862-04d0cbcac417"
      },
      "outputs": [
        {
          "name": "stdout",
          "output_type": "stream",
          "text": [
            "This is where we are going to load our data\n"
          ]
        }
      ],
      "source": [
        "print(\"This is where we are going to load our data\")"
      ]
    },
    {
      "cell_type": "markdown",
      "metadata": {
        "id": "1GXm5G5fU2ib"
      },
      "source": [
        "# Data Cleaning"
      ]
    },
    {
      "cell_type": "code",
      "execution_count": null,
      "metadata": {
        "colab": {
          "base_uri": "https://localhost:8080/"
        },
        "id": "rRK18neYUupX",
        "outputId": "c9591132-94cc-4f19-d6a6-b884fc275de0"
      },
      "outputs": [
        {
          "name": "stdout",
          "output_type": "stream",
          "text": [
            "This is where we are going to clean our data\n"
          ]
        }
      ],
      "source": [
        "print(\"This is where we are going to clean our data\")"
      ]
    },
    {
      "cell_type": "code",
      "execution_count": null,
      "metadata": {
        "id": "yZzztZGvU9rx"
      },
      "outputs": [],
      "source": []
    },
    {
      "cell_type": "markdown",
      "metadata": {
        "id": "U65_3otaVSH2"
      },
      "source": [
        "Comments - they are written in code cells but are not executed as actual code\n",
        "\n",
        "- Explain pieces of code (prior)\n",
        "- Debugging - solving for errors in code\n"
      ]
    },
    {
      "cell_type": "code",
      "execution_count": null,
      "metadata": {
        "colab": {
          "base_uri": "https://localhost:8080/"
        },
        "id": "vKwopL-IVO4r",
        "outputId": "084e629a-35ce-4aa6-e7cc-1bce52be9d8d"
      },
      "outputs": [
        {
          "name": "stdout",
          "output_type": "stream",
          "text": [
            "Python is an awesome programming language\n"
          ]
        }
      ],
      "source": [
        "# a line of code that explains my opinion on Python\n",
        "# Commenting is very important\n",
        "print(\"Python is an awesome programming language\")"
      ]
    },
    {
      "cell_type": "code",
      "execution_count": null,
      "metadata": {
        "colab": {
          "base_uri": "https://localhost:8080/"
        },
        "id": "3EfVabRJWupu",
        "outputId": "e97e5e4f-fabc-45ff-fc16-869cfc3a0918"
      },
      "outputs": [
        {
          "name": "stdout",
          "output_type": "stream",
          "text": [
            "This is the first line\n",
            "Second line\n",
            "Forth line\n",
            "Fifth line\n"
          ]
        }
      ],
      "source": [
        "print(\"This is the first line\")\n",
        "print(\"Second line\")\n",
        "# prin(\"Third line\")\n",
        "print(\"Forth line\")\n",
        "print(\"Fifth line\")"
      ]
    },
    {
      "cell_type": "markdown",
      "metadata": {
        "id": "KO-X9EsZXuII"
      },
      "source": [
        "Variables - is a store for a value\n",
        "\n",
        "Syntax:\n",
        "\n",
        "variable_name = value"
      ]
    },
    {
      "cell_type": "code",
      "execution_count": null,
      "metadata": {
        "colab": {
          "base_uri": "https://localhost:8080/"
        },
        "id": "SV_F8aX-XFv4",
        "outputId": "2303a6a1-f113-4182-bfed-03cb8073e8b3"
      },
      "outputs": [
        {
          "name": "stdout",
          "output_type": "stream",
          "text": [
            "Peter Gachuki\n"
          ]
        }
      ],
      "source": [
        "name = \"Peter Gachuki\"\n",
        "\n",
        "print(name)"
      ]
    },
    {
      "cell_type": "markdown",
      "metadata": {
        "id": "12n4oAtIZ1WV"
      },
      "source": [
        "Rules that need to be followed when naming variables:\n",
        "\n",
        "- Variable names should only have the following characters: uppercase letters, lowercase letters, numbers, underscore (We cannot have special characters within variable names eg &, ., , , ()\n",
        "- Variable names should always start with a lowercase letter\n",
        "- Variable names should not have white spaces\n",
        "1. Snake casing eg first_name, school_location, backup_plan etc\n",
        "2. Camel casing eg. firstName, schoolLocation, backupPlan etc\n",
        "- The variable name should not be one of the python reserved keywords"
      ]
    },
    {
      "cell_type": "code",
      "execution_count": null,
      "metadata": {
        "id": "SXNZIl-nZcou"
      },
      "outputs": [],
      "source": [
        "# if\n",
        "# else\n",
        "# while\n",
        "# for\n",
        "# int\n",
        "# str\n",
        "# float\n",
        "# bool\n",
        "# def\n",
        "# return\n",
        "# import\n",
        "# as\n",
        "# in\n"
      ]
    },
    {
      "cell_type": "code",
      "execution_count": null,
      "metadata": {
        "colab": {
          "base_uri": "https://localhost:8080/"
        },
        "id": "UQcUiJBzcdYF",
        "outputId": "5fa36194-e706-4eca-c3c5-f855f4275457"
      },
      "outputs": [
        {
          "name": "stdout",
          "output_type": "stream",
          "text": [
            "My name is Peter\n"
          ]
        }
      ],
      "source": [
        "print(\"My name is Peter\")"
      ]
    },
    {
      "cell_type": "markdown",
      "metadata": {
        "id": "MTnuscJ3fXKk"
      },
      "source": [
        "Formatted Strings (f strings)\n",
        "\n",
        "- Allow us to write a combination of custom text and variables within a single print statement\n",
        "\n"
      ]
    },
    {
      "cell_type": "code",
      "execution_count": null,
      "metadata": {
        "colab": {
          "base_uri": "https://localhost:8080/"
        },
        "id": "RhnPXF35dpAM",
        "outputId": "5bec99a3-7f98-4bc8-baf4-f6a6583cc6c3"
      },
      "outputs": [
        {
          "name": "stdout",
          "output_type": "stream",
          "text": [
            "My name is Mary Akinyi. I live in Kikuyu and I go to school at eMobilis Technology Training Institute\n"
          ]
        }
      ],
      "source": [
        "name = \"Mary Akinyi\"\n",
        "location = \"Kikuyu\"\n",
        "school = \"eMobilis Technology Training Institute\"\n",
        "\n",
        "print(f\"My name is {name}. I live in {location} and I go to school at {school}\")"
      ]
    },
    {
      "cell_type": "code",
      "execution_count": null,
      "metadata": {
        "colab": {
          "base_uri": "https://localhost:8080/"
        },
        "id": "excaRkmOhVwt",
        "outputId": "3094e4d6-3e55-42c4-89a6-c125aa773b69"
      },
      "outputs": [
        {
          "name": "stdout",
          "output_type": "stream",
          "text": [
            "Enter your name here : John Doe\n",
            "Welcome to this great platform, John Doe\n"
          ]
        }
      ],
      "source": [
        "user_name = input(\"Enter your name here : \")\n",
        "print(f\"Welcome to this great platform, {user_name}\")"
      ]
    },
    {
      "cell_type": "markdown",
      "metadata": {
        "id": "edh9t2VEikkY"
      },
      "source": [
        "1. Write a python script that displays a list of your hobbies in separate print statements (intro, hobbies)"
      ]
    },
    {
      "cell_type": "markdown",
      "metadata": {
        "id": "FTyfue4qTzTV"
      },
      "source": [
        "studenthub2024 - Emobilis SO"
      ]
    },
    {
      "cell_type": "code",
      "execution_count": null,
      "metadata": {
        "colab": {
          "base_uri": "https://localhost:8080/"
        },
        "id": "YCdosQQ-Soqi",
        "outputId": "0aa3c06e-4ec4-45c9-e174-0124df6337e6"
      },
      "outputs": [
        {
          "name": "stdout",
          "output_type": "stream",
          "text": [
            "My name is John Doe and my hobbies are as follows: \n",
            "1. Playing Piano\n",
            "2. Reading Books\n",
            "3. Writing Code\n",
            "4. Swimming\n"
          ]
        }
      ],
      "source": [
        "print(\"My name is John Doe and my hobbies are as follows: \")\n",
        "print(\"1. Playing Piano\")\n",
        "print(\"2. Reading Books\")\n",
        "print(\"3. Writing Code\")\n",
        "print(\"4. Swimming\")"
      ]
    },
    {
      "cell_type": "code",
      "execution_count": null,
      "metadata": {
        "colab": {
          "base_uri": "https://localhost:8080/"
        },
        "id": "gSh4sCcmT7_z",
        "outputId": "2d954e9d-ca0e-4113-fa25-e83d6a8d4635"
      },
      "outputs": [
        {
          "name": "stdout",
          "output_type": "stream",
          "text": [
            "\n",
            "My name is John Doe and my hobbies are as follows: \n",
            "1. Playing Piano\n",
            "\n",
            "\n",
            "\n",
            "\n",
            "2. Reading Books\n",
            "3. Writing Code\n",
            "        4. Swimming\n",
            "\n"
          ]
        }
      ],
      "source": [
        "# Triple pair strings\n",
        "print('''\n",
        "My name is John Doe and my hobbies are as follows:\n",
        "1. Playing Piano\n",
        "\n",
        "\n",
        "\n",
        "\n",
        "2. Reading Books\n",
        "3. Writing Code\n",
        "        4. Swimming\n",
        "''')\n",
        "\n"
      ]
    },
    {
      "cell_type": "markdown",
      "metadata": {
        "id": "uiFJD299jAPb"
      },
      "source": [
        "2. Write a python script with 8 line of code (print statements). Include an intentional error on line 7. Inspect the error then comment it out"
      ]
    },
    {
      "cell_type": "code",
      "execution_count": null,
      "metadata": {
        "colab": {
          "base_uri": "https://localhost:8080/"
        },
        "id": "Ksg7gvS9Ulxe",
        "outputId": "2554e2a8-42e5-4d7f-d670-c0c64d0b737d"
      },
      "outputs": [
        {
          "name": "stdout",
          "output_type": "stream",
          "text": [
            "One\n",
            "Two\n",
            "Three\n",
            "Four\n",
            "Five\n",
            "Six\n",
            "Eight\n"
          ]
        }
      ],
      "source": [
        "print(\"One\")\n",
        "print(\"Two\")\n",
        "print(\"Three\")\n",
        "print(\"Four\")\n",
        "print(\"Five\")\n",
        "print(\"Six\")\n",
        "# print(\"Seven)\n",
        "print(\"Eight\")\n"
      ]
    },
    {
      "cell_type": "markdown",
      "metadata": {
        "id": "AhdrDbztjYY4"
      },
      "source": [
        "3. Write a python script that takes in the following information from the user:\n",
        "Their first name, second name, occupation, where they studied and their 5 year plan.\n",
        "\n",
        "eg. My name is John Doe. I am a medical practitioner. I studied in University of Nairobi and my 5 year plan is as follows: I want to get my PhD and specialize in cardiology. I want to write and publish my own book.  "
      ]
    },
    {
      "cell_type": "code",
      "execution_count": null,
      "metadata": {
        "colab": {
          "base_uri": "https://localhost:8080/"
        },
        "id": "htf969oCU28d",
        "outputId": "7dc204f9-1e43-44b5-eb11-7281394d2402"
      },
      "outputs": [
        {
          "name": "stdout",
          "output_type": "stream",
          "text": [
            "Enter your first name : Jane\n",
            "Enter your second name : Njeri\n",
            "Enter your occupation : Farmer\n",
            "Enter where you studied : Kisumu\n",
            "Enter your 5 year plan : Immense agricultural success\n",
            "My name is Jane Njeri. I am a Farmer. I studied in Kisumu. My five year plan is Immense agricultural success\n"
          ]
        }
      ],
      "source": [
        "first_name = input(\"Enter your first name : \")\n",
        "second_name = input(\"Enter your second name : \")\n",
        "occupation = input(\"Enter your occupation : \")\n",
        "studied = input(\"Enter where you studied : \")\n",
        "plan = input(\"Enter your 5 year plan : \")\n",
        "\n",
        "print(f\"My name is {first_name} {second_name}. I am a {occupation}. I studied in {studied}. My five year plan is {plan}\")"
      ]
    },
    {
      "cell_type": "markdown",
      "metadata": {
        "id": "5W5x0F8RWle7"
      },
      "source": [
        "Datatypes\n",
        "\n",
        "1. Strings\n",
        "2. Numerical datatypes - integer, float\n",
        "3. Sequential datatypes - list, tuple, set\n",
        "4. Dictionary\n",
        "5. Boolean"
      ]
    },
    {
      "cell_type": "markdown",
      "metadata": {
        "id": "0JmFYdenXLQP"
      },
      "source": [
        "# Strings\n",
        "\n",
        "- A string is a character, word, bunch of words, sentence, paragraph, article etc that contains text information.\n",
        "- It is defined using quotation marks (either single or double quotes)\n",
        "- We can have a combination of custom text and variables in a single string using the formatted strings (f strings)"
      ]
    },
    {
      "cell_type": "code",
      "execution_count": null,
      "metadata": {
        "colab": {
          "base_uri": "https://localhost:8080/"
        },
        "id": "SJ7rpyxeWlM-",
        "outputId": "aa120cf0-bf37-4deb-ac0a-7899c4300164"
      },
      "outputs": [
        {
          "name": "stdout",
          "output_type": "stream",
          "text": [
            "<class 'str'>\n",
            "I use a Samsung mobile phone\n"
          ]
        }
      ],
      "source": [
        "phone = \"Samsung\"\n",
        "\n",
        "print(type(phone))\n",
        "\n",
        "print(f\"I use a {phone} mobile phone\")"
      ]
    },
    {
      "cell_type": "markdown",
      "metadata": {
        "id": "NXlo1nmaZikp"
      },
      "source": [
        "This is Ann's book. It doesn't look well maintained"
      ]
    },
    {
      "cell_type": "code",
      "execution_count": null,
      "metadata": {
        "colab": {
          "base_uri": "https://localhost:8080/"
        },
        "id": "VWjPKT6_jSjH",
        "outputId": "3c3541b7-09fd-4099-b015-c51e225d48bc"
      },
      "outputs": [
        {
          "name": "stdout",
          "output_type": "stream",
          "text": [
            "This is Anne's book. It doesn't look well maintained\n"
          ]
        }
      ],
      "source": [
        "print(\"This is Anne's book. It doesn't look well maintained\")"
      ]
    },
    {
      "cell_type": "markdown",
      "metadata": {
        "id": "JVCf-sgtaSq9"
      },
      "source": [
        "He said to me, \"I am looking forward to the potential partnership\""
      ]
    },
    {
      "cell_type": "code",
      "execution_count": null,
      "metadata": {
        "colab": {
          "base_uri": "https://localhost:8080/"
        },
        "id": "E8IIzoIOiS5R",
        "outputId": "31d913df-8732-47d0-d6d2-10bce4b2ca85"
      },
      "outputs": [
        {
          "name": "stdout",
          "output_type": "stream",
          "text": [
            "He said to me, \"I am looking forward to the potential parnership\".\n"
          ]
        }
      ],
      "source": [
        "print('He said to me, \"I am looking forward to the potential parnership\".')"
      ]
    },
    {
      "cell_type": "code",
      "execution_count": null,
      "metadata": {
        "colab": {
          "base_uri": "https://localhost:8080/"
        },
        "id": "Plag93WSbd-v",
        "outputId": "5ee94903-bb97-496f-e2ec-216f7ead97e7"
      },
      "outputs": [
        {
          "name": "stdout",
          "output_type": "stream",
          "text": [
            "PYTHON\n"
          ]
        }
      ],
      "source": [
        "language = \"Python\"\n",
        "\n",
        "print(language.upper())"
      ]
    },
    {
      "cell_type": "code",
      "execution_count": null,
      "metadata": {
        "colab": {
          "base_uri": "https://localhost:8080/"
        },
        "id": "p_mEbBs_cpzO",
        "outputId": "c2d4f10a-7f26-4e52-c850-b4e1378114d0"
      },
      "outputs": [
        {
          "name": "stdout",
          "output_type": "stream",
          "text": [
            "Python\n"
          ]
        }
      ],
      "source": [
        "print(language)"
      ]
    },
    {
      "cell_type": "code",
      "execution_count": null,
      "metadata": {
        "colab": {
          "base_uri": "https://localhost:8080/"
        },
        "id": "wsOgwEGccucI",
        "outputId": "3409935f-e751-45b8-a834-faa2229ddf6a"
      },
      "outputs": [
        {
          "name": "stdout",
          "output_type": "stream",
          "text": [
            "Python\n",
            "PYTHON\n"
          ]
        }
      ],
      "source": [
        "language_upper = language.upper()\n",
        "\n",
        "print(language)\n",
        "print(language_upper)"
      ]
    },
    {
      "cell_type": "code",
      "execution_count": null,
      "metadata": {
        "colab": {
          "base_uri": "https://localhost:8080/"
        },
        "id": "xbd-aaR1fGEE",
        "outputId": "15c07109-56fb-40c3-e8b8-f84fa3e1abc3"
      },
      "outputs": [
        {
          "name": "stdout",
          "output_type": "stream",
          "text": [
            "python\n"
          ]
        }
      ],
      "source": [
        "print(language.lower())"
      ]
    },
    {
      "cell_type": "code",
      "execution_count": null,
      "metadata": {
        "colab": {
          "base_uri": "https://localhost:8080/"
        },
        "id": "mBgjexWRgAeV",
        "outputId": "ec25bee5-38d1-4b63-c417-244a7cdd3553"
      },
      "outputs": [
        {
          "name": "stdout",
          "output_type": "stream",
          "text": [
            "Jython\n"
          ]
        }
      ],
      "source": [
        "print(language.replace(\"P\", \"J\"))"
      ]
    },
    {
      "cell_type": "code",
      "execution_count": null,
      "metadata": {
        "id": "aLO9GvZwgfkd"
      },
      "outputs": [],
      "source": [
        "print(language)"
      ]
    },
    {
      "cell_type": "markdown",
      "metadata": {
        "id": "uM-p58wShH6m"
      },
      "source": [
        "# Numerical Datatypes"
      ]
    },
    {
      "cell_type": "markdown",
      "metadata": {
        "id": "SULSTTXShLQd"
      },
      "source": [
        "## Integers\n",
        "\n",
        "- Whole number values (both positive and negative)\n",
        "\n",
        "## Floats\n",
        "\n",
        "- Numbers that have a decimal point"
      ]
    },
    {
      "cell_type": "code",
      "execution_count": null,
      "metadata": {
        "colab": {
          "base_uri": "https://localhost:8080/"
        },
        "id": "xjyLCKhuhKGy",
        "outputId": "05effcd4-28bb-4ba3-b7d9-d2d453942e74"
      },
      "outputs": [
        {
          "name": "stdout",
          "output_type": "stream",
          "text": [
            "40\n"
          ]
        }
      ],
      "source": [
        "number = 40\n",
        "\n",
        "print(number)"
      ]
    },
    {
      "cell_type": "code",
      "execution_count": null,
      "metadata": {
        "colab": {
          "base_uri": "https://localhost:8080/"
        },
        "id": "CelJo0vXhp1v",
        "outputId": "832752fa-e689-4675-c4c4-96c96f96825b"
      },
      "outputs": [
        {
          "name": "stdout",
          "output_type": "stream",
          "text": [
            "3.142\n"
          ]
        }
      ],
      "source": [
        "number_2 = 3.142\n",
        "\n",
        "print(number_2)"
      ]
    },
    {
      "cell_type": "markdown",
      "metadata": {
        "id": "hETULjrqiiFX"
      },
      "source": [
        "Mathematical Operations\n",
        "\n",
        "1. Addition +\n",
        "2. Subtraction -\n",
        "3. Division /\n",
        "4. Multiplication *\n",
        "5. Floor Division // - returns the quotient from a division between two numbers\n",
        "6. Exponent ** - raised to the power of\n",
        "7. Modulus % - the remainder from a division between two numbers\n"
      ]
    },
    {
      "cell_type": "code",
      "execution_count": null,
      "metadata": {
        "colab": {
          "base_uri": "https://localhost:8080/"
        },
        "id": "mp8jQLU1h6Eg",
        "outputId": "6b5e68a3-e73d-4f87-9483-6ae9e8e92c30"
      },
      "outputs": [
        {
          "name": "stdout",
          "output_type": "stream",
          "text": [
            "143.8\n"
          ]
        }
      ],
      "source": [
        "print(100 + 43.8)"
      ]
    },
    {
      "cell_type": "code",
      "execution_count": null,
      "metadata": {
        "colab": {
          "base_uri": "https://localhost:8080/"
        },
        "id": "ZsaorshtjgvM",
        "outputId": "d5cdf5a2-4e07-403e-fdc4-5d640aed3dd8"
      },
      "outputs": [
        {
          "name": "stdout",
          "output_type": "stream",
          "text": [
            "-12.155999999999999\n"
          ]
        }
      ],
      "source": [
        "print(50 - 62.156)"
      ]
    },
    {
      "cell_type": "code",
      "execution_count": null,
      "metadata": {
        "colab": {
          "base_uri": "https://localhost:8080/"
        },
        "id": "UpBpzK9Cj4kb",
        "outputId": "dd4fad90-9ba4-432e-d825-a2c547fb94e6"
      },
      "outputs": [
        {
          "name": "stdout",
          "output_type": "stream",
          "text": [
            "3827\n"
          ]
        }
      ],
      "source": [
        "print(89 * 43)"
      ]
    },
    {
      "cell_type": "code",
      "execution_count": null,
      "metadata": {
        "colab": {
          "base_uri": "https://localhost:8080/"
        },
        "id": "AycEznJoj8gt",
        "outputId": "9d79e669-027b-444b-831d-90009c9e5c00"
      },
      "outputs": [
        {
          "name": "stdout",
          "output_type": "stream",
          "text": [
            "13.31868131868132\n"
          ]
        }
      ],
      "source": [
        "print(1212 / 91)"
      ]
    },
    {
      "cell_type": "code",
      "execution_count": null,
      "metadata": {
        "colab": {
          "base_uri": "https://localhost:8080/"
        },
        "id": "V3sZdvtckAqj",
        "outputId": "8dc3227d-058f-4b2a-ad8c-3f1d55c6ecde"
      },
      "outputs": [
        {
          "name": "stdout",
          "output_type": "stream",
          "text": [
            "3\n"
          ]
        }
      ],
      "source": [
        "print(10 // 3)"
      ]
    },
    {
      "cell_type": "code",
      "execution_count": null,
      "metadata": {
        "colab": {
          "base_uri": "https://localhost:8080/"
        },
        "id": "wLtgOddWkUNU",
        "outputId": "290c21a0-65a3-492f-cc29-55d7d3343894"
      },
      "outputs": [
        {
          "name": "stdout",
          "output_type": "stream",
          "text": [
            "125\n"
          ]
        }
      ],
      "source": [
        "print(5 ** 3)"
      ]
    },
    {
      "cell_type": "code",
      "execution_count": null,
      "metadata": {
        "colab": {
          "base_uri": "https://localhost:8080/"
        },
        "id": "AGjxXbeTkjdQ",
        "outputId": "628f1ebd-6ccc-4a39-82c6-e5d770f29331"
      },
      "outputs": [
        {
          "name": "stdout",
          "output_type": "stream",
          "text": [
            "1\n"
          ]
        }
      ],
      "source": [
        "print(10 % 3)"
      ]
    },
    {
      "cell_type": "code",
      "execution_count": null,
      "metadata": {
        "colab": {
          "base_uri": "https://localhost:8080/"
        },
        "id": "sb1jhEvVkz7t",
        "outputId": "6b36914c-4fb7-428e-e161-b6276889e88e"
      },
      "outputs": [
        {
          "name": "stdout",
          "output_type": "stream",
          "text": [
            "Enter the first number : 15\n",
            "Enter the second number : 32\n",
            "The sum of 15 and 32 is 1532\n"
          ]
        }
      ],
      "source": [
        "number_1 = input(\"Enter the first number : \")\n",
        "number_2 = input(\"Enter the second number : \")\n",
        "\n",
        "print(f\"The sum of {number_1} and {number_2} is {number_1 + number_2}\")"
      ]
    },
    {
      "cell_type": "markdown",
      "metadata": {
        "id": "iO1rS1WanAhd"
      },
      "source": [
        "Type casting / type conversion"
      ]
    },
    {
      "cell_type": "code",
      "execution_count": null,
      "metadata": {
        "colab": {
          "base_uri": "https://localhost:8080/"
        },
        "id": "aCSM1nrhl29W",
        "outputId": "63950511-faa2-4d76-dc21-47351292332a"
      },
      "outputs": [
        {
          "name": "stdout",
          "output_type": "stream",
          "text": [
            "Enter a number : 121\n",
            "<class 'int'>\n",
            "131\n"
          ]
        }
      ],
      "source": [
        "number = input(\"Enter a number : \")\n",
        "\n",
        "number = int(number)\n",
        "\n",
        "print(type(number))\n",
        "\n",
        "print(number + 10)"
      ]
    },
    {
      "cell_type": "code",
      "execution_count": null,
      "metadata": {
        "colab": {
          "base_uri": "https://localhost:8080/"
        },
        "id": "YYdfhe6mmr6b",
        "outputId": "f9f53645-c451-45e1-eaf7-5eafc6f96486"
      },
      "outputs": [
        {
          "name": "stdout",
          "output_type": "stream",
          "text": [
            "<class 'float'>\n"
          ]
        }
      ],
      "source": [
        "print(type(5.0))"
      ]
    },
    {
      "cell_type": "markdown",
      "metadata": {
        "id": "HNWMwW64n9PY"
      },
      "source": [
        "1. Write a python script that takes the age of the user and returns their year of birth"
      ]
    },
    {
      "cell_type": "code",
      "execution_count": null,
      "metadata": {
        "colab": {
          "base_uri": "https://localhost:8080/"
        },
        "id": "YkYO9eQwyEOm",
        "outputId": "92dbd5b7-2911-46a6-cfa1-7a6527f54200"
      },
      "outputs": [
        {
          "name": "stdout",
          "output_type": "stream",
          "text": [
            "Enter your age here : 55\n",
            "Your year of birth is 1970\n"
          ]
        }
      ],
      "source": [
        "age = int(input(\"Enter your age here : \"))\n",
        "\n",
        "current_year = 2025\n",
        "year_of_birth = current_year - age\n",
        "\n",
        "print(f\"Your year of birth is {year_of_birth}\")\n"
      ]
    },
    {
      "cell_type": "markdown",
      "metadata": {
        "id": "mHSQGvBuoHsU"
      },
      "source": [
        "2. Write a python script that takes in the ages of 2 people and returns the age each will be in the year 2035"
      ]
    },
    {
      "cell_type": "code",
      "execution_count": null,
      "metadata": {
        "colab": {
          "base_uri": "https://localhost:8080/"
        },
        "id": "H512NHHdzJsJ",
        "outputId": "e8f944f0-f5a3-474b-a663-29eea5c62e55"
      },
      "outputs": [
        {
          "name": "stdout",
          "output_type": "stream",
          "text": [
            "Enter the age of person 1 : 32\n",
            "Enter the age of person 2 : 25\n",
            "Person 1 will be 42 years old in the year 2035\n",
            "Person 2 will be 35 years old in the year 2035\n"
          ]
        }
      ],
      "source": [
        "age_1 = int(input(\"Enter the age of person 1 : \"))\n",
        "age_2 = int(input(\"Enter the age of person 2 : \"))\n",
        "\n",
        "years_elapsed = 2035 - 2025\n",
        "\n",
        "print(f\"Person 1 will be {age_1 + years_elapsed} years old in the year 2035\")\n",
        "print(f\"Person 2 will be {age_2 + years_elapsed} years old in the year 2035\")\n"
      ]
    },
    {
      "cell_type": "markdown",
      "metadata": {
        "id": "K5LYfRGMobDf"
      },
      "source": [
        "3. Write a python script that takes in 2 numbers. Perform mathematical operations on them such that the result is as such: x / y is equal to a remainder b (use both the floor division and modulus)"
      ]
    },
    {
      "cell_type": "code",
      "execution_count": null,
      "metadata": {
        "colab": {
          "base_uri": "https://localhost:8080/"
        },
        "id": "7PNMrOf1nqJG",
        "outputId": "454e3906-5194-45b3-d11e-c8ec1f1f44e8"
      },
      "outputs": [
        {
          "name": "stdout",
          "output_type": "stream",
          "text": [
            "Enter the first number : 10\n",
            "Enter the second number : 3\n",
            "10 / 3 is equal to 3 remainder 1\n"
          ]
        }
      ],
      "source": [
        "number1 = int(input(\"Enter the first number : \"))\n",
        "number2 = int(input(\"Enter the second number : \"))\n",
        "\n",
        "floor_div = number1 // number2\n",
        "remainder = number1 % number2\n",
        "\n",
        "print(f\"{number1} / {number2} is equal to {floor_div} remainder {remainder}\")"
      ]
    },
    {
      "cell_type": "markdown",
      "metadata": {
        "id": "k9TPfivJ18Ck"
      },
      "source": [
        "Write a python script that takes in two numbers and performs the following operations:\n",
        "addition, subtraction, multiplication, division, floor division, exponent, modulus such that for every 2 numbers, we have such an output:\n",
        "\n",
        "eg. 10 and 2 as our numbers\n",
        "\n",
        "10 + 2 = 12\n",
        "\n",
        "10 - 2 = 8\n",
        "\n",
        "10 / 2 = 5\n",
        "\n",
        "10 * 2 = 20\n",
        "\n",
        "10 // 2 = 5\n",
        "\n",
        "10 ** 2 = 100\n",
        "\n",
        "10 % 2 = 0"
      ]
    },
    {
      "cell_type": "code",
      "execution_count": null,
      "metadata": {
        "colab": {
          "base_uri": "https://localhost:8080/"
        },
        "id": "GnTXVDI_17wW",
        "outputId": "fddebd37-f6ec-4594-ed25-56d8ddfff39b"
      },
      "outputs": [
        {
          "name": "stdout",
          "output_type": "stream",
          "text": [
            "Enter the first number here : 130\n",
            "Enter the second number here : 12\n",
            "\n",
            "130 + 12 = 142\n",
            "130 - 12 = 118\n",
            "130 / 12 = 10.833\n",
            "130 * 12 = 1560\n",
            "130 // 12 = 10\n",
            "130 ** 12 = 23298085122481000000000000\n",
            "130 % 12 = 10\n",
            "\n"
          ]
        }
      ],
      "source": [
        "num1 = int(input(\"Enter the first number here : \"))\n",
        "num2 = int(input(\"Enter the second number here : \"))\n",
        "\n",
        "addition = num1 + num2\n",
        "subtraction = num1 - num2\n",
        "division = num1 / num2\n",
        "multiplication = num1 * num2\n",
        "floor_div = num1 // num2\n",
        "exponent = num1 ** num2\n",
        "modulus = num1 % num2\n",
        "\n",
        "print(f\"\"\"\n",
        "{num1} + {num2} = {addition}\n",
        "{num1} - {num2} = {subtraction}\n",
        "{num1} / {num2} = {round(division, 3)}\n",
        "{num1} * {num2} = {multiplication}\n",
        "{num1} // {num2} = {floor_div}\n",
        "{num1} ** {num2} = {exponent}\n",
        "{num1} % {num2} = {modulus}\n",
        "\"\"\")"
      ]
    },
    {
      "cell_type": "markdown",
      "metadata": {
        "id": "MrwPvCTZd65t"
      },
      "source": [
        "1. Divisibility\n",
        "2. Len()\n",
        "3. Assignment Operators"
      ]
    },
    {
      "cell_type": "markdown",
      "metadata": {
        "id": "wB6qIv7yel_5"
      },
      "source": [
        "Check if 96 is divisible by 12"
      ]
    },
    {
      "cell_type": "code",
      "execution_count": null,
      "metadata": {
        "colab": {
          "base_uri": "https://localhost:8080/"
        },
        "id": "Kadv6_5i0-6M",
        "outputId": "aa263750-6152-49cb-93df-fc9b8405e339"
      },
      "outputs": [
        {
          "name": "stdout",
          "output_type": "stream",
          "text": [
            "0\n"
          ]
        }
      ],
      "source": [
        "print(96 % 12)"
      ]
    },
    {
      "cell_type": "markdown",
      "metadata": {
        "id": "TtEpHAF-fk5H"
      },
      "source": [
        "Check if 473948 is divisible by 36"
      ]
    },
    {
      "cell_type": "markdown",
      "metadata": {
        "id": "ZsrvMhU6gDga"
      },
      "source": [
        "studenthub2024 - emobilis so\n"
      ]
    },
    {
      "cell_type": "code",
      "execution_count": null,
      "metadata": {
        "colab": {
          "base_uri": "https://localhost:8080/"
        },
        "id": "gnGYtOeVfhCM",
        "outputId": "e4ee1042-ad9b-469b-82be-84c82f9c0175"
      },
      "outputs": [
        {
          "name": "stdout",
          "output_type": "stream",
          "text": [
            "5.0\n"
          ]
        }
      ],
      "source": [
        "print(10 / 2)"
      ]
    },
    {
      "cell_type": "code",
      "execution_count": null,
      "metadata": {
        "colab": {
          "base_uri": "https://localhost:8080/"
        },
        "id": "uBaF5QUfgh95",
        "outputId": "b808c3da-55de-4852-a94d-4c0895206a8e"
      },
      "outputs": [
        {
          "name": "stdout",
          "output_type": "stream",
          "text": [
            "0\n"
          ]
        }
      ],
      "source": [
        "print(10 % 2)"
      ]
    },
    {
      "cell_type": "markdown",
      "metadata": {
        "id": "RzqXthcKh6Kh"
      },
      "source": [
        "Len() returns the number of characters present in a string"
      ]
    },
    {
      "cell_type": "code",
      "execution_count": null,
      "metadata": {
        "colab": {
          "base_uri": "https://localhost:8080/"
        },
        "id": "xQTFmydHgocI",
        "outputId": "cc772d0f-8d85-44a3-f6a0-ea68bb41b5e4"
      },
      "outputs": [
        {
          "name": "stdout",
          "output_type": "stream",
          "text": [
            "16\n"
          ]
        }
      ],
      "source": [
        "print(len(\"My name is Peter\"))"
      ]
    },
    {
      "cell_type": "markdown",
      "metadata": {
        "id": "GWYGY5QGiisd"
      },
      "source": [
        "split() - separating a string according to the defined separator"
      ]
    },
    {
      "cell_type": "code",
      "execution_count": null,
      "metadata": {
        "colab": {
          "base_uri": "https://localhost:8080/"
        },
        "id": "6O3yDNjziH4J",
        "outputId": "deec59c9-cd48-4783-b823-0c51a6d11d8e"
      },
      "outputs": [
        {
          "name": "stdout",
          "output_type": "stream",
          "text": [
            "['The', 'quick', 'brown', 'fox', 'jumps', 'over', 'the', 'lazy', 'dog.']\n"
          ]
        }
      ],
      "source": [
        "statement = \"The quick brown fox jumps over the lazy dog.\"\n",
        "\n",
        "statement_words = statement.split(sep=\" \")\n",
        "\n",
        "print(statement_words)"
      ]
    },
    {
      "cell_type": "code",
      "execution_count": null,
      "metadata": {
        "colab": {
          "base_uri": "https://localhost:8080/"
        },
        "id": "ceOYyIsHi8G9",
        "outputId": "f5a6fc13-7da9-44aa-83ca-c007ce493efd"
      },
      "outputs": [
        {
          "name": "stdout",
          "output_type": "stream",
          "text": [
            "['The quick brown ', ' jumps over the lazy dog.']\n"
          ]
        }
      ],
      "source": [
        "statement = \"The quick brown fox jumps over the lazy dog.\"\n",
        "\n",
        "print(statement.split(sep=\"fox\"))"
      ]
    },
    {
      "cell_type": "markdown",
      "metadata": {
        "id": "wC_DS-K8lFoa"
      },
      "source": [
        "Puppies are NOT man's best friend"
      ]
    },
    {
      "cell_type": "code",
      "execution_count": null,
      "metadata": {
        "colab": {
          "base_uri": "https://localhost:8080/"
        },
        "id": "vwCC4epskDfj",
        "outputId": "d1bfbd92-9773-4438-8e09-b2f5b3b73552"
      },
      "outputs": [
        {
          "name": "stdout",
          "output_type": "stream",
          "text": [
            "10\n"
          ]
        }
      ],
      "source": [
        "article = \"\"\"Research shows that puppy fur contains allergens. In USA, there have been reports of black men shooting at puppy targets on shooting ranges just to piss off white men.\n",
        "In China, it is reported that people breed dogs with the sole purpose of consuming them. Puppies are playful animals. They like to chew on your personal things like socks and shoes.\n",
        "There have been reports of dogs trying to protect home owners from wild animals. Puppies have been known to act as excellent emotional support animals. Puppies are loyal. They are adorable. Dogs and cats can co-exist\"\"\"\n",
        "\n",
        "print(len(article.split(sep=\".\")))"
      ]
    },
    {
      "cell_type": "markdown",
      "metadata": {
        "id": "U8zAmtknpw5_"
      },
      "source": [
        "Write a python script that does the following:\n",
        "1. It takes inputs from the user - Name, email address, phone number, location where they live and an article on why they should be considered for a scholarship opportunity.\n",
        "2. There should be a clear instruction that the article should not be less than 50 words or more than 200 words.\n",
        "3. Convert the name to uppercase so that there is consistency in storage.\n",
        "4. Calculate the number of sentences the user has used in their article\n",
        "5. Calculate the number of words the user has used in their article\n",
        "6. Calculate the number of characters the user has used in their article\n",
        "7. Calculate the average number of words per sentence for the user\n",
        "8. Calculate the average number of characters per word for the user\n",
        "9. Calculate the average number of characters per sentence for the user"
      ]
    },
    {
      "cell_type": "code",
      "execution_count": null,
      "metadata": {
        "colab": {
          "base_uri": "https://localhost:8080/"
        },
        "id": "N7y3IIPMpSTJ",
        "outputId": "95a70059-bd4e-49c5-d8fb-c2b015c68a30"
      },
      "outputs": [
        {
          "name": "stdout",
          "output_type": "stream",
          "text": [
            "Enter your name here : John Doe\n",
            "Enter your email address here : johndoe@gmail.com\n",
            "Enter your phone number here : 0721212121\n",
            "Enter the location where you live here : Westlands\n",
            "Write a short article on why you should be considered for a scholarship opportunity (It should be between 50-200 words): I am very hardworking. I come from a humbe background and I like studying. I am always willling to learn and I am good at working with people. I am very much looking forward to upskilling and improving on the much that I already know. Thank you for the consideration.\n",
            "The number of sentences in the article is 5\n",
            "The number of words in the article is 50\n",
            "The number of characters in the article is 267\n",
            "The average number of words per sentence is 10.0\n",
            "The average number of characters per word is 5.34\n",
            "The average number of characters per sentence is 53.4\n"
          ]
        }
      ],
      "source": [
        "name = input(\"Enter your name here : \").upper()\n",
        "email_address = input(\"Enter your email address here : \")\n",
        "phone_number = input(\"Enter your phone number here : \")\n",
        "location = input(\"Enter the location where you live here : \")\n",
        "article = input(\"Write a short article on why you should be considered for a scholarship opportunity (It should be between 50-200 words): \")\n",
        "\n",
        "sentences = article.split(sep=\". \")\n",
        "no_of_sentences = len(sentences)\n",
        "\n",
        "words = article.split(sep=\" \")\n",
        "no_of_words = len(words)\n",
        "\n",
        "no_of_characters = len(article)\n",
        "\n",
        "words_per_sentence = no_of_words / no_of_sentences\n",
        "characters_per_word = no_of_characters / no_of_words\n",
        "characters_per_sentence = no_of_characters / no_of_sentences\n",
        "\n",
        "print(f\"The number of sentences in the article is {no_of_sentences}\")\n",
        "print(f\"The number of words in the article is {no_of_words}\")\n",
        "print(f\"The number of characters in the article is {no_of_characters}\")\n",
        "print(f\"The average number of words per sentence is {words_per_sentence}\")\n",
        "print(f\"The average number of characters per word is {round(characters_per_word, 2)}\")\n",
        "print(f\"The average number of characters per sentence is {round(characters_per_sentence, 2)}\")\n"
      ]
    },
    {
      "cell_type": "markdown",
      "metadata": {
        "id": "rqLZAkWk50_t"
      },
      "source": [
        "# Assignment Operators\n",
        "\n",
        "assign =\n",
        "\n",
        "add and assign +=\n",
        "\n",
        "subtract and assign -=\n",
        "\n",
        "multiply and assign *=\n",
        "\n",
        "divide and assign /=\n"
      ]
    },
    {
      "cell_type": "code",
      "execution_count": null,
      "metadata": {
        "colab": {
          "base_uri": "https://localhost:8080/"
        },
        "id": "odZEzyxIzipZ",
        "outputId": "8bf49360-f495-4f15-f20e-d15d66d39cb2"
      },
      "outputs": [
        {
          "name": "stdout",
          "output_type": "stream",
          "text": [
            "31\n"
          ]
        }
      ],
      "source": [
        "age = 30\n",
        "age = age + 1\n",
        "print(age)"
      ]
    },
    {
      "cell_type": "code",
      "execution_count": null,
      "metadata": {
        "colab": {
          "base_uri": "https://localhost:8080/"
        },
        "id": "B2A9yLaB6fU-",
        "outputId": "7d467eee-4a9e-449b-947b-8285c2333d8a"
      },
      "outputs": [
        {
          "name": "stdout",
          "output_type": "stream",
          "text": [
            "31\n"
          ]
        }
      ],
      "source": [
        "age = 30\n",
        "age += 1\n",
        "# age = age + 1\n",
        "print(age)"
      ]
    },
    {
      "cell_type": "code",
      "execution_count": null,
      "metadata": {
        "colab": {
          "base_uri": "https://localhost:8080/"
        },
        "id": "muw6FaD768RU",
        "outputId": "42ac1b28-eabc-47be-8165-5c28f107f31e"
      },
      "outputs": [
        {
          "name": "stdout",
          "output_type": "stream",
          "text": [
            "9500\n"
          ]
        }
      ],
      "source": [
        "number = 10000\n",
        "\n",
        "number -= 500\n",
        "# number = number - 500\n",
        "\n",
        "print(number)"
      ]
    },
    {
      "cell_type": "markdown",
      "metadata": {
        "id": "PCrbrdaz7fkp"
      },
      "source": [
        "# Comparison Operators\n",
        "\n",
        "- are used to compare two values, two variables or a value and a variable. They return a boolean value (True or False)\n",
        "\n",
        "equal to ==  - return True if the two values are equal to each other and False if they are not equal to each other\n",
        "\n",
        "not equal to !=  - return True if the two values are NOT equal to each other and False if they are equal to each other\n",
        "\n",
        "greater than > - return True if the value on the left hand side is greater than the one on the right\n",
        "\n",
        "less than < - return True if the value on the left hand side is less than the one on the right\n",
        "\n",
        "greater than or equal to >= - return True if the value on the left hand side is either greater or equal to the one on the right side\n",
        "\n",
        "less than or equal to <=  - return True if the value on the left hand side is either less or equal to the one on the right side\n",
        "\n"
      ]
    },
    {
      "cell_type": "code",
      "execution_count": null,
      "metadata": {
        "colab": {
          "base_uri": "https://localhost:8080/"
        },
        "id": "8NnwkiLH7P_D",
        "outputId": "1e97c4ab-bf22-4b2b-bbd9-efb5b06f3fbc"
      },
      "outputs": [
        {
          "name": "stdout",
          "output_type": "stream",
          "text": [
            "False\n"
          ]
        }
      ],
      "source": [
        "print(20 == 40)"
      ]
    },
    {
      "cell_type": "code",
      "execution_count": null,
      "metadata": {
        "colab": {
          "base_uri": "https://localhost:8080/"
        },
        "id": "CGlubysw9FeO",
        "outputId": "7c339385-095d-4609-8328-bf54e3b91d42"
      },
      "outputs": [
        {
          "name": "stdout",
          "output_type": "stream",
          "text": [
            "True\n"
          ]
        }
      ],
      "source": [
        "number1 = 50\n",
        "number2 = 90\n",
        "\n",
        "print(number1 != number2)"
      ]
    },
    {
      "cell_type": "code",
      "execution_count": null,
      "metadata": {
        "colab": {
          "base_uri": "https://localhost:8080/"
        },
        "id": "P0zdDUcG9hrJ",
        "outputId": "9df47e39-cd9d-418c-d394-5d4c2a21fa60"
      },
      "outputs": [
        {
          "name": "stdout",
          "output_type": "stream",
          "text": [
            "False\n"
          ]
        }
      ],
      "source": [
        "print(number1 > number2)"
      ]
    },
    {
      "cell_type": "code",
      "execution_count": null,
      "metadata": {
        "colab": {
          "base_uri": "https://localhost:8080/"
        },
        "id": "qCqDhA3d9t4Y",
        "outputId": "dee4c53f-2bc0-4d87-8193-0f094f4561da"
      },
      "outputs": [
        {
          "name": "stdout",
          "output_type": "stream",
          "text": [
            "True\n"
          ]
        }
      ],
      "source": [
        "print(number1 < number2)"
      ]
    },
    {
      "cell_type": "code",
      "execution_count": null,
      "metadata": {
        "colab": {
          "base_uri": "https://localhost:8080/"
        },
        "id": "UBj9fFS-9xTM",
        "outputId": "dff5c161-0d18-44bf-c53b-274b9e02020d"
      },
      "outputs": [
        {
          "name": "stdout",
          "output_type": "stream",
          "text": [
            "True\n"
          ]
        }
      ],
      "source": [
        "print(number1 >= 50)"
      ]
    },
    {
      "cell_type": "code",
      "execution_count": null,
      "metadata": {
        "colab": {
          "base_uri": "https://localhost:8080/"
        },
        "id": "Kqgtdv9X96_Z",
        "outputId": "22a4ef63-2be8-4ee3-8ed6-5ef001323f14"
      },
      "outputs": [
        {
          "name": "stdout",
          "output_type": "stream",
          "text": [
            "True\n"
          ]
        }
      ],
      "source": [
        "print(number1 <= 60)"
      ]
    },
    {
      "cell_type": "markdown",
      "metadata": {
        "id": "vhE9Pmge-YeO"
      },
      "source": [
        "Write a python script that displays boolean values on the checks specified:\n",
        "\n",
        "- Prompt the user to enter their two names in two separate inputs\n",
        "- Check whether the length of the first name is equal to the length of the second\n",
        "- Check whether the length of the first name is greater than the length of the second name"
      ]
    },
    {
      "cell_type": "code",
      "execution_count": null,
      "metadata": {
        "colab": {
          "base_uri": "https://localhost:8080/"
        },
        "id": "Umwv9NMI-H2u",
        "outputId": "4dc4c86f-7d17-46be-9aaf-332eed0367e5"
      },
      "outputs": [
        {
          "name": "stdout",
          "output_type": "stream",
          "text": [
            "Enter your first name : Peter\n",
            "Enter your second name : Gachuki\n",
            "False\n",
            "False\n"
          ]
        }
      ],
      "source": [
        "first_name = input(\"Enter your first name : \")\n",
        "second_name = input(\"Enter your second name : \")\n",
        "\n",
        "len_first = len(first_name)\n",
        "len_second = len(second_name)\n",
        "\n",
        "print(len_first == len_second)\n",
        "print(len_first > len_second)\n"
      ]
    },
    {
      "cell_type": "code",
      "execution_count": null,
      "metadata": {
        "colab": {
          "base_uri": "https://localhost:8080/"
        },
        "id": "mwn-o6yVBXMl",
        "outputId": "6cc72287-4691-4da3-e89f-00f5863a5ebd"
      },
      "outputs": [
        {
          "name": "stdout",
          "output_type": "stream",
          "text": [
            "False\n"
          ]
        }
      ],
      "source": [
        "print(len(\"Peter\") == len(\"Peter \"))"
      ]
    },
    {
      "cell_type": "markdown",
      "metadata": {
        "id": "a8eFmOmsCWMB"
      },
      "source": [
        "# Conditional statements\n",
        "\n",
        "- AKA if statements\n",
        "- Check if a particular condition is satisfied before running a block of code"
      ]
    },
    {
      "cell_type": "code",
      "execution_count": null,
      "metadata": {
        "colab": {
          "base_uri": "https://localhost:8080/"
        },
        "id": "4UP8N7nXBktX",
        "outputId": "f566dca7-4f33-44a0-e9c1-910fc64c28a8"
      },
      "outputs": [
        {
          "name": "stdout",
          "output_type": "stream",
          "text": [
            "The two numbers are NOT equal to each other. They have a difference of 1\n"
          ]
        }
      ],
      "source": [
        "# Basic syntax\n",
        "\n",
        "# if condition:\n",
        "#   code to be executed if the condition is True\n",
        "# else:\n",
        "#   code to be executed if the condition is False\n",
        "\n",
        "number1 = 100\n",
        "number2 = 99\n",
        "\n",
        "# add functionality to return the difference if the two are not equal to each other (It's not a must to have an absolute value)\n",
        "if number1 == number2:\n",
        "  print(\"The two numbers are equal to each other\")\n",
        "else:\n",
        "  diff = number1 - number2\n",
        "  print(f\"The two numbers are NOT equal to each other. They have a difference of {diff}\")"
      ]
    },
    {
      "cell_type": "markdown",
      "metadata": {
        "id": "GK2Um2y9HuW2"
      },
      "source": [
        "Write a python script that gets the year of birth of someone, caluculates their age then checks if they can vote (legal voting age is 18)\n",
        "\n",
        "if they are 18 and over, print that they can vote\n",
        "\n",
        "if not, they cannot vote, but they have x years before they are legally allowed to vote"
      ]
    },
    {
      "cell_type": "code",
      "execution_count": null,
      "metadata": {
        "colab": {
          "base_uri": "https://localhost:8080/"
        },
        "id": "XqPSlt0yD68e",
        "outputId": "85e52f0c-8b06-4e30-aee4-09397bb1d2fc"
      },
      "outputs": [
        {
          "name": "stdout",
          "output_type": "stream",
          "text": [
            "Enter the year you were born : 2015\n",
            "You are NOT eligible to vote. You still have 8 years left before you can vote\n"
          ]
        }
      ],
      "source": [
        "year_of_birth = int(input(\"Enter the year you were born : \"))\n",
        "age = 2025 - year_of_birth\n",
        "\n",
        "if age >= 18:\n",
        "  print(\"You are eligible to vote\")\n",
        "else:\n",
        "  difference = 18 - age\n",
        "  print(f\"You are NOT eligible to vote. You still have {difference} years left before you can vote\")"
      ]
    },
    {
      "cell_type": "markdown",
      "metadata": {
        "id": "ukIIRqzzNEwU"
      },
      "source": [
        "Addressing multiple conditions"
      ]
    },
    {
      "cell_type": "code",
      "execution_count": null,
      "metadata": {
        "colab": {
          "base_uri": "https://localhost:8080/"
        },
        "id": "ykWXIgVCL30y",
        "outputId": "1220d993-03c4-4c53-a983-e5186843185b"
      },
      "outputs": [
        {
          "name": "stdout",
          "output_type": "stream",
          "text": [
            "Mary has a higher salary than John. The salary gap is 70000\n"
          ]
        }
      ],
      "source": [
        "# Syntax:\n",
        "\n",
        "# if condition1:\n",
        "#   code to be run if condition1 is satisfied\n",
        "# elif condition2:\n",
        "#   code to be run if condition2 is satisfied\n",
        "# elif condition3:\n",
        "#   code to be run if condition3 is satisfied\n",
        "# else:\n",
        "#   code to be run if none of the conditions is satisfied\n",
        "\n",
        "\n",
        "john_salary = 250000\n",
        "mary_salary = 320000\n",
        "\n",
        "# add functionality that includes the salary gaps in both\n",
        "if john_salary == mary_salary:\n",
        "  print(f\"John and Mary have the same salary of {john_salary}\")\n",
        "elif john_salary > mary_salary:\n",
        "  difference = john_salary - mary_salary\n",
        "  print(f\"John has a higher salary than Mary. The salary gap is {difference}\")\n",
        "else:\n",
        "  difference = mary_salary - john_salary\n",
        "  print(f\"Mary has a higher salary than John. The salary gap is {difference}\")"
      ]
    },
    {
      "cell_type": "markdown",
      "metadata": {
        "id": "4iIQiQDYRP39"
      },
      "source": [
        "Write a python script that takes the year of birth of someone then categorizes them into their generation\n",
        "\n",
        "Gen Beta - 2025 - 2039\n",
        "\n",
        "Gen Alpha - 2012 - 2024\n",
        "\n",
        "Gen Z - 1997 - 2011\n",
        "\n",
        "Millenial - 1981 - 1996\n",
        "\n",
        "Gen X - 1965 - 1980\n",
        "\n",
        "Baby Boomers - 1946 - 1964"
      ]
    },
    {
      "cell_type": "code",
      "execution_count": null,
      "metadata": {
        "colab": {
          "base_uri": "https://localhost:8080/"
        },
        "id": "QzTcbiGCOYNm",
        "outputId": "1428bada-4f1f-4945-dd69-6d911fbbe5ca"
      },
      "outputs": [
        {
          "name": "stdout",
          "output_type": "stream",
          "text": [
            "Enter your year of birth here : 1950\n",
            "Baby Boomers\n"
          ]
        }
      ],
      "source": [
        "year = int(input(\"Enter your year of birth here : \"))\n",
        "\n",
        "if year >= 2025:\n",
        "  print(\"Gen Beta\")\n",
        "elif year >= 2012:\n",
        "  print(\"Gen Alpha\")\n",
        "elif year >= 1997:\n",
        "  print(\"Gen Z\")\n",
        "elif year >= 1981:\n",
        "  print(\"Millenial\")\n",
        "elif year >= 1965:\n",
        "  print(\"Gen X\")\n",
        "elif year >= 1946:\n",
        "  print(\"Baby Boomers\")"
      ]
    },
    {
      "cell_type": "markdown",
      "metadata": {
        "id": "aSxWeoZEZB7O"
      },
      "source": [
        "Logical Operators\n",
        "\n",
        "And - return True if two conditions are satisfied\n",
        "\n",
        "Or - return True if at least one condition is satisfied\n",
        "\n",
        "Not - negates a boolean"
      ]
    },
    {
      "cell_type": "code",
      "execution_count": null,
      "metadata": {
        "colab": {
          "base_uri": "https://localhost:8080/"
        },
        "id": "ClmhG-qTYNyX",
        "outputId": "e26da4c7-91db-4235-f7ed-b491bfe30108"
      },
      "outputs": [
        {
          "name": "stdout",
          "output_type": "stream",
          "text": [
            "False\n"
          ]
        }
      ],
      "source": [
        "print(1 == 10 and \"Peter\" == \"Peter\")"
      ]
    },
    {
      "cell_type": "code",
      "execution_count": null,
      "metadata": {
        "colab": {
          "base_uri": "https://localhost:8080/"
        },
        "id": "Mcu1t8teZaoG",
        "outputId": "67bcf26c-fcd4-4bf6-b2a2-fc2c0eb77cc0"
      },
      "outputs": [
        {
          "name": "stdout",
          "output_type": "stream",
          "text": [
            "True\n"
          ]
        }
      ],
      "source": [
        "print(3 > 5 or 100 != 10)"
      ]
    },
    {
      "cell_type": "code",
      "execution_count": null,
      "metadata": {
        "colab": {
          "base_uri": "https://localhost:8080/"
        },
        "id": "xZQ9xcJEZp1V",
        "outputId": "512584b9-056c-414f-f665-2e8821c8a4c6"
      },
      "outputs": [
        {
          "name": "stdout",
          "output_type": "stream",
          "text": [
            "False\n"
          ]
        }
      ],
      "source": [
        "print(not 100 == 100)"
      ]
    },
    {
      "cell_type": "markdown",
      "metadata": {
        "id": "aDKi0_ZlZ-t7"
      },
      "source": [
        "Fizz Buzz Challenge\n",
        "\n",
        "Write a python script that takes a number input and performs the following checks:\n",
        "1. Print fizz if the number is divisible by 3\n",
        "2. Print buzz if the number is divisible by 5\n",
        "3. Print fizzbuzz if the number is both divisible by 3 and 5"
      ]
    },
    {
      "cell_type": "code",
      "execution_count": null,
      "metadata": {
        "colab": {
          "base_uri": "https://localhost:8080/"
        },
        "id": "6mC8-LK4Zzmw",
        "outputId": "75278227-e5b3-4768-c0f9-ddc4958aef6a"
      },
      "outputs": [
        {
          "name": "stdout",
          "output_type": "stream",
          "text": [
            "Enter the number here : 15\n",
            "Fizzbuzz\n"
          ]
        }
      ],
      "source": [
        "number = int(input(\"Enter the number here : \"))\n",
        "\n",
        "if number % 3 == 0 or number % 5 == 0:\n",
        "  print(\"Fizzbuzz\")\n",
        "elif number % 3 == 0:\n",
        "  print(\"Fizz\")\n",
        "elif number % 5 == 0:\n",
        "  print(\"Buzz\")"
      ]
    },
    {
      "cell_type": "markdown",
      "metadata": {
        "id": "8j7rcEnWJrIx"
      },
      "source": [
        "Write a python script that checks if a given number is a leap year\n",
        "\n",
        "A leap year should be divisible by 4. If it is divisible by 100, it should also be divisible by 400"
      ]
    },
    {
      "cell_type": "code",
      "execution_count": null,
      "metadata": {
        "colab": {
          "base_uri": "https://localhost:8080/"
        },
        "id": "BEvUYaetHyx-",
        "outputId": "f069dcc0-01e2-48fe-96af-ff51f8373fc1"
      },
      "outputs": [
        {
          "name": "stdout",
          "output_type": "stream",
          "text": [
            "Enter the year here : 2013\n",
            "Not a leap year\n"
          ]
        }
      ],
      "source": [
        "year = int(input(\"Enter the year here : \"))\n",
        "\n",
        "if year % 4 == 0:\n",
        "  if year % 100 == 0:\n",
        "    if year % 400 == 0:\n",
        "      print(\"Leap Year\")\n",
        "    else:\n",
        "      print(\"Not a leap year\")\n",
        "  else:\n",
        "    print(\"Leap Year\")\n",
        "else:\n",
        "  print(\"Not a leap year\")"
      ]
    },
    {
      "cell_type": "markdown",
      "metadata": {
        "id": "TuQYhYupQMhP"
      },
      "source": [
        "Pass - is used as a placeholder for blocked code"
      ]
    },
    {
      "cell_type": "code",
      "execution_count": null,
      "metadata": {
        "id": "BuYArHM7OFfD"
      },
      "outputs": [],
      "source": [
        "if 1 == 1:\n",
        "  pass"
      ]
    },
    {
      "cell_type": "markdown",
      "metadata": {
        "id": "bq1KfPbeQra9"
      },
      "source": [
        "Sequential datatypes -store more than a single value in a variable\n",
        "\n",
        "- list, tuple, set"
      ]
    },
    {
      "cell_type": "markdown",
      "metadata": {
        "id": "0wdo_UgTQ4qD"
      },
      "source": [
        "# List\n",
        "\n",
        "- defined using square brackets []\n",
        "- stores ordered items\n",
        "- can store different datatypes as elements"
      ]
    },
    {
      "cell_type": "markdown",
      "metadata": {
        "id": "uDmHquvoS4fm"
      },
      "source": [
        "Indexing\n",
        "\n",
        "- the first element in a list is index 0\n",
        "- the last element in a list is index -1"
      ]
    },
    {
      "cell_type": "code",
      "execution_count": null,
      "metadata": {
        "colab": {
          "base_uri": "https://localhost:8080/"
        },
        "id": "D0bvdm1SQcp0",
        "outputId": "520f7048-0ec5-47f4-f563-7bcc3a464865"
      },
      "outputs": [
        {
          "name": "stdout",
          "output_type": "stream",
          "text": [
            "<class 'list'>\n"
          ]
        }
      ],
      "source": [
        "# list_name = [item1, item2, item3 .....]\n",
        "\n",
        "browsers = [\"Chrome\", \"Firefox\", \"Brave\", \"Edge\", \"Safari\", \"Opera\"]\n",
        "\n",
        "print(type(browsers))"
      ]
    },
    {
      "cell_type": "code",
      "execution_count": null,
      "metadata": {
        "colab": {
          "base_uri": "https://localhost:8080/"
        },
        "id": "C-4EAclKRt3g",
        "outputId": "eef208b1-6d50-4736-a9ca-aeaafc9cac49"
      },
      "outputs": [
        {
          "name": "stdout",
          "output_type": "stream",
          "text": [
            "6\n"
          ]
        }
      ],
      "source": [
        "print(len(browsers))"
      ]
    },
    {
      "cell_type": "code",
      "execution_count": null,
      "metadata": {
        "colab": {
          "base_uri": "https://localhost:8080/"
        },
        "id": "_C79ha0dSFrU",
        "outputId": "eac71944-9d5b-4e34-f2e5-707447845568"
      },
      "outputs": [
        {
          "name": "stdout",
          "output_type": "stream",
          "text": [
            "<class 'str'>\n"
          ]
        }
      ],
      "source": [
        "print(type(browsers[0]))"
      ]
    },
    {
      "cell_type": "code",
      "execution_count": null,
      "metadata": {
        "colab": {
          "base_uri": "https://localhost:8080/"
        },
        "id": "L-kOzpQRSgt5",
        "outputId": "a25145cb-0047-46de-fbab-abe59b96a2b8"
      },
      "outputs": [
        {
          "name": "stdout",
          "output_type": "stream",
          "text": [
            "Opera\n"
          ]
        }
      ],
      "source": [
        "last_element = browsers[5]\n",
        "\n",
        "print(last_element)"
      ]
    },
    {
      "cell_type": "code",
      "execution_count": null,
      "metadata": {
        "colab": {
          "base_uri": "https://localhost:8080/"
        },
        "id": "kBjqmCNZSxLo",
        "outputId": "28897a3e-8ad0-48c1-cdcb-e8ed34ed3ab6"
      },
      "outputs": [
        {
          "name": "stdout",
          "output_type": "stream",
          "text": [
            "Opera\n"
          ]
        }
      ],
      "source": [
        "print(browsers[-1])"
      ]
    },
    {
      "cell_type": "markdown",
      "metadata": {
        "id": "7ldmF_puTPel"
      },
      "source": [
        "Changing a value in a list - we use its index"
      ]
    },
    {
      "cell_type": "code",
      "execution_count": null,
      "metadata": {
        "colab": {
          "base_uri": "https://localhost:8080/"
        },
        "id": "SUB-mv3ATHVB",
        "outputId": "d7b30ced-7cb8-413a-f8e3-247cf7a8865c"
      },
      "outputs": [
        {
          "name": "stdout",
          "output_type": "stream",
          "text": [
            "['Chrome', 'Firefox', 'Brave', 'Edge', 'Tor', 'Opera']\n"
          ]
        }
      ],
      "source": [
        "browsers[4] = \"Tor\"\n",
        "\n",
        "print(browsers)"
      ]
    },
    {
      "cell_type": "code",
      "execution_count": null,
      "metadata": {
        "colab": {
          "base_uri": "https://localhost:8080/"
        },
        "id": "6r4h2gq-Tw2P",
        "outputId": "10e8c7d7-5d56-4641-dbe4-b6e74ff48770"
      },
      "outputs": [
        {
          "name": "stdout",
          "output_type": "stream",
          "text": [
            "<class 'str'>\n",
            "<class 'list'>\n"
          ]
        }
      ],
      "source": [
        "print(type(\"Peter\"))\n",
        "print(type([\"Peter\", \"John\", \"James\"]))"
      ]
    },
    {
      "cell_type": "markdown",
      "metadata": {
        "id": "Q9Gn0NFbUS94"
      },
      "source": [
        "List methods"
      ]
    },
    {
      "cell_type": "markdown",
      "metadata": {
        "id": "eUcTtsmcUXuc"
      },
      "source": [
        ".append() - add an element to the end of a given list"
      ]
    },
    {
      "cell_type": "code",
      "execution_count": null,
      "metadata": {
        "colab": {
          "base_uri": "https://localhost:8080/"
        },
        "id": "dk9bD28UTqXe",
        "outputId": "ced17248-db2e-4a81-a7da-dd77edb7d87b"
      },
      "outputs": [
        {
          "name": "stdout",
          "output_type": "stream",
          "text": [
            "['Apple', 'Banana', 'Pineapple', 'Pawpaw', 'Grapes', 'Avocado', 'Kiwi', 'Mango']\n"
          ]
        }
      ],
      "source": [
        "fruits = [\"Apple\", \"Banana\", \"Pineapple\", \"Pawpaw\", \"Grapes\", \"Avocado\", \"Kiwi\"]\n",
        "\n",
        "fruits.append(\"Mango\")\n",
        "\n",
        "print(fruits)"
      ]
    },
    {
      "cell_type": "code",
      "execution_count": null,
      "metadata": {
        "colab": {
          "base_uri": "https://localhost:8080/"
        },
        "id": "jzsYzIRrU21o",
        "outputId": "d9e9e44c-3a52-4940-8ba4-7d4c43eb93c4"
      },
      "outputs": [
        {
          "name": "stdout",
          "output_type": "stream",
          "text": [
            "PETER\n"
          ]
        }
      ],
      "source": [
        "name = \"Peter\"\n",
        "name = name.upper()\n",
        "print(name)"
      ]
    },
    {
      "cell_type": "markdown",
      "metadata": {
        "id": "afi9PX_9VnQN"
      },
      "source": [
        ".insert() - adds a new element in a specified index"
      ]
    },
    {
      "cell_type": "code",
      "execution_count": null,
      "metadata": {
        "colab": {
          "base_uri": "https://localhost:8080/"
        },
        "id": "SWKGNazoVUv-",
        "outputId": "dc34544a-fbc1-44b3-da84-16b40446add4"
      },
      "outputs": [
        {
          "name": "stdout",
          "output_type": "stream",
          "text": [
            "['Apple', 'Banana', 'Pineapple', 'Pawpaw', 'Grapes', 'Avocado', 'Kiwi', 'Mango']\n"
          ]
        }
      ],
      "source": [
        "print(fruits)"
      ]
    },
    {
      "cell_type": "code",
      "execution_count": null,
      "metadata": {
        "colab": {
          "base_uri": "https://localhost:8080/"
        },
        "id": "n0Jqo2bAVwIy",
        "outputId": "e0f84b15-c3bc-4f68-ed22-0cde308c1961"
      },
      "outputs": [
        {
          "name": "stdout",
          "output_type": "stream",
          "text": [
            "['Apple', 'Banana', 'Strawberry', 'Pineapple', 'Pawpaw', 'Grapes', 'Avocado', 'Kiwi', 'Mango']\n"
          ]
        }
      ],
      "source": [
        "fruits.insert(2, \"Strawberry\")\n",
        "\n",
        "print(fruits)"
      ]
    },
    {
      "cell_type": "code",
      "execution_count": null,
      "metadata": {
        "colab": {
          "base_uri": "https://localhost:8080/"
        },
        "id": "IpvqvcdIV7Yu",
        "outputId": "9b812720-e5ff-4b5b-abda-4bc517c08c08"
      },
      "outputs": [
        {
          "name": "stdout",
          "output_type": "stream",
          "text": [
            "['Peter', 60, 3.142, True, ['John', 'James', 'Mary']]\n"
          ]
        }
      ],
      "source": [
        "random_list = [\"Peter\", 60, 3.142, True, [\"John\", \"James\", \"Mary\"]]\n",
        "\n",
        "print(random_list)"
      ]
    },
    {
      "cell_type": "code",
      "execution_count": null,
      "metadata": {
        "colab": {
          "base_uri": "https://localhost:8080/"
        },
        "id": "pscff9P0WWv8",
        "outputId": "f7cb3560-5d19-4a84-a108-3a0a2bf70ca1"
      },
      "outputs": [
        {
          "name": "stdout",
          "output_type": "stream",
          "text": [
            "5\n"
          ]
        }
      ],
      "source": [
        "print(len(random_list))"
      ]
    },
    {
      "cell_type": "markdown",
      "metadata": {
        "id": "beGnOABWW_Lt"
      },
      "source": [
        ".pop() - removes the last element in a list by default\n",
        "\n",
        ".pop(index) - removes the element at a specified index"
      ]
    },
    {
      "cell_type": "code",
      "execution_count": null,
      "metadata": {
        "colab": {
          "base_uri": "https://localhost:8080/"
        },
        "id": "nT-tBIlaWvCD",
        "outputId": "2a303ed5-aecb-4c5c-a70c-a065416b6c2f"
      },
      "outputs": [
        {
          "name": "stdout",
          "output_type": "stream",
          "text": [
            "['Apple', 'Banana', 'Strawberry', 'Pineapple', 'Pawpaw', 'Grapes', 'Avocado', 'Kiwi', 'Mango']\n"
          ]
        }
      ],
      "source": [
        "print(fruits)"
      ]
    },
    {
      "cell_type": "code",
      "execution_count": null,
      "metadata": {
        "colab": {
          "base_uri": "https://localhost:8080/"
        },
        "id": "ji7pwIxYXFPN",
        "outputId": "691340ba-a4d1-49d3-a638-abc1c1a2f790"
      },
      "outputs": [
        {
          "name": "stdout",
          "output_type": "stream",
          "text": [
            "['Apple', 'Banana', 'Strawberry', 'Pineapple', 'Pawpaw', 'Grapes', 'Avocado', 'Kiwi']\n"
          ]
        }
      ],
      "source": [
        "fruits.pop()\n",
        "\n",
        "print(fruits)"
      ]
    },
    {
      "cell_type": "code",
      "execution_count": null,
      "metadata": {
        "colab": {
          "base_uri": "https://localhost:8080/"
        },
        "id": "De19ZdA7XI-r",
        "outputId": "0da5706c-8fc4-40d9-b81d-6dcdfa4674e9"
      },
      "outputs": [
        {
          "name": "stdout",
          "output_type": "stream",
          "text": [
            "['Apple', 'Banana', 'Strawberry', 'Pawpaw', 'Grapes', 'Avocado', 'Kiwi']\n"
          ]
        }
      ],
      "source": [
        "fruits.pop(3)\n",
        "\n",
        "print(fruits)"
      ]
    },
    {
      "cell_type": "markdown",
      "metadata": {
        "id": "Bhxb4RFaXmwq"
      },
      "source": [
        ".remove() - removes an element of a specified value"
      ]
    },
    {
      "cell_type": "code",
      "execution_count": null,
      "metadata": {
        "colab": {
          "base_uri": "https://localhost:8080/"
        },
        "id": "NuB9E_awXVKW",
        "outputId": "e22bf2f8-25ea-4528-a4f5-e0e746bd7b1c"
      },
      "outputs": [
        {
          "name": "stdout",
          "output_type": "stream",
          "text": [
            "['Apple', 'Banana', 'Strawberry', 'Pawpaw', 'Grapes', 'Avocado', 'Kiwi']\n"
          ]
        }
      ],
      "source": [
        "print(fruits)"
      ]
    },
    {
      "cell_type": "code",
      "execution_count": null,
      "metadata": {
        "colab": {
          "base_uri": "https://localhost:8080/"
        },
        "id": "HknMht57XwzK",
        "outputId": "b597d65b-1400-4ba3-e268-929c1c02f5b7"
      },
      "outputs": [
        {
          "name": "stdout",
          "output_type": "stream",
          "text": [
            "['Apple', 'Strawberry', 'Pawpaw', 'Grapes', 'Avocado', 'Kiwi']\n"
          ]
        }
      ],
      "source": [
        "fruits.remove(\"Banana\")\n",
        "\n",
        "print(fruits)"
      ]
    },
    {
      "cell_type": "markdown",
      "metadata": {
        "id": "63Y3X3muYLjZ"
      },
      "source": [
        "Joining multiple lists - concatenation of lists - use +\n",
        "\n",
        "sorted() sorts the list in ascending order"
      ]
    },
    {
      "cell_type": "code",
      "execution_count": null,
      "metadata": {
        "colab": {
          "base_uri": "https://localhost:8080/"
        },
        "id": "umMatZEWYLPm",
        "outputId": "0b7e10b5-480b-4217-b5f3-64b763794195"
      },
      "outputs": [
        {
          "name": "stdout",
          "output_type": "stream",
          "text": [
            "['Asus', 'Dell', 'HP', 'Infinix', 'Lenovo', 'Macbook', 'Samsung', 'Sony', 'Tecno', 'Xiaomi', 'iPhone']\n"
          ]
        }
      ],
      "source": [
        "phone_brands = [\"Samsung\", \"iPhone\", \"Xiaomi\", \"Tecno\", \"Infinix\", \"Sony\"]\n",
        "laptop_brands = [\"Macbook\", \"HP\", \"Dell\", \"Lenovo\", \"Asus\"]\n",
        "\n",
        "general_brands = phone_brands + laptop_brands\n",
        "\n",
        "print(sorted(general_brands))"
      ]
    },
    {
      "cell_type": "code",
      "execution_count": null,
      "metadata": {
        "colab": {
          "base_uri": "https://localhost:8080/"
        },
        "id": "AKtn0-74X8Xr",
        "outputId": "21fe1d9d-c9f2-4505-8911-59e450ad15a3"
      },
      "outputs": [
        {
          "name": "stdout",
          "output_type": "stream",
          "text": [
            "['1', '12', '18', '2', '35', '6', '7', '9']\n",
            "[1, 2, 6, 7, 9, 12, 18, 35]\n"
          ]
        }
      ],
      "source": [
        "string_numbers = [\"7\", \"2\", \"9\", \"6\", \"1\", \"12\", \"35\", \"18\"]\n",
        "numerical_numbers = [7, 2, 9, 6, 1, 12, 35, 18]\n",
        "\n",
        "print(sorted(string_numbers))\n",
        "print(sorted(numerical_numbers))"
      ]
    },
    {
      "cell_type": "markdown",
      "metadata": {
        "id": "T8M82QCjdTny"
      },
      "source": [
        "Slicing - taking a portion from a sequence\n",
        "\n",
        "syntax: list_name[start:stop:step]\n",
        "\n",
        "start - default value is 0 index, start is inclusive\n",
        "\n",
        "stop - default it goes to the very last element, stop is exclusive\n",
        "\n",
        "step - how many steps we take before we get to the next element, default value is 1"
      ]
    },
    {
      "cell_type": "code",
      "execution_count": null,
      "metadata": {
        "colab": {
          "base_uri": "https://localhost:8080/"
        },
        "id": "3zK7zB_Xaq8U",
        "outputId": "79b5b85a-d4f8-4c46-95a4-e7dcfc6edf2b"
      },
      "outputs": [
        {
          "name": "stdout",
          "output_type": "stream",
          "text": [
            "['Apple', 'Strawberry', 'Pawpaw', 'Grapes', 'Avocado', 'Kiwi']\n"
          ]
        }
      ],
      "source": [
        "print(fruits)"
      ]
    },
    {
      "cell_type": "code",
      "execution_count": null,
      "metadata": {
        "colab": {
          "base_uri": "https://localhost:8080/"
        },
        "id": "2-M6eP5BeMMa",
        "outputId": "de421b9c-a67d-491e-f3f5-01d0eb16705c"
      },
      "outputs": [
        {
          "name": "stdout",
          "output_type": "stream",
          "text": [
            "['Strawberry', 'Pawpaw', 'Grapes']\n"
          ]
        }
      ],
      "source": [
        "sliced_list = fruits[1:4:1]\n",
        "\n",
        "print(sliced_list)"
      ]
    },
    {
      "cell_type": "code",
      "execution_count": null,
      "metadata": {
        "colab": {
          "base_uri": "https://localhost:8080/"
        },
        "id": "XzI3X9lOfgKE",
        "outputId": "beed875e-7ae4-42ea-8f3a-9fc8a069d779"
      },
      "outputs": [
        {
          "name": "stdout",
          "output_type": "stream",
          "text": [
            "['Apple', 'Strawberry', 'Pawpaw']\n"
          ]
        }
      ],
      "source": [
        "print(fruits[:3:])"
      ]
    },
    {
      "cell_type": "code",
      "execution_count": null,
      "metadata": {
        "colab": {
          "base_uri": "https://localhost:8080/"
        },
        "id": "0p6A6Y64gNiw",
        "outputId": "9c839d2f-56e6-48f1-b542-8a759d949294"
      },
      "outputs": [
        {
          "name": "stdout",
          "output_type": "stream",
          "text": [
            "['Strawberry', 'Grapes', 'Kiwi']\n"
          ]
        }
      ],
      "source": [
        "print(fruits[1::2])"
      ]
    },
    {
      "cell_type": "code",
      "execution_count": null,
      "metadata": {
        "colab": {
          "base_uri": "https://localhost:8080/"
        },
        "id": "jeU5E_KPgdlL",
        "outputId": "e183753a-a96e-4c51-a477-bd8f3d7f36e3"
      },
      "outputs": [
        {
          "name": "stdout",
          "output_type": "stream",
          "text": [
            "['Apple', 'Strawberry', 'Pawpaw', 'Grapes', 'Avocado', 'Kiwi']\n"
          ]
        }
      ],
      "source": [
        "print(fruits)"
      ]
    },
    {
      "cell_type": "code",
      "execution_count": null,
      "metadata": {
        "colab": {
          "base_uri": "https://localhost:8080/"
        },
        "id": "xR08qDuugx0g",
        "outputId": "d432f94b-92ff-47c9-9e47-acb002cc97a5"
      },
      "outputs": [
        {
          "name": "stdout",
          "output_type": "stream",
          "text": [
            "['Grapes', 'Avocado']\n"
          ]
        }
      ],
      "source": [
        "print(fruits[3:5])"
      ]
    },
    {
      "cell_type": "markdown",
      "metadata": {
        "id": "CurLHhjeiG_t"
      },
      "source": [
        "Write a python script that implements the following functionalities\n",
        "\n",
        "1. Initialize 2 empty lists called male_baby_names and female_baby_names\n",
        "2. Append 3 male baby names and 4 female baby names (separately)\n",
        "3. Insert the name Tariq to the male baby names at index 1\n",
        "4. Do away with the last name in the female baby names\n",
        "5. Join the two lists and call the resultant list cute_names\n",
        "6. Sort the cute names in ascending order (A-Z)\n",
        "7. Get the length of the cute names\n",
        "8. Print the second last name in the cute names list\n",
        "9. Change the value of the first name on the cute names list to Layla\n",
        "10. Slice the list from the second element (index 1) to the third element (index 2) and save the result to sliced_list"
      ]
    },
    {
      "cell_type": "code",
      "execution_count": null,
      "metadata": {
        "colab": {
          "base_uri": "https://localhost:8080/"
        },
        "id": "MelP_VqBiCwK",
        "outputId": "9aea65fb-5622-4f93-bd5e-f3885d8a7ec6"
      },
      "outputs": [
        {
          "name": "stdout",
          "output_type": "stream",
          "text": [
            "Male baby names after appending : ['Arlo', 'Kaka', 'Jace']\n",
            "Female baby names after appending : ['Shiko', 'Talya', 'Nova', 'Samantha']\n",
            "Cute names after concatenation : ['Arlo', 'Tariq', 'Kaka', 'Jace', 'Shiko', 'Talya', 'Nova']\n",
            "Sorted cute names : ['Arlo', 'Jace', 'Kaka', 'Nova', 'Shiko', 'Talya', 'Tariq']\n",
            "The length of the cute names list is 7\n",
            "The second last name in the cute names list is Talya\n",
            "Sliced list : ['Jace', 'Kaka']\n"
          ]
        }
      ],
      "source": [
        "male_baby_names = []\n",
        "female_baby_names = []\n",
        "\n",
        "male_baby_names.append(\"Arlo\")\n",
        "male_baby_names.append(\"Kaka\")\n",
        "male_baby_names.append(\"Jace\")\n",
        "\n",
        "print(f\"Male baby names after appending : {male_baby_names}\")\n",
        "\n",
        "female_baby_names.append(\"Shiko\")\n",
        "female_baby_names.append(\"Talya\")\n",
        "female_baby_names.append(\"Nova\")\n",
        "female_baby_names.append(\"Samantha\")\n",
        "print(f\"Female baby names after appending : {female_baby_names}\")\n",
        "\n",
        "male_baby_names.insert(1, \"Tariq\")\n",
        "female_baby_names.pop()\n",
        "\n",
        "cute_names = male_baby_names + female_baby_names\n",
        "print(f\"Cute names after concatenation : {cute_names}\")\n",
        "cute_names = sorted(cute_names)\n",
        "print(f\"Sorted cute names : {cute_names}\")\n",
        "\n",
        "len_cute_names = len(cute_names)\n",
        "print(f\"The length of the cute names list is {len_cute_names}\")\n",
        "\n",
        "print(f\"The second last name in the cute names list is {cute_names[-2]}\")\n",
        "\n",
        "cute_names[0] = \"Layla\"\n",
        "\n",
        "sliced_list = cute_names[1:3]\n",
        "\n",
        "print(f\"Sliced list : {sliced_list}\")"
      ]
    },
    {
      "cell_type": "markdown",
      "metadata": {
        "id": "Aqby8TTeR-WR"
      },
      "source": [
        "Unpacking a list - saving the elements in a list in separate variables"
      ]
    },
    {
      "cell_type": "code",
      "execution_count": null,
      "metadata": {
        "colab": {
          "base_uri": "https://localhost:8080/"
        },
        "id": "y9c3EZ0vRkfI",
        "outputId": "55479255-8cf8-4ee5-827d-a811e294a50a"
      },
      "outputs": [
        {
          "name": "stdout",
          "output_type": "stream",
          "text": [
            "25\n",
            "33\n",
            "45\n"
          ]
        }
      ],
      "source": [
        "ages = [25, 33, 45]\n",
        "\n",
        "age1, age2, age3 = ages\n",
        "\n",
        "print(age1)\n",
        "print(age2)\n",
        "print(age3)"
      ]
    },
    {
      "cell_type": "markdown",
      "metadata": {
        "id": "ZRjKnkPZSjOf"
      },
      "source": [
        "# Tuple\n",
        "\n",
        "- Ordered\n",
        "- Unchangeable / immutable - we cannot change the value of an element, add nor remove an element from a tuple"
      ]
    },
    {
      "cell_type": "code",
      "execution_count": null,
      "metadata": {
        "colab": {
          "base_uri": "https://localhost:8080/"
        },
        "id": "3M9rwdl6SYLQ",
        "outputId": "ed04ba6f-164f-4848-cfe1-9f6c2b164c53"
      },
      "outputs": [
        {
          "name": "stdout",
          "output_type": "stream",
          "text": [
            "<class 'tuple'>\n"
          ]
        }
      ],
      "source": [
        "# syntax:\n",
        "\n",
        "# list_name = [item1, item2, item3...]\n",
        "# tuple_name = (item1, item2, item3....)\n",
        "\n",
        "emobilis_courses = (\"Data Science\", \"Fullstack software development\", \"Cybersecurity\", \"AI for Software Developers\", \"Mobile App Development\", \"Web Development\", \"Advanced Javascript\")\n",
        "\n",
        "print(type(emobilis_courses))"
      ]
    },
    {
      "cell_type": "code",
      "execution_count": null,
      "metadata": {
        "colab": {
          "base_uri": "https://localhost:8080/"
        },
        "id": "FhsjUrZjT2q9",
        "outputId": "8c153803-1186-4e33-bf5a-bfdff4067b25"
      },
      "outputs": [
        {
          "name": "stdout",
          "output_type": "stream",
          "text": [
            "Advanced Javascript\n"
          ]
        }
      ],
      "source": [
        "print(emobilis_courses[-1])"
      ]
    },
    {
      "cell_type": "code",
      "execution_count": null,
      "metadata": {
        "id": "0Zf-qNWIT-3D"
      },
      "outputs": [],
      "source": [
        "# emobilis_courses[0] = \"Machine Learning\"\n",
        "# emobilis_courses.append(\"PHP\")"
      ]
    },
    {
      "cell_type": "markdown",
      "metadata": {
        "id": "WN0lk9pIVBo-"
      },
      "source": [
        "Work-around of adding, removing or changing the values in a given tuple"
      ]
    },
    {
      "cell_type": "code",
      "execution_count": null,
      "metadata": {
        "colab": {
          "base_uri": "https://localhost:8080/"
        },
        "id": "9SIal1GjUSRn",
        "outputId": "1b1e15e5-9e2e-40d6-c184-67ec354da4cc"
      },
      "outputs": [
        {
          "name": "stdout",
          "output_type": "stream",
          "text": [
            "('Data Science', 'Fullstack software development', 'Cybersecurity', 'AI for Software Developers', 'Mobile App Development', 'Web Development', 'Advanced Javascript')\n",
            "['Data Science', 'Fullstack software development', 'Cybersecurity', 'AI for Software Developers', 'Mobile App Development', 'Web Development', 'Advanced Javascript', 'PHP']\n",
            "('Data Science', 'Fullstack software development', 'Cybersecurity', 'AI for Software Developers', 'Mobile App Development', 'Web Development', 'Advanced Javascript', 'PHP')\n"
          ]
        }
      ],
      "source": [
        "print(emobilis_courses)\n",
        "emobilis_courses = list(emobilis_courses)\n",
        "emobilis_courses.append(\"PHP\")\n",
        "print(emobilis_courses)\n",
        "emobilis_courses = tuple(emobilis_courses)\n",
        "print(emobilis_courses)"
      ]
    },
    {
      "cell_type": "markdown",
      "metadata": {
        "id": "h9Me59OsVzBl"
      },
      "source": [
        "Slicing\n",
        "\n",
        "1. Fullstack software development to the end\n",
        "2. Data Science to Cybersecurity\n",
        "3. Data Science to Web Development\n",
        "4. Advanced Javascript to the end\n",
        "5. Data Science, AI for Software Developers, Advanced Javascript"
      ]
    },
    {
      "cell_type": "code",
      "execution_count": null,
      "metadata": {
        "colab": {
          "base_uri": "https://localhost:8080/"
        },
        "id": "bc9AYd8oVP0Q",
        "outputId": "3baf799c-6f4f-489b-ca10-22e7e89d1e7f"
      },
      "outputs": [
        {
          "name": "stdout",
          "output_type": "stream",
          "text": [
            "('Data Science', 'Fullstack software development', 'Cybersecurity', 'AI for Software Developers', 'Mobile App Development', 'Web Development', 'Advanced Javascript', 'PHP')\n"
          ]
        }
      ],
      "source": [
        "print(emobilis_courses)"
      ]
    },
    {
      "cell_type": "code",
      "execution_count": null,
      "metadata": {
        "colab": {
          "base_uri": "https://localhost:8080/"
        },
        "id": "C1dGLTwKbcoR",
        "outputId": "1636f10c-41e4-40fb-c4c6-e2f3e6d56540"
      },
      "outputs": [
        {
          "name": "stdout",
          "output_type": "stream",
          "text": [
            "('Fullstack software development', 'Cybersecurity', 'AI for Software Developers', 'Mobile App Development', 'Web Development', 'Advanced Javascript', 'PHP')\n"
          ]
        }
      ],
      "source": [
        "print(emobilis_courses[1:])"
      ]
    },
    {
      "cell_type": "code",
      "execution_count": null,
      "metadata": {
        "colab": {
          "base_uri": "https://localhost:8080/"
        },
        "id": "LTsmsvUYbnc8",
        "outputId": "47acf84e-3c5c-4186-e160-dfbe4eb76197"
      },
      "outputs": [
        {
          "name": "stdout",
          "output_type": "stream",
          "text": [
            "('Data Science', 'Fullstack software development', 'Cybersecurity')\n"
          ]
        }
      ],
      "source": [
        "print(emobilis_courses[:3])"
      ]
    },
    {
      "cell_type": "code",
      "execution_count": null,
      "metadata": {
        "colab": {
          "base_uri": "https://localhost:8080/"
        },
        "id": "zoBY1fZ8b2Av",
        "outputId": "af8200de-ae81-4a19-e093-cc8b28aebe6b"
      },
      "outputs": [
        {
          "name": "stdout",
          "output_type": "stream",
          "text": [
            "('Data Science', 'Fullstack software development', 'Cybersecurity', 'AI for Software Developers', 'Mobile App Development', 'Web Development')\n"
          ]
        }
      ],
      "source": [
        "print(emobilis_courses[0:6])"
      ]
    },
    {
      "cell_type": "code",
      "execution_count": null,
      "metadata": {
        "colab": {
          "base_uri": "https://localhost:8080/"
        },
        "id": "PvpAm7ylcJPQ",
        "outputId": "35f942b5-a51c-40b4-9cef-9f98bed2a7db"
      },
      "outputs": [
        {
          "name": "stdout",
          "output_type": "stream",
          "text": [
            "('Advanced Javascript', 'PHP')\n"
          ]
        }
      ],
      "source": [
        "print(emobilis_courses[6:])"
      ]
    },
    {
      "cell_type": "code",
      "execution_count": null,
      "metadata": {
        "colab": {
          "base_uri": "https://localhost:8080/"
        },
        "id": "zQMtPJ15cZNg",
        "outputId": "03607792-6452-4d9c-f463-905363e9c165"
      },
      "outputs": [
        {
          "name": "stdout",
          "output_type": "stream",
          "text": [
            "('Data Science', 'AI for Software Developers', 'Advanced Javascript')\n"
          ]
        }
      ],
      "source": [
        "print(emobilis_courses[::3])"
      ]
    },
    {
      "cell_type": "markdown",
      "metadata": {
        "id": "hZ2ZRVPQczhG"
      },
      "source": [
        "# Sets\n",
        "\n",
        "- Unordered\n",
        "- Do not accept duplicate values\n",
        "- Unchangeable but we can still add and remove items"
      ]
    },
    {
      "cell_type": "code",
      "execution_count": null,
      "metadata": {
        "colab": {
          "base_uri": "https://localhost:8080/"
        },
        "id": "Uc6Tkk-mcnrQ",
        "outputId": "8fa5c6d0-da03-48ac-ce32-89aa48f2ee6b"
      },
      "outputs": [
        {
          "name": "stdout",
          "output_type": "stream",
          "text": [
            "{'Python Programming', 'Machine Learning', 'Data Analysis', 'AI'}\n",
            "<class 'set'>\n"
          ]
        }
      ],
      "source": [
        "# list_name = [item1, item2, item3]\n",
        "# tuple_name = (item1, item2, item3)\n",
        "# set_name = {item1, item2, item3}\n",
        "\n",
        "skills = {\"Python Programming\", \"Data Analysis\", \"Machine Learning\", \"AI\"}\n",
        "\n",
        "print(skills)\n",
        "print(type(skills))"
      ]
    },
    {
      "cell_type": "markdown",
      "metadata": {
        "id": "gxICwDYxeTxQ"
      },
      "source": [
        "Adding elements to a set - .add()"
      ]
    },
    {
      "cell_type": "code",
      "execution_count": null,
      "metadata": {
        "colab": {
          "base_uri": "https://localhost:8080/"
        },
        "id": "Rj1NVzaGd-Gy",
        "outputId": "300143bd-1d2b-489b-aa59-cd08a9cf2a11"
      },
      "outputs": [
        {
          "name": "stdout",
          "output_type": "stream",
          "text": [
            "{'AI', 'Data Analysis', 'Web Development', 'Machine Learning', 'Python Programming'}\n"
          ]
        }
      ],
      "source": [
        "skills.add(\"Web Development\")\n",
        "\n",
        "print(skills)"
      ]
    },
    {
      "cell_type": "code",
      "execution_count": null,
      "metadata": {
        "colab": {
          "base_uri": "https://localhost:8080/"
        },
        "id": "KGoqCNxqegxP",
        "outputId": "9b8c3b1b-65b7-463b-f827-721add3c95e3"
      },
      "outputs": [
        {
          "name": "stdout",
          "output_type": "stream",
          "text": [
            "{'AI', 'ai', 'Data Analysis', 'Web Development', 'Machine Learning', 'Python Programming'}\n"
          ]
        }
      ],
      "source": [
        "skills.add(\"ai\")\n",
        "print(skills)"
      ]
    },
    {
      "cell_type": "code",
      "execution_count": null,
      "metadata": {
        "colab": {
          "base_uri": "https://localhost:8080/"
        },
        "id": "V348jVDbfSMN",
        "outputId": "cf7c5453-ab31-443b-d7d7-80c8a08400e4"
      },
      "outputs": [
        {
          "name": "stdout",
          "output_type": "stream",
          "text": [
            "False\n"
          ]
        }
      ],
      "source": [
        "print(\"AI\" == \"ai\")"
      ]
    },
    {
      "cell_type": "code",
      "execution_count": null,
      "metadata": {
        "colab": {
          "base_uri": "https://localhost:8080/"
        },
        "id": "axH4Cbqteray",
        "outputId": "3fd90479-7840-42db-b96e-09b38062dd03"
      },
      "outputs": [
        {
          "name": "stdout",
          "output_type": "stream",
          "text": [
            "['Peter', 'John', 'James', 'John']\n"
          ]
        }
      ],
      "source": [
        "names = [\"Peter\", \"John\", \"James\"]\n",
        "names.append(\"John\")\n",
        "print(names)"
      ]
    },
    {
      "cell_type": "code",
      "execution_count": null,
      "metadata": {
        "colab": {
          "base_uri": "https://localhost:8080/"
        },
        "id": "eJXjMVNxe3yx",
        "outputId": "92634965-3b61-4d17-bb00-3cbbda14d9d8"
      },
      "outputs": [
        {
          "name": "stdout",
          "output_type": "stream",
          "text": [
            "('Mary', 'Jane', 'Mercy', 'Jane')\n"
          ]
        }
      ],
      "source": [
        "names = (\"Mary\", \"Jane\", \"Mercy\", \"Jane\")\n",
        "print(names)"
      ]
    },
    {
      "cell_type": "code",
      "execution_count": null,
      "metadata": {
        "colab": {
          "base_uri": "https://localhost:8080/"
        },
        "id": "k-KbmlA3fHUA",
        "outputId": "32f8dc7e-8ee9-407e-ab99-f316603561af"
      },
      "outputs": [
        {
          "name": "stdout",
          "output_type": "stream",
          "text": [
            "8\n"
          ]
        }
      ],
      "source": [
        "colours = [\"Red\", \"Black\", \"Red\", \"Green\", \"Black\", \"Grey\", \"Pink\", \"Grey\"]\n",
        "print(len(colours))"
      ]
    },
    {
      "cell_type": "code",
      "execution_count": null,
      "metadata": {
        "colab": {
          "base_uri": "https://localhost:8080/"
        },
        "id": "_0nFR1DcgAmG",
        "outputId": "0d2c5376-c0dc-4841-91bd-15ea0449de45"
      },
      "outputs": [
        {
          "name": "stdout",
          "output_type": "stream",
          "text": [
            "{'Green', 'Black', 'Grey', 'Red', 'Pink'}\n"
          ]
        }
      ],
      "source": [
        "colours = set(colours)\n",
        "print(colours)"
      ]
    },
    {
      "cell_type": "code",
      "execution_count": null,
      "metadata": {
        "colab": {
          "base_uri": "https://localhost:8080/"
        },
        "id": "lKeVYbM8gHRa",
        "outputId": "938ac209-53fc-4069-c200-3fbe27eff74f"
      },
      "outputs": [
        {
          "name": "stdout",
          "output_type": "stream",
          "text": [
            "['Green', 'Black', 'Grey', 'Red', 'Pink']\n"
          ]
        }
      ],
      "source": [
        "colours = list(colours)\n",
        "print(colours)"
      ]
    },
    {
      "cell_type": "markdown",
      "metadata": {
        "id": "jCCzxJRygafv"
      },
      "source": [
        "# Dictionaries\n",
        "\n",
        "- Are used to store values in key - value pairs\n",
        "- ordered\n",
        "- changeable\n",
        "- does not allow for duplicates"
      ]
    },
    {
      "cell_type": "code",
      "execution_count": null,
      "metadata": {
        "colab": {
          "base_uri": "https://localhost:8080/"
        },
        "id": "l1gwQti0gO7c",
        "outputId": "d4e01ca7-8085-46c5-9c12-8e0d475d1337"
      },
      "outputs": [
        {
          "name": "stdout",
          "output_type": "stream",
          "text": [
            "{'Name': 'John Doe', 'Age': 20, 'Country': 'Kenya', 'Programming Languages': ['Python', 'JS'], 'Disciplined': True}\n"
          ]
        }
      ],
      "source": [
        "# syntax:\n",
        "\n",
        "# dict_name = {\n",
        "#     key1: value1,\n",
        "#     key2: value2,\n",
        "#     key3: value3\n",
        "# }\n",
        "\n",
        "programmer_details = {\n",
        "    \"Name\": \"John Doe\",\n",
        "    \"Age\": 20,\n",
        "    \"Country\": \"Kenya\",\n",
        "    \"Programming Languages\": [\"Python\", \"JS\"],\n",
        "    \"Disciplined\": True\n",
        "}\n",
        "\n",
        "print(programmer_details)"
      ]
    },
    {
      "cell_type": "markdown",
      "metadata": {
        "id": "p7luPL8XlkLL"
      },
      "source": [
        "Getting values using their keys\n",
        "\n",
        "1. Using the square brackets\n",
        "2. Using the .get()"
      ]
    },
    {
      "cell_type": "code",
      "execution_count": null,
      "metadata": {
        "colab": {
          "base_uri": "https://localhost:8080/"
        },
        "id": "i4nsjWkHk7dA",
        "outputId": "19ae5e28-1b10-4f63-eff2-ea8240e38ab6"
      },
      "outputs": [
        {
          "name": "stdout",
          "output_type": "stream",
          "text": [
            "John Doe\n"
          ]
        }
      ],
      "source": [
        "print(programmer_details[\"Name\"])"
      ]
    },
    {
      "cell_type": "code",
      "execution_count": null,
      "metadata": {
        "colab": {
          "base_uri": "https://localhost:8080/"
        },
        "id": "_RkHJQQ_ly4X",
        "outputId": "1ad63cc4-0f04-459a-d399-adb8ac57366c"
      },
      "outputs": [
        {
          "name": "stdout",
          "output_type": "stream",
          "text": [
            "Kenya\n"
          ]
        }
      ],
      "source": [
        "print(programmer_details.get(\"Country\"))"
      ]
    },
    {
      "cell_type": "markdown",
      "metadata": {
        "id": "ZvoE0ayqmISC"
      },
      "source": [
        "Getting the keys using .keys() and values using .values()"
      ]
    },
    {
      "cell_type": "code",
      "execution_count": null,
      "metadata": {
        "colab": {
          "base_uri": "https://localhost:8080/"
        },
        "id": "mFhwhp-KmByj",
        "outputId": "814afedc-0bcb-48a0-e20d-6870b705d236"
      },
      "outputs": [
        {
          "name": "stdout",
          "output_type": "stream",
          "text": [
            "dict_keys(['Name', 'Age', 'Country', 'Programming Languages', 'Disciplined'])\n"
          ]
        }
      ],
      "source": [
        "print(programmer_details.keys())"
      ]
    },
    {
      "cell_type": "code",
      "execution_count": null,
      "metadata": {
        "colab": {
          "base_uri": "https://localhost:8080/"
        },
        "id": "oyVYHBujmQ7f",
        "outputId": "ab60ad4f-db07-4ea2-b12d-96eeead4cdaa"
      },
      "outputs": [
        {
          "name": "stdout",
          "output_type": "stream",
          "text": [
            "dict_values(['John Doe', 20, 'Kenya', ['Python', 'JS'], True])\n"
          ]
        }
      ],
      "source": [
        "print(programmer_details.values())"
      ]
    },
    {
      "cell_type": "markdown",
      "metadata": {
        "id": "kb_othoEmc4q"
      },
      "source": [
        "Removing a key-value pair from a dictionary"
      ]
    },
    {
      "cell_type": "code",
      "execution_count": null,
      "metadata": {
        "colab": {
          "base_uri": "https://localhost:8080/"
        },
        "id": "RkLXgnMqmWvp",
        "outputId": "274aa910-f1a2-47e9-d59d-0a97302e77d5"
      },
      "outputs": [
        {
          "name": "stdout",
          "output_type": "stream",
          "text": [
            "{'Name': 'John Doe', 'Age': 20, 'Programming Languages': ['Python', 'JS'], 'Disciplined': True}\n"
          ]
        }
      ],
      "source": [
        "programmer_details.pop(\"Country\")\n",
        "\n",
        "print(programmer_details)"
      ]
    },
    {
      "cell_type": "markdown",
      "metadata": {
        "id": "AALbyi-Xm1Nl"
      },
      "source": [
        "Adding key-value pairs to a dictionary\n",
        "\n",
        "1. Direct assignment\n",
        "2. Using the .update() method"
      ]
    },
    {
      "cell_type": "code",
      "execution_count": null,
      "metadata": {
        "colab": {
          "base_uri": "https://localhost:8080/"
        },
        "id": "2w-EBnAlmseM",
        "outputId": "3686279a-ff9d-47b8-82e2-233bcf851949"
      },
      "outputs": [
        {
          "name": "stdout",
          "output_type": "stream",
          "text": [
            "{'Name': 'John Doe', 'Age': 20, 'Programming Languages': ['Python', 'JS'], 'Disciplined': True}\n"
          ]
        }
      ],
      "source": [
        "print(programmer_details)"
      ]
    },
    {
      "cell_type": "code",
      "execution_count": null,
      "metadata": {
        "colab": {
          "base_uri": "https://localhost:8080/"
        },
        "id": "1DoSkU0MnKWw",
        "outputId": "d842cc5b-2dab-4e3f-bfd1-42038fa173f8"
      },
      "outputs": [
        {
          "name": "stdout",
          "output_type": "stream",
          "text": [
            "{'Name': 'John Doe', 'Age': 20, 'Programming Languages': ['Python', 'JS'], 'Disciplined': True, 'Soft Skills': ['Public Speaking', 'Teamwork', 'Leadership']}\n"
          ]
        }
      ],
      "source": [
        "programmer_details[\"Soft Skills\"] = [\"Public Speaking\", \"Teamwork\", \"Leadership\"]\n",
        "\n",
        "print(programmer_details)"
      ]
    },
    {
      "cell_type": "code",
      "execution_count": null,
      "metadata": {
        "colab": {
          "base_uri": "https://localhost:8080/"
        },
        "id": "wvvAL3l7ndvo",
        "outputId": "9603717f-ec86-47ce-8bb6-3d33b790ccbc"
      },
      "outputs": [
        {
          "name": "stdout",
          "output_type": "stream",
          "text": [
            "{'Name': 'John Doe', 'Age': 20, 'Programming Languages': ['Python', 'JS'], 'Disciplined': True, 'Soft Skills': ['Public Speaking', 'Teamwork', 'Leadership'], 'Hours Per Week': 40, 'Married': False, 'Location': 'Nairobi'}\n"
          ]
        }
      ],
      "source": [
        "programmer_details.update({\n",
        "    \"Hours Per Week\": 40,\n",
        "    \"Married\": False,\n",
        "    \"Location\": \"Nairobi\"\n",
        "})\n",
        "\n",
        "print(programmer_details)"
      ]
    },
    {
      "cell_type": "markdown",
      "metadata": {
        "id": "4lbGHE02otmy"
      },
      "source": [
        "Write a python script that takes the following inputs from the user and saves them in a dictionary:\n",
        "\n",
        "1. Name\n",
        "2. Age\n",
        "3. Area of residence\n",
        "\n",
        "Add the following to the dictionary (taken from a user input):\n",
        "\n",
        "4. Occupation\n",
        "5. Whether they are a christian (Boolean) - stores True or False\n",
        "6. Highest level of education (Options are : Primary, secondary, certificate, diploma, degree, masters, PhD)\n",
        "\n",
        "Do away with the age\n",
        "\n",
        "- Print the keys\n",
        "- Print the values\n",
        "\n",
        "- Print the whole dictionary\n"
      ]
    },
    {
      "cell_type": "code",
      "execution_count": null,
      "metadata": {
        "colab": {
          "base_uri": "https://localhost:8080/"
        },
        "id": "LRKXZ0Euoat-",
        "outputId": "1fd0e76a-005f-4fe4-da45-462fc81a380c"
      },
      "outputs": [
        {
          "name": "stdout",
          "output_type": "stream",
          "text": [
            "Are you a christian? (Yes or No)yes\n",
            "True\n"
          ]
        }
      ],
      "source": [
        "name = input(\"Enter your name here : \")\n",
        "age = float(input(\"Enter your age here : \"))\n",
        "residence = input(\"Enter your area of residence here : \")\n",
        "\n",
        "user_details = {\n",
        "    \"Name\": name,\n",
        "    \"Age\": age,\n",
        "    \"Area of Residence\": residence\n",
        "}\n",
        "\n",
        "print(user_details)\n",
        "\n",
        "occupation = input(\"Enter your occupation here : \")\n",
        "is_christian = input(\"Are you a christian? (Yes or No) : \").upper()\n",
        "if is_christian == \"YES\" or is_christian == \"Y\" or is_christian == \"CHRISTIAN\":\n",
        "  is_christian = True\n",
        "elif is_christian == \"NO\" or is_christian == \"MUSLIM\" or is_christian == \"HINDU\" or is_christian == \"AETHIST\" or is_christian == \"N\":\n",
        "  is_christian = False\n",
        "else:\n",
        "  print(\"You have entered an invalid input!\")\n",
        "\n",
        "education_level = input(\"\"\"\n",
        "What is your highest level of education :\n",
        "1. Primary School\n",
        "2. Secondary School\n",
        "3. Certificate\n",
        "4. Diploma\n",
        "5. Degree\n",
        "6. Masters\n",
        "7. PhD\n",
        "\"\"\").upper()\n",
        "\n",
        "if education_level == \"1\" or education_level == \"PRIMARY SCHOOL\":\n",
        "  education_level = \"Primary School\"\n",
        "elif education_level == \"2\" or education_level == \"SECONDARY SCHOOL\":\n",
        "  education_level = \"Secondary School\"\n",
        "elif education_level == \"3\" or education_level == \"CERTIFICATE\":\n",
        "  education_level = \"Certificate\"\n",
        "elif education_level == \"4\" or education_level == \"DIPLOMA\":\n",
        "  education_level = \"Diploma\"\n",
        "elif education_level == \"5\" or education_level == \"DEGREE\":\n",
        "  education_level = \"Degree\"\n",
        "elif education_level == \"6\" or education_level == \"MASTERS\":\n",
        "  education_level = \"Masters\"\n",
        "elif education_level == \"7\" or education_level == \"PHD\":\n",
        "  education_level = \"PhD\"\n",
        "else:\n",
        "  print(\"You have entered an invalid input!\")\n",
        "\n",
        "user_details.update({\n",
        "    \"Occupation\": occupation,\n",
        "    \"Is Christian\": is_christian,\n",
        "    \"Highest Level of Education\": education_level\n",
        "})\n",
        "\n",
        "user_details.pop(\"Age\")\n",
        "\n",
        "print(user_details.keys())\n",
        "print(user_details.values())\n",
        "print(user_details)"
      ]
    },
    {
      "cell_type": "markdown",
      "metadata": {
        "id": "Jl_PfOuoeFfd"
      },
      "source": [
        "Identity Operator\n",
        "\n",
        "is\n",
        "\n",
        "is not\n",
        "\n",
        "- the identity operator is is used to check whether two variables occupy the same location in memory"
      ]
    },
    {
      "cell_type": "code",
      "execution_count": null,
      "metadata": {
        "colab": {
          "base_uri": "https://localhost:8080/"
        },
        "id": "xuq7-XjHYXFC",
        "outputId": "397a8b15-c82c-4085-eeed-9fdd60b6a693"
      },
      "outputs": [
        {
          "name": "stdout",
          "output_type": "stream",
          "text": [
            "False\n",
            "True\n"
          ]
        }
      ],
      "source": [
        "a = [1, 2, 3]\n",
        "b = [1, 2, 3]\n",
        "\n",
        "print(a is b)\n",
        "print(a == b)"
      ]
    },
    {
      "cell_type": "code",
      "execution_count": null,
      "metadata": {
        "colab": {
          "base_uri": "https://localhost:8080/"
        },
        "id": "nPkMyQqSezgx",
        "outputId": "43b82bd2-99ba-41c0-e644-af39acc642f5"
      },
      "outputs": [
        {
          "name": "stdout",
          "output_type": "stream",
          "text": [
            "True\n"
          ]
        }
      ],
      "source": [
        "c = a\n",
        "\n",
        "print(a is c)"
      ]
    },
    {
      "cell_type": "markdown",
      "metadata": {
        "id": "VZ3kgqQEf3qW"
      },
      "source": [
        "Membership Operator\n",
        "\n",
        "- in\n",
        "- not in\n",
        "\n",
        "- Checks for membership in sequence(string, list, tuple)"
      ]
    },
    {
      "cell_type": "code",
      "execution_count": null,
      "metadata": {
        "colab": {
          "base_uri": "https://localhost:8080/"
        },
        "id": "KPnw9gykfRLA",
        "outputId": "776c6dbe-ba49-48ca-c8cd-084a0d89f0e2"
      },
      "outputs": [
        {
          "name": "stdout",
          "output_type": "stream",
          "text": [
            "True\n"
          ]
        }
      ],
      "source": [
        "print(\"Peter\" in \"My name is Peter Gachuki\")"
      ]
    },
    {
      "cell_type": "code",
      "execution_count": null,
      "metadata": {
        "colab": {
          "base_uri": "https://localhost:8080/"
        },
        "id": "iWoASq5lgSxT",
        "outputId": "05590e1b-d728-4aed-dc03-60124c4cc864"
      },
      "outputs": [
        {
          "name": "stdout",
          "output_type": "stream",
          "text": [
            "True\n"
          ]
        }
      ],
      "source": [
        "print(24 in [20, 30, 43, 24, 68])"
      ]
    },
    {
      "cell_type": "markdown",
      "metadata": {
        "id": "Tr7ZqHWwgrMa"
      },
      "source": [
        "Write a python script that takes an article input from a user and checks for any instance of double spacing."
      ]
    },
    {
      "cell_type": "code",
      "execution_count": null,
      "metadata": {
        "colab": {
          "base_uri": "https://localhost:8080/"
        },
        "id": "eRbMFeAvgeSr",
        "outputId": "86f19c4a-6ba2-4b91-ae6c-fab8a34c2052"
      },
      "outputs": [
        {
          "name": "stdout",
          "output_type": "stream",
          "text": [
            "Enter your article here : I am very  happy. Today  is  a good  day\n",
            "I am very happy. Today is a good day\n"
          ]
        }
      ],
      "source": [
        "article = input(\"Enter your article here : \")\n",
        "if \"  \" in article:\n",
        "  article = article.replace(\"  \", \" \")\n",
        "\n",
        "print(article)"
      ]
    },
    {
      "cell_type": "markdown",
      "metadata": {
        "id": "elSEwA2JkOEN"
      },
      "source": [
        "# Loops\n",
        "\n",
        "- iterate over a block of code several times\n",
        "\n",
        "- For loop\n",
        "- While loop"
      ]
    },
    {
      "cell_type": "markdown",
      "metadata": {
        "id": "ZuycsnjgkgsK"
      },
      "source": [
        "For loops - is used to iterate over sequential datatypes and ranges"
      ]
    },
    {
      "cell_type": "code",
      "execution_count": null,
      "metadata": {
        "colab": {
          "base_uri": "https://localhost:8080/"
        },
        "id": "KHW-eQF2jdZ0",
        "outputId": "5addbc19-4748-4bd5-a9ec-17af4fb6cd72"
      },
      "outputs": [
        {
          "name": "stdout",
          "output_type": "stream",
          "text": [
            "Mango\n",
            "----------------\n",
            "Passion\n",
            "----------------\n",
            "Pineapple\n",
            "----------------\n",
            "Orange\n",
            "----------------\n"
          ]
        }
      ],
      "source": [
        "import time\n",
        "\n",
        "fruits = [\"Mango\", \"Passion\", \"Pineapple\", \"Orange\"]\n",
        "\n",
        "# syntax:\n",
        "# for active_element in list_name:\n",
        "#   code to be run at each iteration\n",
        "\n",
        "for active_element in fruits:\n",
        "  print(active_element)\n",
        "  print(\"----------------\")\n",
        "  time.sleep(5)"
      ]
    },
    {
      "cell_type": "code",
      "execution_count": null,
      "metadata": {
        "colab": {
          "base_uri": "https://localhost:8080/"
        },
        "id": "Oeph6rX0lNPX",
        "outputId": "84749a5a-61f3-4e30-fff9-a02488e0de6d"
      },
      "outputs": [
        {
          "name": "stdout",
          "output_type": "stream",
          "text": [
            "Cristiano Ronaldo is a BIG celebrity\n",
            "Beyonce is a BIG celebrity\n",
            "Ariana Grande is well known\n",
            "Mr. Beast is well known\n",
            "Rihanna is well known\n",
            "Stevo Simple Boy is well known\n"
          ]
        }
      ],
      "source": [
        "celebrities = [\"Cristiano Ronaldo\", \"Beyonce\", \"Ariana Grande\", \"Mr. Beast\", \"Rihanna\", \"Stevo Simple Boy\"]\n",
        "big_celebrities = [\"Cristiano Ronaldo\", \"Beyonce\"]\n",
        "\n",
        "for celeb in celebrities:\n",
        "  if celeb in big_celebrities:\n",
        "    print(f\"{celeb} is a BIG celebrity\")\n",
        "  else:\n",
        "    print(f\"{celeb} is well known\")"
      ]
    },
    {
      "cell_type": "markdown",
      "metadata": {
        "id": "Q-fpi01coALD"
      },
      "source": [
        "enumerate() - is used in loops to keep track of the index and store the active element"
      ]
    },
    {
      "cell_type": "code",
      "execution_count": null,
      "metadata": {
        "colab": {
          "base_uri": "https://localhost:8080/"
        },
        "id": "OJXTticOnyI8",
        "outputId": "530502cb-4c97-443a-e144-dceb46e73ed9"
      },
      "outputs": [
        {
          "name": "stdout",
          "output_type": "stream",
          "text": [
            "1. Cristiano Ronaldo\n",
            "2. Beyonce\n",
            "3. Ariana Grande\n",
            "4. Mr. Beast\n",
            "5. Rihanna\n",
            "6. Stevo Simple Boy\n"
          ]
        }
      ],
      "source": [
        "for idx, celeb in enumerate(celebrities):\n",
        "  print(f\"{idx + 1}. {celeb}\")"
      ]
    },
    {
      "cell_type": "markdown",
      "metadata": {
        "id": "njzDoriSo_uB"
      },
      "source": [
        "Break and continue\n",
        "\n",
        "- Break - it terminates the execution of the loop there and then\n",
        "- Continue - it stops executing the current iteration and skips to the next"
      ]
    },
    {
      "cell_type": "code",
      "execution_count": null,
      "metadata": {
        "colab": {
          "base_uri": "https://localhost:8080/"
        },
        "id": "TvFKnhuZoL_Y",
        "outputId": "86e6257c-c08b-4692-bc13-dc4378446d5c"
      },
      "outputs": [
        {
          "name": "stdout",
          "output_type": "stream",
          "text": [
            "Cristiano Ronaldo\n",
            "Beyonce\n"
          ]
        }
      ],
      "source": [
        "celebrities = [\"Cristiano Ronaldo\", \"Beyonce\", \"Ariana Grande\", \"Mr. Beast\", \"Rihanna\", \"Stevo Simple Boy\"]\n",
        "\n",
        "for celeb in celebrities:\n",
        "  if celeb == \"Ariana Grande\":\n",
        "    break\n",
        "  print(celeb)"
      ]
    },
    {
      "cell_type": "code",
      "execution_count": null,
      "metadata": {
        "colab": {
          "base_uri": "https://localhost:8080/"
        },
        "id": "pOuCNjEZpu3G",
        "outputId": "c5c070ae-7d4b-4846-dde9-73665102f277"
      },
      "outputs": [
        {
          "name": "stdout",
          "output_type": "stream",
          "text": [
            "Cristiano Ronaldo\n",
            "Beyonce\n",
            "Mr. Beast\n",
            "Rihanna\n",
            "Stevo Simple Boy\n"
          ]
        }
      ],
      "source": [
        "celebrities = [\"Cristiano Ronaldo\", \"Beyonce\", \"Ariana Grande\", \"Mr. Beast\", \"Rihanna\", \"Stevo Simple Boy\"]\n",
        "\n",
        "for celeb in celebrities:\n",
        "  if celeb == \"Ariana Grande\":\n",
        "    continue\n",
        "  print(celeb)"
      ]
    },
    {
      "cell_type": "code",
      "execution_count": null,
      "metadata": {
        "colab": {
          "base_uri": "https://localhost:8080/"
        },
        "id": "nTDrr4-1qHI7",
        "outputId": "e03e11dc-843c-4ca6-f595-5c51669459d0"
      },
      "outputs": [
        {
          "name": "stdout",
          "output_type": "stream",
          "text": [
            "12\n",
            "13\n",
            "14\n",
            "15\n",
            "16\n",
            "17\n",
            "18\n",
            "19\n",
            "20\n",
            "21\n",
            "22\n",
            "23\n",
            "24\n"
          ]
        }
      ],
      "source": [
        "for number in range(12, 25):\n",
        "  print(number)"
      ]
    },
    {
      "cell_type": "code",
      "execution_count": null,
      "metadata": {
        "colab": {
          "base_uri": "https://localhost:8080/"
        },
        "id": "sd4sYK3Aqpnn",
        "outputId": "53892923-687d-433d-c04d-fc5525b3e2ac"
      },
      "outputs": [
        {
          "name": "stdout",
          "output_type": "stream",
          "text": [
            "range(12, 25)\n"
          ]
        }
      ],
      "source": [
        "print(range(12, 25))"
      ]
    },
    {
      "cell_type": "code",
      "execution_count": null,
      "metadata": {
        "colab": {
          "base_uri": "https://localhost:8080/"
        },
        "id": "2bdfwU2LqwSS",
        "outputId": "b06bf324-7c7d-4a52-a116-0f6ba31eb9d8"
      },
      "outputs": [
        {
          "name": "stdout",
          "output_type": "stream",
          "text": [
            "I love programming\n",
            "I love programming\n",
            "I love programming\n",
            "I love programming\n",
            "I love programming\n",
            "I love programming\n",
            "I love programming\n",
            "I love programming\n",
            "I love programming\n",
            "I love programming\n"
          ]
        }
      ],
      "source": [
        "for i in range(10):\n",
        "  print(\"I love programming\")"
      ]
    },
    {
      "cell_type": "markdown",
      "metadata": {
        "id": "nHVaFtrcrabl"
      },
      "source": [
        "While loops - this loop iterates over a block of code until a certain condition is met\n",
        "\n",
        "* NB:\n",
        "\n",
        "Avoid non-teminating / infinite loops"
      ]
    },
    {
      "cell_type": "code",
      "execution_count": null,
      "metadata": {
        "colab": {
          "base_uri": "https://localhost:8080/"
        },
        "id": "BSWlaltyrPDi",
        "outputId": "59f57498-d12e-460a-f102-6197464e44d6"
      },
      "outputs": [
        {
          "name": "stdout",
          "output_type": "stream",
          "text": [
            "5\n",
            "6\n",
            "7\n",
            "8\n",
            "9\n"
          ]
        }
      ],
      "source": [
        "number = 5\n",
        "\n",
        "while number < 10:\n",
        "  print(number)\n",
        "  number += 1"
      ]
    },
    {
      "cell_type": "markdown",
      "metadata": {
        "id": "oOop5ERpssdp"
      },
      "source": [
        "1. Write a python script that takes 5 inputs from the user in a loop. The inputs should be on the names of the big 5. List them down and number them in the order in which the user input them.\n",
        "\n",
        "2. Write a python script that returns a list of all the numbers between 1 and 1000(inclusive) that are both divisible by 11 and 13"
      ]
    },
    {
      "cell_type": "code",
      "execution_count": null,
      "metadata": {
        "colab": {
          "base_uri": "https://localhost:8080/"
        },
        "id": "oOOHYnKgsaWX",
        "outputId": "66f79673-0400-453d-c50d-ce60651ed1a8"
      },
      "outputs": [
        {
          "name": "stdout",
          "output_type": "stream",
          "text": [
            "Enter one of the big 5 animals : lion\n",
            "Enter one of the big 5 animals : leopard\n",
            "Enter one of the big 5 animals : rhino\n",
            "Enter one of the big 5 animals : buffalo\n",
            "Enter one of the big 5 animals : elephant\n",
            "1. lion\n",
            "2. leopard\n",
            "3. rhino\n",
            "4. buffalo\n",
            "5. elephant\n"
          ]
        }
      ],
      "source": [
        "big_5 = []\n",
        "for i in range(5):\n",
        "  one_big_5 = input(\"Enter one of the big 5 animals : \")\n",
        "  big_5.append(one_big_5)\n",
        "\n",
        "for idx, big_5_animal in enumerate(big_5):\n",
        "  print(f\"{idx + 1}. {big_5_animal}\")"
      ]
    },
    {
      "cell_type": "code",
      "execution_count": null,
      "metadata": {
        "colab": {
          "base_uri": "https://localhost:8080/"
        },
        "id": "qKEZArCsif6B",
        "outputId": "17999b57-1388-406b-f2bf-1cb5987a742c"
      },
      "outputs": [
        {
          "name": "stdout",
          "output_type": "stream",
          "text": [
            "[143, 286, 429, 572, 715, 858]\n"
          ]
        }
      ],
      "source": [
        "div_11_13 = []\n",
        "\n",
        "for i in range(1, 1001):\n",
        "  if i % 11 == 0 and i % 13 == 0:\n",
        "    div_11_13.append(i)\n",
        "\n",
        "\n",
        "print(div_11_13)"
      ]
    },
    {
      "cell_type": "markdown",
      "metadata": {
        "id": "tUIeq8n1kBW5"
      },
      "source": [
        "# Functions\n",
        "\n",
        "- A function is a block of code that runs only when it is called. It performs a specific task\n",
        "- It is defined using the def keyword\n",
        "- It can take in information, process it and return the result\n",
        "- Enable reusability of code\n",
        "\n",
        "Types of functions\n",
        "- Built in functions - come with python - eg print, input, max, min\n",
        "- User defined functions -\n",
        "- Library functions\n",
        "- Lambda functions - short form functions (one-liners)"
      ]
    },
    {
      "cell_type": "code",
      "execution_count": null,
      "metadata": {
        "colab": {
          "base_uri": "https://localhost:8080/"
        },
        "id": "req9xeN9ja-6",
        "outputId": "cc7dd360-1661-41cf-85cc-5e327740805e"
      },
      "outputs": [
        {
          "name": "stdout",
          "output_type": "stream",
          "text": [
            "78\n",
            "12\n",
            "308\n"
          ]
        }
      ],
      "source": [
        "numbers = [34, 54, 12, 54, 76, 78]\n",
        "\n",
        "print(max(numbers))\n",
        "print(min(numbers))\n",
        "print(sum(numbers))"
      ]
    },
    {
      "cell_type": "markdown",
      "metadata": {
        "id": "cICnpJtnmKMR"
      },
      "source": [
        "User defined functions\n",
        "- Parameters - is a variable taken by a function at its definition stage and it can be used as a variable within the function\n",
        "- Arguments"
      ]
    },
    {
      "cell_type": "code",
      "execution_count": null,
      "metadata": {
        "colab": {
          "base_uri": "https://localhost:8080/"
        },
        "id": "DL76XMWwlE5I",
        "outputId": "3baad309-0afe-4dbc-977f-4638bf70d34b"
      },
      "outputs": [
        {
          "name": "stdout",
          "output_type": "stream",
          "text": [
            "Enter your name here : Mark\n",
            "Enter the time of day : evening\n",
            "Good evening Mark!\n"
          ]
        }
      ],
      "source": [
        "# syntax\n",
        "\n",
        "# def function_name(parameter1, parameter2, parameter3):\n",
        "#   code to be executed\n",
        "#   return value\n",
        "\n",
        "# argument1 = 25\n",
        "# function_name(argument1, argument2, argument3)\n",
        "\n",
        "def greetings(name, time_of_day):\n",
        "  if time_of_day == \"morning\":\n",
        "    return f\"Good morning {name}!\"\n",
        "  elif time_of_day == \"afternoon\":\n",
        "    return f\"Good afternoon {name}!\"\n",
        "  elif time_of_day == \"evening\":\n",
        "    return f\"Good evening {name}!\"\n",
        "  else:\n",
        "    return f\"Hello {name}!\"\n",
        "\n",
        "\n",
        "name = input(\"Enter your name here : \")\n",
        "time_of_day = input(\"Enter the time of day : \")\n",
        "\n",
        "my_greeting = greetings(time_of_day=time_of_day, name=name)\n",
        "print(my_greeting)"
      ]
    },
    {
      "cell_type": "markdown",
      "metadata": {
        "id": "qpYJY_oGsYMJ"
      },
      "source": [
        "Write a python script that calculates the area of a circle from a given diameter\n",
        "\n",
        "A = pi * r ** 2"
      ]
    },
    {
      "cell_type": "code",
      "execution_count": null,
      "metadata": {
        "colab": {
          "base_uri": "https://localhost:8080/"
        },
        "id": "mY1spv_3muB3",
        "outputId": "b3ea0aea-38f4-4119-caff-79453b10d57b"
      },
      "outputs": [
        {
          "name": "stdout",
          "output_type": "stream",
          "text": [
            "Enter the diameter of the circle here : 25.8\n",
            "The area of a circle with diameter 25.8 units is 522.86 square units\n"
          ]
        }
      ],
      "source": [
        "def area_of_circle(diameter):\n",
        "  radius = diameter / 2\n",
        "  return 3.142 * radius ** 2\n",
        "\n",
        "diameter = float(input(\"Enter the diameter of the circle here : \"))\n",
        "calculated_area = round(area_of_circle(diameter), 2)\n",
        "print(f\"The area of a circle with diameter {diameter} units is {calculated_area} square units\")"
      ]
    },
    {
      "cell_type": "markdown",
      "metadata": {
        "id": "eYAB49L-t0c-"
      },
      "source": [
        "Create functions that do the following:\n",
        "\n",
        "1. Calculates the area of a rectangle A = l * w\n",
        "2. Calculates the surface area of a sphere  A = 4 * pi * r ** 2\n",
        "3. Calculates the volume of a sphere V = 4/3 * pi * r ** 3\n",
        "4. Calculates the surface area of a closed cylinder A = (2 * pi * r ** 2) + (2 * pi * r * h)"
      ]
    },
    {
      "cell_type": "code",
      "execution_count": null,
      "metadata": {
        "colab": {
          "base_uri": "https://localhost:8080/"
        },
        "id": "uBL1uOHg0AZi",
        "outputId": "6dc39b76-4582-4d87-fc5c-bd1ac1e95dce"
      },
      "outputs": [
        {
          "name": "stdout",
          "output_type": "stream",
          "text": [
            "Enter the length of the rectangle here : 20\n",
            "Enter the width of the rectangle here : 12\n",
            "The area of a rectangle with length 20.0 units and width 12.0 units is 240.0 square units\n"
          ]
        }
      ],
      "source": [
        "def area_rectangle(length, width):\n",
        "  return length * width\n",
        "\n",
        "length = float(input(\"Enter the length of the rectangle here : \"))\n",
        "width = float(input(\"Enter the width of the rectangle here : \"))\n",
        "calculated_area_rectangle = area_rectangle(length, width)\n",
        "print(f\"The area of a rectangle with length {length} units and width {width} units is {calculated_area_rectangle} square units\")"
      ]
    },
    {
      "cell_type": "code",
      "execution_count": null,
      "metadata": {
        "colab": {
          "base_uri": "https://localhost:8080/"
        },
        "id": "XxeN-Q7K1gWj",
        "outputId": "30bb544a-3be6-4222-ac55-2307fdf79c91"
      },
      "outputs": [
        {
          "name": "stdout",
          "output_type": "stream",
          "text": [
            "Enter the radius of the sphere here : 20\n",
            "The surface area of a sphere with radius 20.0 units is 5027.2 square units\n"
          ]
        }
      ],
      "source": [
        "def surface_area_sphere(radius):\n",
        "  return 4 * 3.142 * radius ** 2\n",
        "\n",
        "radius = float(input(\"Enter the radius of the sphere here : \"))\n",
        "calculated_surface_area_sphere = surface_area_sphere(radius)\n",
        "print(f\"The surface area of a sphere with radius {radius} units is {calculated_surface_area_sphere} square units\")"
      ]
    },
    {
      "cell_type": "code",
      "execution_count": null,
      "metadata": {
        "colab": {
          "base_uri": "https://localhost:8080/"
        },
        "id": "lSv-63Ff1v4A",
        "outputId": "1d990b27-c72e-4ae8-cd50-acc4a22c865b"
      },
      "outputs": [
        {
          "name": "stdout",
          "output_type": "stream",
          "text": [
            "Enter the radius of the sphere here : 14\n",
            "The volume of a sphere with radius 14.0 units is 11495.530666666666 cubic units\n"
          ]
        }
      ],
      "source": [
        "def vol_sphere(radius):\n",
        "  return 4 / 3 * 3.142 * radius ** 3\n",
        "\n",
        "radius = float(input(\"Enter the radius of the sphere here : \"))\n",
        "calculated_vol_sphere = vol_sphere(radius)\n",
        "print(f\"The volume of a sphere with radius {radius} units is {calculated_vol_sphere} cubic units\")"
      ]
    },
    {
      "cell_type": "code",
      "execution_count": null,
      "metadata": {
        "colab": {
          "base_uri": "https://localhost:8080/"
        },
        "id": "RzWiA8AJ19i6",
        "outputId": "c5bc7abd-c244-4124-be9a-ce5ab95e3e87"
      },
      "outputs": [
        {
          "name": "stdout",
          "output_type": "stream",
          "text": [
            "Enter the radius of the closed cylinder here : 30\n",
            "Enter the height of the closed cylinder here : 21\n",
            "The surface area of a closed cylinder with radius 30.0 units and height 21.0 units is 9614.519999999999 square units\n"
          ]
        }
      ],
      "source": [
        "def surface_area_closed_cylinder(radius, height):\n",
        "  return (2 * 3.142 * radius ** 2) + (2 * 3.142 * radius * height)\n",
        "\n",
        "radius = float(input(\"Enter the radius of the closed cylinder here : \"))\n",
        "height = float(input(\"Enter the height of the closed cylinder here : \"))\n",
        "calculated_surface_area_closed_cylinder = surface_area_closed_cylinder(radius, height)\n",
        "\n",
        "print(f\"The surface area of a closed cylinder with radius {radius} units and height {height} units is {calculated_surface_area_closed_cylinder} square units\")"
      ]
    },
    {
      "cell_type": "markdown",
      "metadata": {
        "id": "9G3o2xtKuVi9"
      },
      "source": [
        "# Libraries\n",
        "\n",
        "- Are scripts of code that are pre-written to easen the burden of implementation of common functionalities from scratch\n",
        "- Download/install them - !pip install library_name\n",
        "- Import\n",
        "- Use it"
      ]
    },
    {
      "cell_type": "code",
      "execution_count": null,
      "metadata": {
        "colab": {
          "base_uri": "https://localhost:8080/"
        },
        "id": "O8BHbtbLtRYT",
        "outputId": "36f6622c-a558-4651-9caa-746146070044"
      },
      "outputs": [
        {
          "name": "stdout",
          "output_type": "stream",
          "text": [
            "Requirement already satisfied: pandas in /usr/local/lib/python3.12/dist-packages (2.2.2)\n",
            "Requirement already satisfied: numpy>=1.26.0 in /usr/local/lib/python3.12/dist-packages (from pandas) (2.0.2)\n",
            "Requirement already satisfied: python-dateutil>=2.8.2 in /usr/local/lib/python3.12/dist-packages (from pandas) (2.9.0.post0)\n",
            "Requirement already satisfied: pytz>=2020.1 in /usr/local/lib/python3.12/dist-packages (from pandas) (2025.2)\n",
            "Requirement already satisfied: tzdata>=2022.7 in /usr/local/lib/python3.12/dist-packages (from pandas) (2025.2)\n",
            "Requirement already satisfied: six>=1.5 in /usr/local/lib/python3.12/dist-packages (from python-dateutil>=2.8.2->pandas) (1.17.0)\n"
          ]
        }
      ],
      "source": [
        "!pip install pandas"
      ]
    },
    {
      "cell_type": "code",
      "execution_count": null,
      "metadata": {
        "colab": {
          "base_uri": "https://localhost:8080/"
        },
        "id": "gXn1xuQB3uYP",
        "outputId": "15daa88a-dd17-44d1-9d52-120f6c0b4a0a"
      },
      "outputs": [
        {
          "name": "stdout",
          "output_type": "stream",
          "text": [
            "Requirement already satisfied: numpy in /usr/local/lib/python3.12/dist-packages (2.0.2)\n"
          ]
        }
      ],
      "source": [
        "!pip install numpy"
      ]
    },
    {
      "cell_type": "code",
      "execution_count": null,
      "metadata": {
        "colab": {
          "base_uri": "https://localhost:8080/"
        },
        "id": "fNWdkq6H4BUo",
        "outputId": "b10820f0-cf2d-4896-b49b-94555a6afc21"
      },
      "outputs": [
        {
          "name": "stdout",
          "output_type": "stream",
          "text": [
            "23.6\n",
            "23\n",
            "24\n"
          ]
        }
      ],
      "source": [
        "import math\n",
        "\n",
        "# print(math.sqrt(144))\n",
        "number = 23.56\n",
        "\n",
        "# round off\n",
        "print(round(number, 1))\n",
        "\n",
        "# rounding down - floor\n",
        "print(math.floor(number))\n",
        "\n",
        "# rounding up - ceil\n",
        "print(math.ceil(number))"
      ]
    },
    {
      "cell_type": "code",
      "execution_count": null,
      "metadata": {
        "colab": {
          "base_uri": "https://localhost:8080/"
        },
        "id": "3J3FPKcN4JdG",
        "outputId": "5dd00a11-f8d7-49a6-9385-04f0d842ac59"
      },
      "outputs": [
        {
          "name": "stdout",
          "output_type": "stream",
          "text": [
            "53.285714285714285\n",
            "54\n",
            "54\n"
          ]
        }
      ],
      "source": [
        "import statistics\n",
        "\n",
        "numbers = [21, 34, 54, 84, 55, 71, 54]\n",
        "\n",
        "print(statistics.mean(numbers))\n",
        "print(statistics.median(numbers))\n",
        "print(statistics.mode(numbers))"
      ]
    },
    {
      "cell_type": "code",
      "execution_count": null,
      "metadata": {
        "id": "bWLf6BGT5kri"
      },
      "outputs": [],
      "source": [
        "import pandas as pd\n",
        "import numpy as np"
      ]
    },
    {
      "cell_type": "markdown",
      "metadata": {
        "id": "ecoZCdTu5_VD"
      },
      "source": [
        "Random Library"
      ]
    },
    {
      "cell_type": "code",
      "execution_count": null,
      "metadata": {
        "colab": {
          "base_uri": "https://localhost:8080/"
        },
        "id": "Y3pUdcZQ6BRB",
        "outputId": "3fc752e9-e699-4fff-8e0f-148d6562b31c"
      },
      "outputs": [
        {
          "name": "stdout",
          "output_type": "stream",
          "text": [
            "53\n",
            "13\n",
            "97\n",
            "12\n",
            "4\n",
            "87\n",
            "16\n",
            "17\n",
            "41\n",
            "61\n"
          ]
        }
      ],
      "source": [
        "import random\n",
        "\n",
        "for i in range(10):\n",
        "  print(random.randrange(1, 100))"
      ]
    },
    {
      "cell_type": "code",
      "execution_count": null,
      "metadata": {
        "colab": {
          "base_uri": "https://localhost:8080/"
        },
        "id": "bYMf5BO_6I7A",
        "outputId": "b66e3481-f037-41c2-b272-a31d46039033"
      },
      "outputs": [
        {
          "name": "stdout",
          "output_type": "stream",
          "text": [
            "Grey\n"
          ]
        }
      ],
      "source": [
        "colour = [\"Black\", \"Green\", \"Red\", \"Yellow\", \"Pink\", \"Grey\"]\n",
        "\n",
        "print(random.choice(colour))"
      ]
    },
    {
      "cell_type": "code",
      "execution_count": null,
      "metadata": {
        "colab": {
          "base_uri": "https://localhost:8080/"
        },
        "id": "0oP-fYZH6mZX",
        "outputId": "71b3745e-9b22-410d-f6cf-ced147defbd6"
      },
      "outputs": [
        {
          "name": "stdout",
          "output_type": "stream",
          "text": [
            "Welcome to the Snakes and Ladders Game\n",
            "2\n"
          ]
        }
      ],
      "source": [
        "import random\n",
        "print(\"Welcome to the Snakes and Ladders Game\")\n",
        "options = [1, 2, 3, 4, 5, 6]\n",
        "player1_position = 0\n",
        "player2_position = 0\n",
        "counter = 1\n",
        "\n",
        "while True:\n",
        "  # player 1\n",
        "  if counter % 2 == 0:\n",
        "    user_response = input(\"Player 1: Type Play or P to roll the dice : \").lower()\n",
        "    if user_response == \"play\" or user_response == \"p\":\n",
        "      pass\n",
        "    elif user_response == \"quit\" or user_response == \"exit\":\n",
        "      break\n",
        "    else:\n",
        "      print(f\"You have entered an invalid input : {user_response}\")\n",
        "  else:\n",
        "    # player 2\n",
        "    user_response = input(\"Player 2: Type Play or P to roll the dice : \").lower()\n",
        "    if user_response == \"play\" or user_response == \"p\":\n",
        "      pass\n",
        "    elif user_response == \"quit\" or user_response == \"exit\":\n",
        "      break\n",
        "    else:\n",
        "      print(f\"You have entered an invalid input : {user_response}\")"
      ]
    },
    {
      "cell_type": "markdown",
      "metadata": {
        "id": "UZ4xumEARWQW"
      },
      "source": [
        "Snakes and Ladders Game"
      ]
    },
    {
      "cell_type": "code",
      "execution_count": null,
      "metadata": {
        "colab": {
          "base_uri": "https://localhost:8080/"
        },
        "id": "a_l3VXqCAY4Z",
        "outputId": "d13259cc-a408-4a33-d502-19a58a1fe953"
      },
      "outputs": [
        {
          "name": "stdout",
          "output_type": "stream",
          "text": [
            "Welcome to the Snakes and Ladders Game\n",
            "Current Player Position : 0\n",
            "Press enter to play : \n",
            "The dice has landed on 3\n",
            "You have moved to 3\n",
            "=================================\n",
            "Current Player Position : 3\n",
            "Press enter to play : \n",
            "The dice has landed on 5\n",
            "You have moved to 34\n",
            "=================================\n",
            "Current Player Position : 34\n",
            "Press enter to play : \n",
            "The dice has landed on 2\n",
            "You have moved to 17\n",
            "=================================\n",
            "Current Player Position : 17\n",
            "Press enter to play : \n",
            "The dice has landed on 1\n",
            "You have moved to 18\n",
            "=================================\n",
            "Current Player Position : 18\n",
            "Press enter to play : \n",
            "The dice has landed on 4\n",
            "You have moved to 22\n",
            "=================================\n",
            "Current Player Position : 22\n",
            "Press enter to play : \n",
            "The dice has landed on 4\n",
            "You have moved to 26\n",
            "=================================\n",
            "Current Player Position : 26\n",
            "Press enter to play : \n",
            "The dice has landed on 6\n",
            "You have moved to 32\n",
            "=================================\n",
            "Current Player Position : 32\n",
            "Press enter to play : \n",
            "The dice has landed on 1\n",
            "You have moved to 33\n",
            "=================================\n",
            "Current Player Position : 33\n",
            "Press enter to play : \n",
            "The dice has landed on 5\n",
            "You have moved to 38\n",
            "=================================\n",
            "Current Player Position : 38\n",
            "Press enter to play : \n",
            "The dice has landed on 2\n",
            "You have moved to 40\n",
            "=================================\n",
            "Current Player Position : 40\n",
            "Press enter to play : \n",
            "The dice has landed on 6\n",
            "You have moved to 46\n",
            "=================================\n",
            "Current Player Position : 46\n",
            "Press enter to play : \n",
            "The dice has landed on 2\n",
            "You have moved to 48\n",
            "=================================\n",
            "Current Player Position : 48\n",
            "Press enter to play : \n",
            "The dice has landed on 4\n",
            "2\n",
            "2\n",
            "You have moved to 48\n",
            "=================================\n",
            "Current Player Position : 48\n",
            "Press enter to play : q\n"
          ]
        }
      ],
      "source": [
        "import random\n",
        "\n",
        "snakes = {\n",
        "    36: 17,\n",
        "    41: 3,\n",
        "    44: 14,\n",
        "    47: 32\n",
        "}\n",
        "ladders = {\n",
        "    4: 25,\n",
        "    8: 34,\n",
        "    12: 31,\n",
        "}\n",
        "\n",
        "print(\"Welcome to the Snakes and Ladders Game\")\n",
        "dice_choices = [1, 2, 3, 4, 5, 6]\n",
        "player_position = 0\n",
        "\n",
        "while True:\n",
        "  print(f\"Current Player Position : {player_position}\" )\n",
        "  user_input = input(\"Press enter to play : \").lower()\n",
        "  if user_input == \"\":\n",
        "    dice_choice = random.choice(dice_choices)\n",
        "    print(f\"The dice has landed on {dice_choice}\")\n",
        "    player_position += dice_choice\n",
        "    if player_position == 50:\n",
        "      print(\"Congratulations! You have won the game!\")\n",
        "    elif player_position > 50:\n",
        "      steps_to_50 = 50 - (player_position - dice_choice) # 4\n",
        "      steps_back = dice_choice - (steps_to_50) #1\n",
        "      player_position = 50 - steps_back\n",
        "      player_position\n",
        "    elif player_position < 50:\n",
        "      if player_position in snakes:\n",
        "        player_position = snakes[player_position]\n",
        "      elif player_position in ladders:\n",
        "        player_position = ladders[player_position]\n",
        "\n",
        "    print(f\"You have moved to {player_position}\")\n",
        "  elif user_input == \"quit\" or user_input == \"exit\" or user_input == \"q\":\n",
        "    break\n",
        "  else:\n",
        "    print(f\"You have entered an invalid input : {user_input}\")\n",
        "  print(\"=================================\")"
      ]
    },
    {
      "cell_type": "markdown",
      "metadata": {
        "id": "9F3mc3__R0kc"
      },
      "source": [
        "Rock Paper Scissors\n",
        "\n",
        "- Write a python script that implements the rock, paper, scissors game vs PC using the random library"
      ]
    },
    {
      "cell_type": "code",
      "execution_count": null,
      "metadata": {
        "colab": {
          "base_uri": "https://localhost:8080/"
        },
        "id": "ujf3HMBHIFX8",
        "outputId": "bc2fb8dc-d578-4ae0-ceee-c1bc218ca7bf"
      },
      "outputs": [
        {
          "name": "stdout",
          "output_type": "stream",
          "text": [
            "Welcome to the Rock, Paper, Scissors Game\n",
            "Enter your choice: Rock, Paper or Scissors : paper\n",
            "You have lost. You chose paper and the PC chose scissors\n",
            "User points : 0\n",
            "PC points : 1\n",
            "Enter your choice: Rock, Paper or Scissors : scissors\n",
            "This is a tie. You both chose : scissors\n",
            "Enter your choice: Rock, Paper or Scissors : scissors\n",
            "This is a tie. You both chose : scissors\n",
            "Enter your choice: Rock, Paper or Scissors : rock\n",
            "You have won. You chose rock and the PC chose scissors\n",
            "User points : 1\n",
            "PC points : 1\n",
            "Enter your choice: Rock, Paper or Scissors : rock\n",
            "You have won. You chose rock and the PC chose scissors\n",
            "User points : 2\n",
            "PC points : 1\n",
            "User wins: 2 against 1\n"
          ]
        }
      ],
      "source": [
        "import random\n",
        "\n",
        "print(\"Welcome to the Rock, Paper, Scissors Game\")\n",
        "possible_choices = [\"rock\", \"paper\", \"scissors\"]\n",
        "pc_choice = random.choice(possible_choices)\n",
        "user_points = 0\n",
        "pc_points = 0\n",
        "\n",
        "while user_points < 2 and pc_points < 2:\n",
        "  user_choice = input(\"Enter your choice: Rock, Paper or Scissors : \").lower()\n",
        "  if user_choice == \"quit\" or user_choice == \"exit\":\n",
        "    break\n",
        "\n",
        "  if user_choice == pc_choice:\n",
        "    print(f\"This is a tie. You both chose : {user_choice}\")\n",
        "  elif user_choice == \"rock\" and pc_choice == \"scissors\" or user_choice == \"paper\" and pc_choice == \"rock\" or user_choice == \"scissors\" and pc_choice == \"paper\":\n",
        "    print(f\"You have won. You chose {user_choice} and the PC chose {pc_choice}\")\n",
        "    user_points += 1\n",
        "    print(f\"User points : {user_points}\")\n",
        "    print(f\"PC points : {pc_points}\")\n",
        "  elif user_choice == \"rock\" and pc_choice == \"paper\" or user_choice == \"paper\" and pc_choice == \"scissors\" or user_choice == \"scissors\" and pc_choice == \"rock\":\n",
        "    print(f\"You have lost. You chose {user_choice} and the PC chose {pc_choice}\")\n",
        "    pc_points += 1\n",
        "    print(f\"User points : {user_points}\")\n",
        "    print(f\"PC points : {pc_points}\")\n",
        "  else:\n",
        "    print(f\"You have entered an invalid input : {user_choice}\")\n",
        "\n",
        "\n",
        "if user_points > pc_points:\n",
        "  print(f\"User wins: {user_points} against {pc_points}\")\n",
        "elif user_points < pc_points:\n",
        "  print(f\"PC wins: {pc_points} against {user_points}\")\n",
        "else:\n",
        "  print(\"It's a tie\")"
      ]
    },
    {
      "cell_type": "code",
      "execution_count": null,
      "metadata": {
        "colab": {
          "base_uri": "https://localhost:8080/",
          "height": 686
        },
        "id": "nCwK6N3cYy1B",
        "outputId": "fba3a419-5fdf-4acd-dcc0-400c60f0fbcc"
      },
      "outputs": [
        {
          "name": "stdout",
          "output_type": "stream",
          "text": [
            "Safaricom SIM Toolkit\n",
            "Enter an Option:\n",
            "1. Safaricom+\n",
            "2. M-Pesa\n",
            "2\n",
            "Select an Option:\n",
            "1. Send Money\n",
            "2. Withdraw Cash\n",
            "3. Buy Airtime\n",
            "4. Loans and Savings\n",
            "5. Lipa na M-PESA\n",
            "6. My Account\n",
            "1\n",
            "Send Money\n",
            "Enter an Option:\n",
            "1. Safaricom+\n",
            "2. M-Pesa\n",
            " \n"
          ]
        },
        {
          "ename": "KeyboardInterrupt",
          "evalue": "Interrupted by user",
          "output_type": "error",
          "traceback": [
            "\u001b[0;31m---------------------------------------------------------------------------\u001b[0m",
            "\u001b[0;31mKeyboardInterrupt\u001b[0m                         Traceback (most recent call last)",
            "\u001b[0;32m/tmp/ipython-input-400273264.py\u001b[0m in \u001b[0;36m<cell line: 0>\u001b[0;34m()\u001b[0m\n\u001b[1;32m      7\u001b[0m \u001b[0;34m\u001b[0m\u001b[0m\n\u001b[1;32m      8\u001b[0m \u001b[0;32mfor\u001b[0m \u001b[0mtransaction\u001b[0m \u001b[0;32min\u001b[0m \u001b[0mrange\u001b[0m\u001b[0;34m(\u001b[0m\u001b[0;36m3\u001b[0m\u001b[0;34m)\u001b[0m\u001b[0;34m:\u001b[0m\u001b[0;34m\u001b[0m\u001b[0;34m\u001b[0m\u001b[0m\n\u001b[0;32m----> 9\u001b[0;31m     \u001b[0mmain_options\u001b[0m \u001b[0;34m=\u001b[0m \u001b[0minput\u001b[0m\u001b[0;34m(\u001b[0m\u001b[0;34m\"Enter an Option:\\n1. Safaricom+\\n2. M-Pesa\\n\"\u001b[0m\u001b[0;34m)\u001b[0m\u001b[0;34m\u001b[0m\u001b[0;34m\u001b[0m\u001b[0m\n\u001b[0m\u001b[1;32m     10\u001b[0m     \u001b[0mclear\u001b[0m\u001b[0;34m(\u001b[0m\u001b[0;34m)\u001b[0m\u001b[0;34m\u001b[0m\u001b[0;34m\u001b[0m\u001b[0m\n\u001b[1;32m     11\u001b[0m \u001b[0;34m\u001b[0m\u001b[0m\n",
            "\u001b[0;32m/usr/local/lib/python3.12/dist-packages/ipykernel/kernelbase.py\u001b[0m in \u001b[0;36mraw_input\u001b[0;34m(self, prompt)\u001b[0m\n\u001b[1;32m   1175\u001b[0m                 \u001b[0;34m\"raw_input was called, but this frontend does not support input requests.\"\u001b[0m\u001b[0;34m\u001b[0m\u001b[0;34m\u001b[0m\u001b[0m\n\u001b[1;32m   1176\u001b[0m             )\n\u001b[0;32m-> 1177\u001b[0;31m         return self._input_request(\n\u001b[0m\u001b[1;32m   1178\u001b[0m             \u001b[0mstr\u001b[0m\u001b[0;34m(\u001b[0m\u001b[0mprompt\u001b[0m\u001b[0;34m)\u001b[0m\u001b[0;34m,\u001b[0m\u001b[0;34m\u001b[0m\u001b[0;34m\u001b[0m\u001b[0m\n\u001b[1;32m   1179\u001b[0m             \u001b[0mself\u001b[0m\u001b[0;34m.\u001b[0m\u001b[0m_parent_ident\u001b[0m\u001b[0;34m[\u001b[0m\u001b[0;34m\"shell\"\u001b[0m\u001b[0;34m]\u001b[0m\u001b[0;34m,\u001b[0m\u001b[0;34m\u001b[0m\u001b[0;34m\u001b[0m\u001b[0m\n",
            "\u001b[0;32m/usr/local/lib/python3.12/dist-packages/ipykernel/kernelbase.py\u001b[0m in \u001b[0;36m_input_request\u001b[0;34m(self, prompt, ident, parent, password)\u001b[0m\n\u001b[1;32m   1217\u001b[0m             \u001b[0;32mexcept\u001b[0m \u001b[0mKeyboardInterrupt\u001b[0m\u001b[0;34m:\u001b[0m\u001b[0;34m\u001b[0m\u001b[0;34m\u001b[0m\u001b[0m\n\u001b[1;32m   1218\u001b[0m                 \u001b[0;31m# re-raise KeyboardInterrupt, to truncate traceback\u001b[0m\u001b[0;34m\u001b[0m\u001b[0;34m\u001b[0m\u001b[0m\n\u001b[0;32m-> 1219\u001b[0;31m                 \u001b[0;32mraise\u001b[0m \u001b[0mKeyboardInterrupt\u001b[0m\u001b[0;34m(\u001b[0m\u001b[0;34m\"Interrupted by user\"\u001b[0m\u001b[0;34m)\u001b[0m \u001b[0;32mfrom\u001b[0m \u001b[0;32mNone\u001b[0m\u001b[0;34m\u001b[0m\u001b[0;34m\u001b[0m\u001b[0m\n\u001b[0m\u001b[1;32m   1220\u001b[0m             \u001b[0;32mexcept\u001b[0m \u001b[0mException\u001b[0m\u001b[0;34m:\u001b[0m\u001b[0;34m\u001b[0m\u001b[0;34m\u001b[0m\u001b[0m\n\u001b[1;32m   1221\u001b[0m                 \u001b[0mself\u001b[0m\u001b[0;34m.\u001b[0m\u001b[0mlog\u001b[0m\u001b[0;34m.\u001b[0m\u001b[0mwarning\u001b[0m\u001b[0;34m(\u001b[0m\u001b[0;34m\"Invalid Message:\"\u001b[0m\u001b[0;34m,\u001b[0m \u001b[0mexc_info\u001b[0m\u001b[0;34m=\u001b[0m\u001b[0;32mTrue\u001b[0m\u001b[0;34m)\u001b[0m\u001b[0;34m\u001b[0m\u001b[0;34m\u001b[0m\u001b[0m\n",
            "\u001b[0;31mKeyboardInterrupt\u001b[0m: Interrupted by user"
          ]
        }
      ],
      "source": [
        "import os\n",
        "\n",
        "def clear():\n",
        "    os.system(\"clear\")\n",
        "\n",
        "print(\"Safaricom SIM Toolkit\")\n",
        "\n",
        "for transaction in range(3):\n",
        "    main_options = input(\"Enter an Option:\\n1. Safaricom+\\n2. M-Pesa\\n\")\n",
        "    clear()\n",
        "\n",
        "    if main_options == \"1\":\n",
        "        safaricom_options = input(\"Select an Option:\\n1. My Account\\n2. M-Banking Services\\n\")\n",
        "        clear()\n",
        "        if safaricom_options == \"1\":\n",
        "            my_account_options = input(\n",
        "                \"Select an Option:\\n1. Balance Inquiry\\n2. Top-Up\\n3. Self Care\\n4. Customer Care\\n\")\n",
        "            clear()\n",
        "            if my_account_options == \"1\":\n",
        "                print(f\"Your Airtime Balance is ...\")\n",
        "            elif my_account_options == \"2\":\n",
        "                print(\"Top Up\")\n",
        "            elif my_account_options == \"3\":\n",
        "                print(\"Self Care\")\n",
        "            elif my_account_options == \"4\":\n",
        "                print(\"Customer Care\")\n",
        "\n",
        "        elif safaricom_options == \"2\":\n",
        "            m_banking_options = input(\n",
        "                \"Select an Option:\\n1. Barclays Bank\\n2. Co-op Bank\\n3. DTB\\n4. Eco Bank\\n5. Equity Bank\\n6. Family Bank\\n7. I&M Bank\\n8. More\\n\")\n",
        "            clear()\n",
        "            if m_banking_options == \"1\":\n",
        "                print(\"Barclays Bank\")\n",
        "            elif m_banking_options == \"2\":\n",
        "                print(\"Co-op Bank\")\n",
        "            elif m_banking_options == \"3\":\n",
        "                print(\"DTB\")\n",
        "            elif m_banking_options == \"4\":\n",
        "                print(\"Eco Bank\")\n",
        "            elif m_banking_options == \"5\":\n",
        "                print(\"Equity Bank\")\n",
        "            elif m_banking_options == \"6\":\n",
        "                print(\"Family Bank\")\n",
        "            elif m_banking_options == \"7\":\n",
        "                print(\"I&M Bank\")\n",
        "            elif m_banking_options == \"8\":\n",
        "                print(\"More\")\n",
        "\n",
        "    elif main_options == \"2\":\n",
        "        mpesa_options = input(\n",
        "            \"Select an Option:\\n1. Send Money\\n2. Withdraw Cash\\n3. Buy Airtime\\n\"\n",
        "            \"4. Loans and Savings\\n5. Lipa na M-PESA\\n6. My Account\\n\")\n",
        "        clear()\n",
        "        if mpesa_options == \"1\":\n",
        "            print(\"Send Money\")\n",
        "        elif mpesa_options == \"2\":\n",
        "            withdraw_options = input(\"Select an Option:\\n1. From Agent\\n2. From ATM\\n\")\n",
        "            clear()\n",
        "            if withdraw_options == \"1\":\n",
        "               print(\"Withdraw from agent\")\n",
        "            elif withdraw_options == \"2\":\n",
        "               print(\"Withdraw from ATM\")\n",
        "\n",
        "\n",
        "        elif mpesa_options == \"3\":\n",
        "            airtime_options = input(\"Select an Option:\\n1. My Phone\\n2. Other Number\\n\")\n",
        "            clear()\n",
        "            if airtime_options == \"1\":\n",
        "                print(\"Buy Airtime for my number\")\n",
        "            elif airtime_options == \"2\":\n",
        "                print(\"Buy Airtime for other number\")\n",
        "        elif mpesa_options == \"4\":\n",
        "            loans_savings_options = input(\"Select an Option:\\n1. M-Shwari\\n2. KCB M-PESA\\n\")\n",
        "            clear()\n",
        "            if loans_savings_options == \"1\":\n",
        "                mshwari_options = input(\n",
        "                    \"Enter an Option:\\n1. Send to M-Shwari\\n2. Withdraw from M-Shwari\\n3. Lock Savings Account\\n4. Loan @9% for 30 days\\n5. Check balance\\n6. Mini Statement\\n\")\n",
        "                clear()\n",
        "                if mshwari_options == \"1\":\n",
        "                    print(\"Send to M-Shwari\")\n",
        "                elif mshwari_options == \"2\":\n",
        "                    print(\"Withdraw from M-Shwari\")\n",
        "                elif mshwari_options == \"3\":\n",
        "                    lock_acc_options = input(\n",
        "                        \"Enter an Option:\\n1. Open Account\\n2. Save\\n3. Withdraw\\n4. Check Balance\\n5. Mini Statement\\n\")\n",
        "                    clear()\n",
        "                    if lock_acc_options == \"1\":\n",
        "                        print(\"Open Account\")\n",
        "                    elif lock_acc_options == \"2\":\n",
        "                        print(\"Save\")\n",
        "                    elif lock_acc_options == \"3\":\n",
        "                        print(\"Withdraw\")\n",
        "                    elif lock_acc_options == \"4\":\n",
        "                        print(\"Check Balance\")\n",
        "                    elif lock_acc_options == \"5\":\n",
        "                        print(\"Mini Statement\")\n",
        "                elif mshwari_options == \"4\":\n",
        "                    mshwari_loan_options = input(\n",
        "                        \"Enter an Option:\\n1. Request Loan\\n2. Pay Loan\\n3. Check Loan Limit\\n4. Loan Balance\")\n",
        "                    if mshwari_loan_options == \"1\":\n",
        "                      print(\"Request Loan\")\n",
        "                    elif mshwari_loan_options == \"2\":\n",
        "                        pay_mshwari_loan_options = input(\"Enter the Option:\\n1. Pay Via Mpesa\\n2. Pay Via Mshwari\")\n",
        "                        if pay_mshwari_loan_options == \"1\":\n",
        "                          print(\"Pay Via Mpesa\")\n",
        "                        elif pay_mshwari_loan_options == \"2\":\n",
        "                          print(\"Pay Via Mshwari\")\n",
        "                    elif mshwari_loan_options == \"3\":\n",
        "                        print(f\"Your Mshwari Loan Limit is ...\")\n",
        "                    elif mshwari_loan_options == \"4\":\n",
        "                        print(\"Loan Balance\")\n",
        "                elif mshwari_options == \"5\":\n",
        "                    print(\"Your M-shwari balance is ...\")\n",
        "                elif mshwari_options == \"6\":\n",
        "                    print(\"Mini Statement\")\n",
        "            elif loans_savings_options == \"2\":\n",
        "                kcb_mpesa_options = input(\n",
        "                    \"Enter an Option:\\n1. Deposit from M-Pesa\\n2. Withdraw to M-Pesa\\n3. Loan @8.93% for 30 Days\\n4. Fixed Savings Account\\n5. My Account\\n\")\n",
        "                clear()\n",
        "                if kcb_mpesa_options == \"1\":\n",
        "                    print(\"Deposit from M-Pesa\")\n",
        "                elif kcb_mpesa_options == \"2\":\n",
        "                    print(\"Withdraw to M-Pesa\")\n",
        "                elif kcb_mpesa_options == \"3\":\n",
        "                    print(\"Loan @8.93% for 30 days\")\n",
        "                elif kcb_mpesa_options == \"4\":\n",
        "                    print(\"Fixed Savings Account\")\n",
        "                elif kcb_mpesa_options == \"5\":\n",
        "                    print(\"My Account\")\n",
        "        elif mpesa_options == \"5\":\n",
        "            lipa_na_mpesa_options = input(\n",
        "                \"Enter an Option:\\n1. Pay Bill\\n2. Buy Goods and Services\\n3. Pochi la Biashara\\n\")\n",
        "            clear()\n",
        "            if lipa_na_mpesa_options == \"1\":\n",
        "                print(\"Pay Bill\")\n",
        "            elif lipa_na_mpesa_options == \"2\":\n",
        "                print(\"Buy goods and services\")\n",
        "            elif lipa_na_mpesa_options == \"3\":\n",
        "                print(\"Pochi la Biashara\")\n",
        "        elif mpesa_options == \"6\":\n",
        "            my_account_options = input(\n",
        "                \"Enter an Option:\\n1. Mini Statement\\n2. M-Pesa PIN Manager\\n3. Change Language\\n4. Update Customer Menu\\n5. Check Balance\")\n",
        "            clear()\n",
        "            if my_account_options == \"1\":\n",
        "                print(\"Mini Statement\")\n",
        "            elif my_account_options == \"2\":\n",
        "                print(\"M-Pesa PIN Manager\")\n",
        "            elif my_account_options == \"3\":\n",
        "                print(\"Change Language\")\n",
        "            elif my_account_options == \"4\":\n",
        "                print(\"Update Customer Menu\")\n",
        "            elif my_account_options == \"5\":\n",
        "                print(\"Your Mpesa Balance is ...\")\n"
      ]
    },
    {
      "cell_type": "code",
      "execution_count": null,
      "metadata": {},
      "outputs": [],
      "source": []
    },
    {
      "cell_type": "code",
      "execution_count": null,
      "metadata": {},
      "outputs": [],
      "source": []
    },
    {
      "cell_type": "code",
      "execution_count": null,
      "metadata": {},
      "outputs": [],
      "source": [
        "    os.system(\"clear\")\n",
        "\n",
        "print(\"Safaricom SIM Toolkit\")\n",
        "\n",
        "for transaction in range(3):\n",
        "    main_options = input(\"Enter an Option:\\n1. Safaricom+\\n2. M-Pesa\\n\")\n",
        "    clear()\n",
        "\n",
        "    if main_options == \"1\":\n",
        "        safaricom_options = input(\"Select an Option:\\n1. My Account\\n2. M-Banking Services\\n\")\n",
        "        clear()\n",
        "        if safaricom_options == \"1\":\n",
        "            my_account_options = input(\n",
        "                \"Select an Option:\\n1. Balance Inquiry\\n2. Top-Up\\n3. Self Care\\n4. Customer Care\\n\")\n",
        "            clear()\n",
        "            if my_account_options == \"1\":\n",
        "                print(f\"Your Airtime Balance is ...\")\n",
        "            elif my_account_options == \"2\":\n",
        "                print(\"Top Up\")\n",
        "            elif my_account_options == \"3\":\n",
        "                print(\"Self Care\")\n",
        "            elif my_account_options == \"4\":\n",
        "                print(\"Customer Care\")\n",
        "\n",
        "        elif safaricom_options == \"2\":\n",
        "            m_banking_options = input(\n",
        "                \"Select an Option:\\n1. Barclays Bank\\n2. Co-op Bank\\n3. DTB\\n4. Eco Bank\\n5. Equity Bank\\n6. Family Bank\\n7. I&M Bank\\n8. More\\n\")\n",
        "            clear()\n",
        "            if m_banking_options == \"1\":\n",
        "                print(\"Barclays Bank\")\n",
        "            elif m_banking_options == \"2\":\n",
        "                print(\"Co-op Bank\")\n",
        "            elif m_banking_options == \"3\":\n",
        "                print(\"DTB\")\n",
        "            elif m_banking_options == \"4\":\n",
        "                print(\"Eco Bank\")\n",
        "            elif m_banking_options == \"5\":\n",
        "                print(\"Equity Bank\")\n",
        "            elif m_banking_options == \"6\":\n",
        "                print(\"Family Bank\")\n",
        "            elif m_banking_options == \"7\":\n",
        "                print(\"I&M Bank\")\n",
        "            elif m_banking_options == \"8\":\n",
        "                print(\"More\")\n",
        "\n",
        "    elif main_options == \"2\":\n",
        "        mpesa_options = input(\n",
        "            \"Select an Option:\\n1. Send Money\\n2. Withdraw Cash\\n3. Buy Airtime\\n\"\n",
        "            \"4. Loans and Savings\\n5. Lipa na M-PESA\\n6. My Account\\n\")\n",
        "        clear()\n",
        "        if mpesa_options == \"1\":\n",
        "            print(\"Send Money\")\n",
        "        elif mpesa_options == \"2\":\n",
        "            withdraw_options = input(\"Select an Option:\\n1. From Agent\\n2. From ATM\\n\")\n",
        "            clear()\n",
        "            if withdraw_options == \"1\":\n",
        "               print(\"Withdraw from agent\")\n",
        "            elif withdraw_options == \"2\":\n",
        "               print(\"Withdraw from ATM\")\n",
        "\n",
        "\n",
        "        elif mpesa_options == \"3\":\n",
        "            airtime_options = input(\"Select an Option:\\n1. My Phone\\n2. Other Number\\n\")\n",
        "            clear()\n",
        "            if airtime_options == \"1\":\n",
        "                print(\"Buy Airtime for my number\")\n",
        "            elif airtime_options == \"2\":\n",
        "                print(\"Buy Airtime for other number\")\n",
        "        elif mpesa_options == \"4\":\n",
        "            loans_savings_options = input(\"Select an Option:\\n1. M-Shwari\\n2. KCB M-PESA\\n\")\n",
        "            clear()\n",
        "            if loans_savings_options == \"1\":\n",
        "                mshwari_options = input(\n",
        "                    \"Enter an Option:\\n1. Send to M-Shwari\\n2. Withdraw from M-Shwari\\n3. Lock Savings Account\\n4. Loan @9% for 30 days\\n5. Check balance\\n6. Mini Statement\\n\")\n",
        "                clear()\n",
        "                if mshwari_options == \"1\":\n",
        "                    print(\"Send to M-Shwari\")\n",
        "                elif mshwari_options == \"2\":\n",
        "                    print(\"Withdraw from M-Shwari\")\n",
        "                elif mshwari_options == \"3\":\n",
        "                    lock_acc_options = input(\n",
        "                        \"Enter an Option:\\n1. Open Account\\n2. Save\\n3. Withdraw\\n4. Check Balance\\n5. Mini Statement\\n\")\n",
        "                    clear()\n",
        "                    if lock_acc_options == \"1\":\n",
        "                        print(\"Open Account\")\n",
        "                    elif lock_acc_options == \"2\":\n",
        "                        print(\"Save\")\n",
        "                    elif lock_acc_options == \"3\":\n",
        "                        print(\"Withdraw\")\n",
        "                    elif lock_acc_options == \"4\":\n",
        "                        print(\"Check Balance\")\n",
        "                    elif lock_acc_options == \"5\":\n",
        "                        print(\"Mini Statement\")\n",
        "                elif mshwari_options == \"4\":\n",
        "                    mshwari_loan_options = input(\n",
        "                        \"Enter an Option:\\n1. Request Loan\\n2. Pay Loan\\n3. Check Loan Limit\\n4. Loan Balance\")\n",
        "                    if mshwari_loan_options == \"1\":\n",
        "                      print(\"Request Loan\")\n",
        "                    elif mshwari_loan_options == \"2\":\n",
        "                        pay_mshwari_loan_options = input(\"Enter the Option:\\n1. Pay Via Mpesa\\n2. Pay Via Mshwari\")\n",
        "                        if pay_mshwari_loan_options == \"1\":\n",
        "                          print(\"Pay Via Mpesa\")\n",
        "                        elif pay_mshwari_loan_options == \"2\":\n",
        "                          print(\"Pay Via Mshwari\")\n",
        "                    elif mshwari_loan_options == \"3\":\n",
        "                        print(f\"Your Mshwari Loan Limit is ...\")\n",
        "                    elif mshwari_loan_options == \"4\":\n",
        "                        print(\"Loan Balance\")\n",
        "                elif mshwari_options == \"5\":\n",
        "                    print(\"Your M-shwari balance is ...\")\n",
        "                elif mshwari_options == \"6\":\n",
        "                    print(\"Mini Statement\")\n",
        "            elif loans_savings_options == \"2\":\n",
        "                kcb_mpesa_options = input(\n",
        "                    \"Enter an Option:\\n1. Deposit from M-Pesa\\n2. Withdraw to M-Pesa\\n3. Loan @8.93% for 30 Days\\n4. Fixed Savings Account\\n5. My Account\\n\")\n",
        "                clear()\n",
        "                if kcb_mpesa_options == \"1\":\n",
        "                    print(\"Deposit from M-Pesa\")\n",
        "                elif kcb_mpesa_options == \"2\":\n",
        "                    print(\"Withdraw to M-Pesa\")\n",
        "                elif kcb_mpesa_options == \"3\":\n",
        "                    print(\"Loan @8.93% for 30 days\")\n",
        "                elif kcb_mpesa_options == \"4\":\n",
        "                    print(\"Fixed Savings Account\")\n",
        "                elif kcb_mpesa_options == \"5\":\n",
        "                    print(\"My Account\")\n",
        "        elif mpesa_options == \"5\":\n",
        "            lipa_na_mpesa_options = input(\n",
        "                \"Enter an Option:\\n1. Pay Bill\\n2. Buy Goods and Services\\n3. Pochi la Biashara\\n\")\n",
        "            clear()\n",
        "            if lipa_na_mpesa_options == \"1\":\n",
        "                print(\"Pay Bill\")\n",
        "            elif lipa_na_mpesa_options == \"2\":\n",
        "                print(\"Buy goods and services\")\n",
        "            elif lipa_na_mpesa_options == \"3\":\n",
        "                print(\"Pochi la Biashara\")\n",
        "        elif mpesa_options == \"6\":\n",
        "            my_account_options = input(\n",
        "                \"Enter an Option:\\n1. Mini Statement\\n2. M-Pesa PIN Manager\\n3. Change Language\\n4. Update Customer Menu\\n5. Check Balance\")\n",
        "            clear()\n",
        "            if my_account_options == \"1\":\n",
        "                print(\"Mini Statement\")\n",
        "            elif my_account_options == \"2\":\n",
        "                print(\"M-Pesa PIN Manager\")\n",
        "            elif my_account_options == \"3\":\n",
        "                print(\"Change Language\")\n",
        "            elif my_account_options == \"4\":\n",
        "                print(\"Update Customer Menu\")\n",
        "            elif my_account_options == \"5\":\n",
        "                print(\"Your Mpesa Balance is ...\")\n"
      ]
    },
    {
      "cell_type": "code",
      "execution_count": null,
      "metadata": {
        "id": "c4sbLwjODIv3"
      },
      "outputs": [],
      "source": []
    }
  ],
  "metadata": {
    "colab": {
      "provenance": []
    },
    "kernelspec": {
      "display_name": "Python 3",
      "name": "python3"
    },
    "language_info": {
      "name": "python"
    }
  },
  "nbformat": 4,
  "nbformat_minor": 0
}
