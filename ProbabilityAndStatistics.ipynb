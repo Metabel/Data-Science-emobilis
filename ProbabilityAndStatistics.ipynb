{
  "nbformat": 4,
  "nbformat_minor": 0,
  "metadata": {
    "colab": {
      "provenance": []
    },
    "kernelspec": {
      "name": "python3",
      "display_name": "Python 3"
    },
    "language_info": {
      "name": "python"
    }
  },
  "cells": [
    {
      "cell_type": "markdown",
      "source": [
        "Probability is a branch of mathematics that deals with calculating likelihood of an event happening.\n",
        "\n",
        "The probability of an event is a value between 0 and 1.\n",
        "\n",
        "A probability of 0 means that an event will not occur.\n",
        "\n",
        "A probability of 1 means that the event will certainly occur.\n",
        "\n",
        "P(A) = number of favourable outcomes/total number of possible outcomes.\n",
        "\n"
      ],
      "metadata": {
        "id": "Dr0Vx1ELE8CQ"
      }
    },
    {
      "cell_type": "markdown",
      "source": [
        "Sample space - the set of all possible outcomes in an event. Eg, when tossing a coin the sample space is S={H,T}, Rolling a die the sample space is S={1,2,3,5,6,4}\n",
        "\n",
        "Event - a subset of the sample space.It represents one or more outcomes.Eg getting tails when flipping a coin A={T},Rolling a die to get an even number B={2,4,6}\n",
        "\n",
        "Outcome -is a single possible result from an experiment.Eg, when rolling a die an outcome coulb be getting 4."
      ],
      "metadata": {
        "id": "3vTaCXnjGn8p"
      }
    },
    {
      "cell_type": "markdown",
      "source": [
        "Types of events\n",
        "\n",
        "1.Dependent events -two events are dependent if the occurence of one directly affects the occurence of the other.\n",
        "\n",
        "2.Independent events.two events are independent , one event does not influence or affect occurence of the other.\n",
        "\n",
        "3.Mutually exclusive events.two events are mutually exclusive, cannot occur at the same time."
      ],
      "metadata": {
        "id": "DQ7q1TyWIeoh"
      }
    },
    {
      "cell_type": "markdown",
      "source": [
        "Activity:Classify each as either dependemt ,independent or mutually exclusive.\n",
        "\n",
        "1.Heavy rainfall and hike in transport fare. dependent events\n",
        "\n",
        "2.Staying up late and being sleepy during daytime. dependent events\n",
        "\n",
        "3.It raining and the sun shinning. independent\n",
        "\n",
        "4.Running a marathon and having sore muscles.dependent\n",
        "\n",
        "5.Wearing gray pants and blue shirt. independent\n",
        "\n",
        "6.Sneezing and opening eyes wide. Mutually exclusive.\n",
        "\n",
        "7.Sleeping and eating at the same time.Mutually exclusive\n",
        "\n",
        "8.Being darkskin and being lightskin. Mutually exclusive\n",
        "\n",
        "9.Being fluent in English and French.independent\n",
        "\n",
        "10.Having 3 siblings and having 5 siblings. independent\n"
      ],
      "metadata": {
        "id": "hi3dBrSdLJo4"
      }
    },
    {
      "cell_type": "markdown",
      "source": [
        "Probability rules:\n",
        "Addition rule -OR - the probability of event A OR event B happening is the sum of their probabilities.\n",
        "\n",
        "Multiplication rule -AND the probability of event A AND event B happening is the product of their probabilities.\n",
        "\n",
        "Probability of rolling a die 2 times and getting 2 OR 3 -> 1/6 + 1/6\n",
        "Probability of rolling a die 2 times and getting 2 AND 3 respectively -> 1/6 * 1/6"
      ],
      "metadata": {
        "id": "8Hf4mhtpW4Qd"
      }
    },
    {
      "cell_type": "markdown",
      "source": [
        "Create 2 functions that take 2 parameters (probabilities) and implement\n",
        "\n",
        "-addition rule\n",
        "\n",
        "-multiplication rule\n",
        "\n",
        "-Rain 0.3\n",
        "\n",
        "-Cloudy 0.2\n",
        "\n",
        "-Windy 0.05\n",
        "\n",
        "-Sunny 0.4\n",
        "\n",
        "-Foggy 0.05\n",
        "\n",
        "Rainy AND Sunny 0.3 + 0.4 = 0.7\n",
        "\n",
        "Rainy AND Windy 0.3 + 0.05 =0.35\n",
        "\n",
        "Sunny OR foggy 0.4 * 0.05= 0.02\n",
        "\n",
        "Windy OR cloudy 0.05 * 0.2 =0.01\n"
      ],
      "metadata": {
        "id": "ChZh04EaaE83"
      }
    },
    {
      "cell_type": "code",
      "source": [
        "\n",
        "def add_rule(a,b):\n",
        " return(a+b)\n",
        "def mul_rule(a,b):\n",
        " return (a * b)\n",
        "\n",
        "p_rain = 0.3\n",
        "p_sunny =0.4\n",
        "p_windy = 0.05\n",
        "p_cloudy =0.2\n",
        "p_foggy = 0.05\n",
        "\n",
        "p_rain_and_sunny = add_rule(p_rain,p_sunny)\n",
        "print(f\" Probability of it being rainy and sunny is :{p_rain_and_sunny}\")\n",
        "p_rain_and_windy = add_rule(p_rain,p_windy)\n",
        "print(f\" Probability of it being rainy and windy is:{p_rain_and_windy}\")\n",
        "p_sunny_or_foggy = mul_rule(p_sunny,p_foggy)\n",
        "print(f\" Probability of it being sunny or foggy is:{p_sunny_or_foggy}\")\n",
        "p_windy_or_cloudy = mul_rule(p_windy,p_cloudy)\n",
        "print(f\"Probability of it being windy or cloudy is:{p_windy_or_cloudy}\")\n",
        "\n"
      ],
      "metadata": {
        "colab": {
          "base_uri": "https://localhost:8080/"
        },
        "id": "T_vDHp_8e8UM",
        "outputId": "d6df5f85-28f8-4626-e401-b2dbf1d60271"
      },
      "execution_count": null,
      "outputs": [
        {
          "output_type": "stream",
          "name": "stdout",
          "text": [
            " Probability of it being rainy and sunny is :0.7\n",
            " Probability of it being rainy and windy is:0.35\n",
            " Probability of it being sunny or foggy is:0.020000000000000004\n",
            "Probability of it being windy or cloudy is:0.010000000000000002\n"
          ]
        }
      ]
    },
    {
      "cell_type": "markdown",
      "source": [
        "Create a replica of the above functions that now takes in 3 parameters on both functions\n",
        "\n",
        "then calculate the probabilities of the following:\n",
        "\n",
        "sunny or windy or foggy\n",
        "\n",
        "foggy or windy or rainy\n",
        "\n",
        "sunny and windy and cloudy\n",
        "\n",
        "foggy and windy and rainy"
      ],
      "metadata": {
        "id": "w238-I7Rh5vJ"
      }
    },
    {
      "cell_type": "code",
      "source": [
        "def add_rule_3(a,b,c):\n",
        " return(a+b+c)\n",
        "def mul_rule_3(a,b,c):\n",
        " return (a * b * c)\n",
        "\n",
        "p_rainy = 0.3\n",
        "p_sunny =0.4\n",
        "p_windy = 0.05\n",
        "p_cloudy =0.2\n",
        "p_foggy = 0.05\n",
        "\n",
        "p_sunny_and_p_windy_and_p_cloudy = mul_rule_3(p_sunny,p_windy,p_cloudy)\n",
        "print(f\" Probability of it being sunny and windy and cloudy is :{p_sunny_and_p_windy_and_p_cloudy}\")\n",
        "p_foggy_and_windy_and_rainy = mul_rule_3(p_foggy,p_windy,p_rainy)\n",
        "print(f\" Probability of it being foggy and windy and rainy is :{p_foggy_and_windy_and_rainy}\")\n",
        "p_sunny_or_windy_or_foggy = add_rule_3(p_sunny,p_windy,p_foggy)\n",
        "print(f\" Probability of it being sunny or windy or foggy is :{p_sunny_or_windy_or_foggy}\")\n",
        "p_foggy_or_windy_or_rainy = add_rule_3(p_foggy,p_windy,p_rainy)\n",
        "print(f\" Probability of it being foggy or windy or rainy is :{p_foggy_or_windy_or_rainy}\")\n",
        "\n",
        "\n",
        "\n"
      ],
      "metadata": {
        "colab": {
          "base_uri": "https://localhost:8080/"
        },
        "id": "OlWwRYUUe39-",
        "outputId": "0f5143c7-a29d-4344-bb61-0941abb5a20c"
      },
      "execution_count": null,
      "outputs": [
        {
          "output_type": "stream",
          "name": "stdout",
          "text": [
            " Probability of it being sunny and windy and cloudy is :0.004000000000000001\n",
            " Probability of it being foggy and windy and rainy is :0.0007500000000000001\n",
            " Probability of it being sunny or windy or foggy is :0.5\n",
            " Probability of it being foggy or windy or rainy is :0.4\n"
          ]
        }
      ]
    },
    {
      "cell_type": "markdown",
      "source": [
        "Conditional probability the probability that an event will happen given that another event has already occured.\n",
        "\n",
        "Bayes Theorem:\n",
        "\n",
        "P(A|B)=(P(B|A)*P(A))/ P(B)\n",
        "\n",
        "You have been planning a picnic with your family. You are trying to see whether to postpone it or not due to rain. The chance of rain on any day is 15%. The morning of the picnic, it is cloudy. The probability of it being cloudy is 25% and on days when it rains it is usually cloudy in the morning 80% of the time. Should we postpone the picnic?\n",
        "\n",
        "P(A|B) IS READ AS probability of event A given that B has already occured.\n",
        "\n",
        "P(rain|cloudy)=(P(cloudy|rain)*P(rain)) / P(cloudy)\n"
      ],
      "metadata": {
        "id": "eyE808apOLth"
      }
    },
    {
      "cell_type": "code",
      "source": [
        "def bayes_theorem(p_b_a,p_a,p_b):\n",
        " return(p_b_a * p_a)/p_b\n",
        "\n",
        "p_rain = 0.15\n",
        "p_cloudy = 0.25\n",
        "p_cloudy_rain =0.8\n",
        "\n",
        "p_a_b = bayes_theorem(p_a=p_rain, p_b=p_cloudy, p_b_a=p_cloudy_rain)\n",
        "print(f\"The Probability that it rains given that it is cloudy in the morning is :{p_a_b}\")\n",
        "\n",
        "\n"
      ],
      "metadata": {
        "colab": {
          "base_uri": "https://localhost:8080/"
        },
        "id": "GxaT4QbfPyS1",
        "outputId": "58889dc9-e9a1-414f-cd02-d39dd5448a36"
      },
      "execution_count": null,
      "outputs": [
        {
          "output_type": "stream",
          "name": "stdout",
          "text": [
            "The Probability that it rains given that it is cloudy in the morning is :0.48\n"
          ]
        }
      ]
    },
    {
      "cell_type": "markdown",
      "source": [
        "Measures of central tendency\n",
        "-\n",
        "This represent the central point(midpoint) of a particular dataset and are a single value.\n",
        "Mean - is used in continuous numerical data. It is obtained by adding all values then dividing by the number of entries.It is quite sensitive to outliers.\n",
        "\n",
        "-Median continuous numerical data. obtained by first arranging values in ascending order, then pick the midpoint if it is a single value. If the midpoint is 2 values, we get the mean of the two as the median.when have outliers use it.\n",
        "\n",
        "-Mode most frequent item in given dataset."
      ],
      "metadata": {
        "id": "eDRedJoAVOJz"
      }
    },
    {
      "cell_type": "code",
      "source": [
        "import statistics\n",
        "\n",
        "numbers = [21, 44, 66,48,37, 22, 11, 23, 33]\n",
        "\n",
        "numbers_mean = statistics.mean(numbers)\n",
        "print(f\"The mean of the numbers is :{numbers_mean}\")\n",
        "\n",
        "numbers_median = statistics.median(numbers)\n",
        "print(f\"The median of the numbers is :{numbers_median}\")\n",
        "\n",
        "numbers_mode = statistics.mode(numbers)\n",
        "print(f\"The median of the numbers is :{numbers_mode}\")\n"
      ],
      "metadata": {
        "colab": {
          "base_uri": "https://localhost:8080/"
        },
        "id": "0ihToWYgWhwb",
        "outputId": "2ef9617b-4c29-4d63-8177-5ac5d627f2d3"
      },
      "execution_count": null,
      "outputs": [
        {
          "output_type": "stream",
          "name": "stdout",
          "text": [
            "The mean of the numbers is :33.888888888888886\n",
            "The median of the numbers is :33\n",
            "The median of the numbers is :21\n"
          ]
        }
      ]
    },
    {
      "cell_type": "markdown",
      "source": [
        "Implement 2 functions to calculate mean and median from scratch.\n",
        "\n",
        "Mean Pseudocode:\n",
        "\n",
        "1. Define the function that takes a single parameter(list_name)\n",
        "2. Get the sum of the entries sum()\n",
        "3. Get the length of the list len()\n",
        "4. Divide obtained sum by the length.\n",
        "\n",
        "Median pseudocode:\n",
        "1. Define the function that takes a single parameter list(list_name)\n",
        "2. Get the number of elements in the list len()\n",
        "3. If len is odd, we pick the midpoint.\n",
        "4. If len is even ,we get the mean of the two midpoints.\n"
      ],
      "metadata": {
        "id": "mxRMjuk8Y7ru"
      }
    },
    {
      "cell_type": "code",
      "source": [
        "import statistics\n",
        "\n",
        "def calc_mean(list_name):\n",
        " total = sum(list_name)\n",
        " length = len(list_name)\n",
        " mean =  total/length\n",
        " return mean\n",
        "\n",
        "numbers = [23,45,66,78,90,24,37,15]\n",
        "print(sum(numbers))\n",
        "print(len(numbers))\n",
        "\n",
        "numbers_mean = statistics.mean(numbers)\n",
        "print(f\"The mean of the numbers is :{numbers_mean}\")\n",
        "\n"
      ],
      "metadata": {
        "colab": {
          "base_uri": "https://localhost:8080/"
        },
        "id": "_9XZss0Ya8Ac",
        "outputId": "65a73ff6-5346-40a3-e6b9-adcf984a0d88"
      },
      "execution_count": null,
      "outputs": [
        {
          "output_type": "stream",
          "name": "stdout",
          "text": [
            "378\n",
            "8\n",
            "The mean of the numbers is :47.25\n"
          ]
        }
      ]
    },
    {
      "cell_type": "code",
      "source": [
        "import statistics\n",
        "def calc_median(numbers):\n",
        "  numbers = sorted(numbers)\n",
        "  len_list=len(numbers)\n",
        "  if len_list % 2 ==0:\n",
        "    index_second = len_list //2\n",
        "    index_first = index_second - 1\n",
        "    median = (numbers[index_first] + numbers[index_second]) / 2\n",
        "    pass\n",
        "  else:\n",
        "    index_mid = len_list // 2\n",
        "    median = numbers[index_mid]\n",
        "  return median\n",
        "\n",
        "numbers = [21, 44, 66,48,37, 22, 11, 23, 33]\n",
        "calculated_median = calc_median(numbers)\n",
        "print(f\"The median of the numbers is :{calculated_median}\")\n",
        "\n"
      ],
      "metadata": {
        "colab": {
          "base_uri": "https://localhost:8080/"
        },
        "id": "q6B_A209eD4R",
        "outputId": "699bd0aa-fba5-4f78-e042-5498e28555c7"
      },
      "execution_count": null,
      "outputs": [
        {
          "output_type": "stream",
          "name": "stdout",
          "text": [
            "The median of the numbers is :33\n"
          ]
        }
      ]
    },
    {
      "cell_type": "markdown",
      "source": [
        "Quartiles and Percentiles\n",
        "\n",
        "Q1 /25th - this is a single value below which 25% of the data lies and above which 75% of the data lies.\n",
        "\n",
        "Q2 50th percentile/median- a single value below which half of the data lies and above which half of the data lies.\n",
        "\n",
        "Q3 /75th percentile  a single value below which 75% of the data lies and above which 25% of the data lies."
      ],
      "metadata": {
        "id": "2eWMV-CDl6a-"
      }
    },
    {
      "cell_type": "code",
      "source": [
        "import numpy as np\n",
        "\n",
        "numbers = [21,48,66,48,37,22,11,23]\n",
        "\n",
        "q1 = np.percentile(numbers,25)\n",
        "q3 = np.percentile(numbers,75)\n",
        "\n",
        "print(sorted(numbers))\n",
        "print(f\"The first quartile is :{q1}\")\n",
        "print(f\"The second quartile is :{q3}\")"
      ],
      "metadata": {
        "colab": {
          "base_uri": "https://localhost:8080/"
        },
        "id": "-x9qeLwpmyLv",
        "outputId": "e7e7d8bb-b841-4c16-bf6a-4b386c13c998"
      },
      "execution_count": null,
      "outputs": [
        {
          "output_type": "stream",
          "name": "stdout",
          "text": [
            "[11, 21, 22, 23, 37, 48, 48, 66]\n",
            "The first quartile is :21.75\n",
            "The second quartile is :48.0\n"
          ]
        }
      ]
    },
    {
      "cell_type": "markdown",
      "source": [
        "IQR -interquartile range\n",
        "\n",
        "Obtained by performing q3-q1\n",
        "\n",
        "Used to obtain outliers from a given dataset- Outliers are extremely high or extremely low values in a dataset.\n",
        "\n",
        "Upper bound- any value above the upper bound is an outlier.\n",
        "\n",
        "Upper bound = q3+(1.5*IQR)\n",
        "\n",
        "Lower bound- any value below the lower bound is an outlier.\n",
        "\n",
        "Lower bound =91 -(1.5*IQR)\n",
        "\n",
        "\n"
      ],
      "metadata": {
        "id": "utA03hSJn5-w"
      }
    },
    {
      "cell_type": "markdown",
      "source": [
        "Create python function to isolate the outliers in a given dataset.Return the outliers as list of numbers."
      ],
      "metadata": {
        "id": "JAZDmhU38fOQ"
      }
    },
    {
      "cell_type": "code",
      "source": [
        "import numpy as np\n",
        "\n",
        "\n",
        "def isolate_outliers(numbers):\n",
        "    #outliers = []\n",
        "    Q1 = np.percentile(numbers, 25)\n",
        "    Q3 = np.percentile(numbers, 75)\n",
        "    IQR = Q3 - Q1\n",
        "    upper_bound = Q3 + 1.5 * IQR\n",
        "    lower_bound = Q1 - 1.5 * IQR\n",
        "\n",
        "    for number in numbers:\n",
        "        if number > upper_bound or number < lower_bound:\n",
        "            outliers.append(number)\n",
        "\n",
        "    return outliers\n",
        "\n",
        "numbers = [21,48,66,48,37,22,11,23]\n",
        "outliers = isolate_outliers(numbers)\n",
        "print(outliers)"
      ],
      "metadata": {
        "id": "1_Kze1u_8rjr",
        "colab": {
          "base_uri": "https://localhost:8080/"
        },
        "outputId": "d87c40f1-c153-4bcc-fd9b-159f1cea2fcc"
      },
      "execution_count": null,
      "outputs": [
        {
          "output_type": "stream",
          "name": "stdout",
          "text": [
            "[]\n"
          ]
        }
      ]
    },
    {
      "cell_type": "markdown",
      "source": [
        "Probability distribution\n",
        "\n",
        "-A probability distribution is a function that describes how the probabilities of different outcomes are distributed in a random variable.\n",
        "\n",
        "Types of probability distribution:\n",
        "1. Uniform Distribution: every outcome has an equal probability of occurence eg rolling a die, getting a card from deck of cards.\n",
        "Probability distribution\n",
        "2. Binomial Distribution: describes the distribution of the number of successes in a fixed number of trials where we have two possible outcomes eg Yes/no questions in a questionnaire, True or false questions, right handed vs left handed.\n",
        "3. Poisson Distribution:Describes the probability of a given number of events happening in a fixed time frame - eg number of people getting into a lift in 20 minutes, number of cars passing through an intersection in one hour.\n",
        "4. Normal intersection: a majority of the dataset is clustered around the mean and becomes sparse/scarce as we move away from the mean(bell-curve)eg scores in an examination (out of 100) ,ages of people, height of people etc\n",
        "\n"
      ],
      "metadata": {
        "id": "RplleftqbUcy"
      }
    },
    {
      "cell_type": "markdown",
      "source": [
        "#Hypothesis\n",
        "-A hypothesis is an is an idea, guess, remark ,comment etc that has not yet been proven.\n",
        "- A null hypothesis is a statement that has no effect or different eg Kenya is the top producer of tea in east africa.\n",
        "- An alternative hypothesis is a statement contrary to nulll hypothesis.\n",
        "- Hypothesis testing is a statistical method that helps us make decisions by comparing two conflicting hypotheses.\n",
        "\n",
        "True statement = Kenya has had 5 presidents.\n",
        "\n",
        "Types of errors:\n",
        "1. Type Ierror(false positive): Occurs when you reject the null hypothesis when it was actually true.\n",
        "\n",
        "Null Hypothesis: Kenya has had 5 presidents.FALSE\n",
        "\n",
        "Alternative Hypothesis:Kenya has not had 5 presidents.TRUE\n",
        "\n",
        "2. Type II Error(False negative) Occurs when you fail to reject null hypothesis when the alternative hypothesis is true.\n",
        "\n",
        "Null Hypothesis: Kenya has had 5 presidents.TRUE\n",
        "\n",
        "Alternative Hypothesis:Kenya has not had 5 presidents.FALSE"
      ],
      "metadata": {
        "id": "mAUtvRRZlXxi"
      }
    },
    {
      "cell_type": "markdown",
      "source": [
        "Measures of Dispersion\n",
        "\n",
        "1. Variance - is a measure of how far datapoints are from the mean. It has a general scope of the entire dataset. It is the average of the squared difference between the datapoints and the mean.\n",
        " 2. Standard deviation is a measure of the average distamce between each individual datapoint and the mean of the dataset. It is the square root of the variance.\n",
        "\n",
        " [2,4,6,8,10] Calculate variance and standard deviation.\n",
        "\n",
        " calculate mean of the list of numbers.= 6\n",
        "\n",
        "2-6 = -4**2=16\n",
        "\n",
        "4-6 = -2**2=4\n",
        "\n",
        "6-6 = 0**2=0\n",
        "\n",
        "8-6 = 2**2=4\n",
        "\n",
        "10-6 = 4**2=16\n",
        "\n",
        "40/5 = 8 =>variance\n",
        "standard deviation =>square root of variance\n"
      ],
      "metadata": {
        "id": "Sc3PIuoFh-fq"
      }
    },
    {
      "cell_type": "markdown",
      "source": [
        "Population variance we divide the sum of the squared difference by n(number of elements). Assumes we are getting variance or a whole group.\n",
        "\n",
        "Sample variance we divide the sum of the squared difference by (n-1). Assumes we are getting variance"
      ],
      "metadata": {
        "id": "b-HlD5M5sh6F"
      }
    },
    {
      "cell_type": "markdown",
      "source": [
        "Create a function that calculates the variance and standard deviation of a given list of numbers and returns the(variance and sd).Unpack the two into two separate variables."
      ],
      "metadata": {
        "id": "9tVvZlh9k5EW"
      }
    },
    {
      "cell_type": "code",
      "source": [
        "\n",
        "def calc_var_std(numbers):\n",
        "  total_squared_diff = 0\n",
        "  mean_numbers = sum(numbers)/len(numbers)\n",
        "  for number in numbers:\n",
        "    squared_diff=(number - mean_numbers)**2\n",
        "    total_squared_diff += squared_diff\n",
        "  variance = total_squared_diff/len(numbers)\n",
        "  sd = variance ** 0.5\n",
        "  return variance,sd\n",
        "\n",
        "numbers=[2,4,6,8,10]\n",
        "numbers_mean = sum(numbers)/len(numbers)\n",
        "print(numbers_mean)\n",
        "var,sd = calc_var_std(numbers)\n",
        "print(var)\n",
        "print(sd)\n",
        "\n",
        "\n"
      ],
      "metadata": {
        "id": "h6lssamfe-6Y",
        "colab": {
          "base_uri": "https://localhost:8080/"
        },
        "outputId": "e67d16ce-42f8-455b-991e-b4ba4c0a7b6e"
      },
      "execution_count": 8,
      "outputs": [
        {
          "output_type": "stream",
          "name": "stdout",
          "text": [
            "6.0\n",
            "8.0\n",
            "2.8284271247461903\n"
          ]
        }
      ]
    },
    {
      "cell_type": "code",
      "source": [
        "import numpy as np\n",
        "numbers=[2,4,6,8,10]\n",
        "var = np.var(numbers)\n",
        "sd = np.std(numbers)\n",
        "print(var)\n",
        "print(sd)\n"
      ],
      "metadata": {
        "colab": {
          "base_uri": "https://localhost:8080/"
        },
        "id": "pq78Qt-IqSqK",
        "outputId": "929044d0-93f0-4748-f0c0-e19f489003bb"
      },
      "execution_count": 9,
      "outputs": [
        {
          "output_type": "stream",
          "name": "stdout",
          "text": [
            "8.0\n",
            "2.8284271247461903\n"
          ]
        }
      ]
    },
    {
      "cell_type": "markdown",
      "source": [
        "Covariance and Correlation\n",
        "\n",
        "-These are two measures that describe the strength and direction of the relationship between two variables.\n",
        "1. Covariance indicates how 2 variables vary/change with respect to each other.If the variables tend to increase or decrease simultaneously, we say we have a positive covariance.If one of the variables increases while the other decreases, we say we have a negative covariance.\n",
        "\n",
        "2. Correlation - it is a standardized measure of covariance. Obtained by dividing the covariance by the product of the standard deviation of the two variables.\n"
      ],
      "metadata": {
        "id": "I91F6udHuJe3"
      }
    },
    {
      "cell_type": "code",
      "source": [
        "import numpy as np\n",
        "\n",
        "size_of_land =[1,2,3,4,5,6]\n",
        "price = [300000,500000,650000,700000,850000,1000000]\n",
        "print(np.cov(size_of_land,price)[0,1])"
      ],
      "metadata": {
        "colab": {
          "base_uri": "https://localhost:8080/"
        },
        "id": "_c9cduXwvKdc",
        "outputId": "7d970776-2311-41ca-d0d2-64955b662586"
      },
      "execution_count": 12,
      "outputs": [
        {
          "output_type": "stream",
          "name": "stdout",
          "text": [
            "460000.0\n"
          ]
        }
      ]
    },
    {
      "cell_type": "markdown",
      "source": [
        "Create a python function that calculates the correlation between two different variables."
      ],
      "metadata": {
        "id": "wEb8xchbxnCA"
      }
    },
    {
      "cell_type": "code",
      "source": [
        "import numpy as np\n",
        "def calc_correlation(numbers_1,numbers_2):\n",
        "  cov = np.cov(numbers_1,numbers_2)[0,1]\n",
        "  sd_1 = np.std(numbers_1)\n",
        "  sd_2 = np.std(numbers_2)\n",
        "  correlation = cov/(sd_1 * sd_2)\n",
        "  return correlation\n",
        "\n",
        "numbers_1 = [22,45,68,90,45,60]\n",
        "numbers_2 = [12,67,98,78,25,22]\n",
        "correlation= calc_correlation(numbers_1,numbers_2)\n",
        "print(correlation)\n",
        "\n",
        ""
      ],
      "metadata": {
        "colab": {
          "base_uri": "https://localhost:8080/"
        },
        "id": "7tmxufUUx1Ub",
        "outputId": "7530f041-6a90-489f-c1d3-d1a92992bedf"
      },
      "execution_count": 13,
      "outputs": [
        {
          "output_type": "stream",
          "name": "stdout",
          "text": [
            "0.8174926202434403\n"
          ]
        }
      ]
    }
  ]
}